{
 "cells": [
  {
   "cell_type": "code",
   "execution_count": 1,
   "metadata": {},
   "outputs": [
    {
     "output_type": "stream",
     "name": "stdout",
     "text": [
      "Warning: LBR backtrace method is not supported on this platform. DWARF backtrace method will be used.\n",
      "WARNING: Backtraces will not be collected because sampling is disabled.\n",
      "Collecting data...\n",
      "Processing events...\n",
      "Capturing symbol files...\n",
      "Saving temporary \"/tmp/nsys-report-3e4f-7590-e563-3688.qdstrm\" file to disk...\n",
      "Creating final output files...\n",
      "\n",
      "Processing [==============================================================100%]\n",
      "Saved report file to \"/tmp/nsys-report-3e4f-7590-e563-3688.qdrep\"\n",
      "Exporting 614938 events: [================================================100%]\n",
      "\n",
      "Exported successfully to\n",
      "/tmp/nsys-report-3e4f-7590-e563-3688.sqlite\n",
      "\n",
      "Generating CUDA API Statistics...\n",
      "CUDA API Statistics (nanoseconds)\n",
      "\n",
      "\n",
      "\n",
      "\n",
      "CUDA trace data was not collected.\n",
      "\n",
      "\n",
      "Generating Operating System Runtime API Statistics...\n",
      "Operating System Runtime API Statistics (nanoseconds)\n",
      "\n",
      "Time(%)      Total Time       Calls         Average         Minimum         Maximum  Name                                                                            \n",
      "-------  --------------  ----------  --------------  --------------  --------------  --------------------------------------------------------------------------------\n",
      "   98.9      1415691154      611079          2316.7            1000        13260913  sched_yield                                                                     \n",
      "    0.4         5683352         703          8084.4            1011          263789  read                                                                            \n",
      "    0.3         3731982         152         24552.5            2838         1235183  munmap                                                                          \n",
      "    0.2         3065709         628          4881.7            3035           17200  open64                                                                          \n",
      "    0.1         1536378          39         39394.3           22351          225528  pthread_create                                                                  \n",
      "    0.1         1284812         239          5375.8            1010           91074  mmap64                                                                          \n",
      "    0.0          341503          39          8756.5            2048           29360  mmap                                                                            \n",
      "    0.0           22903           1         22903.0           22903           22903  pthread_mutex_lock                                                              \n",
      "    0.0           15057           3          5019.0            2316            8001  fopen64                                                                         \n",
      "    0.0            4270           3          1423.3            1153            1679  sigaction                                                                       \n",
      "    0.0            3869           1          3869.0            3869            3869  fread                                                                           \n",
      "    0.0            3167           1          3167.0            3167            3167  fclose                                                                          \n",
      "    0.0            2306           2          1153.0            1119            1187  fcntl                                                                           \n",
      "    0.0            1326           1          1326.0            1326            1326  dup                                                                             \n",
      "\n",
      "\n",
      "\n",
      "\n",
      "Generating NVTX Push-Pop Range Statistics...\n",
      "NVTX Push-Pop Range Statistics (nanoseconds)\n",
      "\n",
      "Time(%)      Total Time   Instances         Average         Minimum         Maximum  Range                    \n",
      "-------  --------------  ----------  --------------  --------------  --------------  -------------------------\n",
      "   75.1    590514728592           5  196838242864.0    196799993999    196881173823  scipy_lombscargle_loop   \n",
      "   24.9    195690093506           1  195690093506.0    195690093506    195690093506  scipy_lombscargle        \n",
      "\n",
      "\n",
      "\n",
      "Report file moved to \"/home/odysseus/workStuff/cusignal-icassp-tutorial/notebooks/raw_cupy_cuda/scipy_v1.qdrep\"\n",
      "Report file moved to \"/home/odysseus/workStuff/cusignal-icassp-tutorial/notebooks/raw_cupy_cuda/scipy_v1.sqlite\"\n"
     ]
    }
   ],
   "source": [
    "!nsys profile -s none -o scipy_v1 -f true --stats=true python3 icassp_scipy_v1.py float32 5"
   ]
  },
  {
   "cell_type": "code",
   "execution_count": 2,
   "metadata": {},
   "outputs": [
    {
     "output_type": "stream",
     "name": "stdout",
     "text": [
      "Warning: LBR backtrace method is not supported on this platform. DWARF backtrace method will be used.\n",
      "WARNING: Backtraces will not be collected because sampling is disabled.\n",
      "Collecting data...\n",
      "Processing events...\n",
      "Capturing symbol files...\n",
      "Saving temporary \"/tmp/nsys-report-0c1a-00f8-bf2d-75e8.qdstrm\" file to disk...\n",
      "Creating final output files...\n",
      "\n",
      "Processing [==============================================================100%]\n",
      "Saved report file to \"/tmp/nsys-report-0c1a-00f8-bf2d-75e8.qdrep\"\n",
      "Exporting 655932 events: [================================================100%]\n",
      "\n",
      "Exported successfully to\n",
      "/tmp/nsys-report-0c1a-00f8-bf2d-75e8.sqlite\n",
      "\n",
      "Generating CUDA API Statistics...\n",
      "CUDA API Statistics (nanoseconds)\n",
      "\n",
      "\n",
      "\n",
      "\n",
      "CUDA trace data was not collected.\n",
      "\n",
      "\n",
      "Generating Operating System Runtime API Statistics...\n",
      "Operating System Runtime API Statistics (nanoseconds)\n",
      "\n",
      "Time(%)      Total Time       Calls         Average         Minimum         Maximum  Name                                                                            \n",
      "-------  --------------  ----------  --------------  --------------  --------------  --------------------------------------------------------------------------------\n",
      "   99.0      1311899364      652084          2011.9            1000         9081432  sched_yield                                                                     \n",
      "    0.4         5611952         709          7915.3            1023          179243  read                                                                            \n",
      "    0.2         3083161         628          4909.5            3147           13548  open64                                                                          \n",
      "    0.1         1985499         139         14284.2            2238          360653  munmap                                                                          \n",
      "    0.1         1497231          39         38390.5           20253          118306  pthread_create                                                                  \n",
      "    0.1          985283         225          4379.0            1025           39342  mmap64                                                                          \n",
      "    0.0          362704          39          9300.1            2366           55230  mmap                                                                            \n",
      "    0.0            8965           3          2988.3            1959            3586  fopen64                                                                         \n",
      "    0.0            7432           2          3716.0            1463            5969  pthread_cond_signal                                                             \n",
      "    0.0            3228           2          1614.0            1421            1807  sigaction                                                                       \n",
      "    0.0            3076           1          3076.0            3076            3076  fread                                                                           \n",
      "    0.0            2751           1          2751.0            2751            2751  fclose                                                                          \n",
      "    0.0            1187           1          1187.0            1187            1187  dup                                                                             \n",
      "\n",
      "\n",
      "\n",
      "\n",
      "Generating NVTX Push-Pop Range Statistics...\n",
      "NVTX Push-Pop Range Statistics (nanoseconds)\n",
      "\n",
      "Time(%)      Total Time   Instances         Average         Minimum         Maximum  Range                    \n",
      "-------  --------------  ----------  --------------  --------------  --------------  -------------------------\n",
      "   75.0    590665866117           5  196888622039.0    196835017409    196964906120  scipy_lombscargle_loop   \n",
      "   25.0    196885665544           1  196885665544.0    196885665544    196885665544  scipy_lombscargle        \n",
      "\n",
      "\n",
      "\n",
      "Report file moved to \"/home/odysseus/workStuff/cusignal-icassp-tutorial/notebooks/raw_cupy_cuda/scipy_v1.qdrep\"\n",
      "Report file moved to \"/home/odysseus/workStuff/cusignal-icassp-tutorial/notebooks/raw_cupy_cuda/scipy_v1.sqlite\"\n"
     ]
    }
   ],
   "source": [
    "!nsys profile -s none -o scipy_v1 -f true --stats=true python3 icassp_scipy_v1.py float64 5"
   ]
  },
  {
   "source": [
    "### Single Precision\n",
    "|                       | Registers | JIT (ms) | Kernel (ms) | Speed Up |\n",
    "|:----------------------|:----------|:---------|:------------|:---------|\n",
    "| Scipy                 | -         | 3,472.3  | 3,469.0     | 1.0      |\n",
    "| CuPy (Baseline)       |           |          |             |          |\n",
    "| CuPy (User Cache)     |           |          |             |          |\n",
    "| CuPy (Data Type)      |           |          |             |          |\n",
    "| CuPy (Fast Math)      |           |          |             |          |\n",
    "| CuPy (Fatbin)         |           |          |             |          |\n",
    "| CuPy (Launch Bounds)  |           |          |             |          |\n",
    "\n",
    "### Double Precision\n",
    "|                       | Registers | JIT (ms) | Kernel (ms) | Speed Up |\n",
    "|:----------------------|:----------|:---------|:------------|:---------|\n",
    "| Scipy                 | -         | 3,470.9  | 3,470.2     | 1.0      |\n",
    "| CuPy (Baseline)       |           |          |             |          |\n",
    "| CuPy (User Cache)     |           |          |             |          |\n",
    "| CuPy (Data Type)      |           |          |             |          |\n",
    "| CuPy (Fast Math)      |           |          |             |          |\n",
    "| CuPy (Fatbin)         |           |          |             |          |\n",
    "| CuPy (Launch Bounds)  |           |          |             |          |"
   ],
   "cell_type": "markdown",
   "metadata": {}
  },
  {
   "cell_type": "code",
   "execution_count": 3,
   "metadata": {},
   "outputs": [
    {
     "output_type": "stream",
     "name": "stdout",
     "text": [
      "Warning: LBR backtrace method is not supported on this platform. DWARF backtrace method will be used.\n",
      "WARNING: Backtraces will not be collected because sampling is disabled.\n",
      "Collecting data...\n",
      "Processing events...\n",
      "Capturing symbol files...\n",
      "Saving temporary \"/tmp/nsys-report-1145-d3d2-4c4c-a970.qdstrm\" file to disk...\n",
      "Creating final output files...\n",
      "\n",
      "Processing [==============================================================100%]\n",
      "Saved report file to \"/tmp/nsys-report-1145-d3d2-4c4c-a970.qdrep\"\n",
      "Exporting 643018 events: [================================================100%]\n",
      "\n",
      "Exported successfully to\n",
      "/tmp/nsys-report-1145-d3d2-4c4c-a970.sqlite\n",
      "\n",
      "Generating CUDA API Statistics...\n",
      "CUDA API Statistics (nanoseconds)\n",
      "\n",
      "Time(%)      Total Time       Calls         Average         Minimum         Maximum  Name                                                                            \n",
      "-------  --------------  ----------  --------------  --------------  --------------  --------------------------------------------------------------------------------\n",
      "   99.5     84688777543        2001      42323227.2        38788942        44550869  cudaDeviceSynchronize                                                           \n",
      "    0.5       433133243           6      72188873.8           12024       432194995  cudaMalloc                                                                      \n",
      "    0.0        30329355        2001         15157.1           13160           29509  cuLaunchKernel                                                                  \n",
      "    0.0         2728468           2       1364234.0         1075986         1652482  cudaHostAlloc                                                                   \n",
      "    0.0          317564           1        317564.0          317564          317564  cuModuleLoadData                                                                \n",
      "    0.0          109984           1        109984.0          109984          109984  cuModuleUnload                                                                  \n",
      "    0.0           57514           1         57514.0           57514           57514  cudaMemGetInfo                                                                  \n",
      "    0.0           48654           3         16218.0           12291           19718  cudaMemcpyAsync                                                                 \n",
      "    0.0           15534           3          5178.0            2299           10646  cudaEventCreateWithFlags                                                        \n",
      "    0.0           15382           5          3076.4            1659            4802  cudaEventQuery                                                                  \n",
      "    0.0           12253           3          4084.3            3479            4932  cudaEventRecord                                                                 \n",
      "    0.0            5007           2          2503.5            2470            2537  cudaEventDestroy                                                                \n",
      "\n",
      "\n",
      "\n",
      "\n",
      "Generating CUDA Kernel Statistics...\n",
      "CUDA Kernel Statistics (nanoseconds)\n",
      "\n",
      "Time(%)      Total Time   Instances         Average         Minimum         Maximum  Name                                                                                                                                                                                                                                                                                                                                         \n",
      "-------  --------------  ----------  --------------  --------------  --------------  --------------------------------------------------------------------------------------------------------------------                                                                                                                                                                                                                         \n",
      "  100.0     84685961622        2001      42321819.9        38788729        44549033  _cupy_lombscargle                                                                                                                                                                                                                                                                                                                            \n",
      "\n",
      "\n",
      "\n",
      "Generating CUDA Memory Operation Statistics...\n",
      "CUDA Memory Operation Statistics (nanoseconds)\n",
      "\n",
      "Time(%)      Total Time  Operations         Average         Minimum         Maximum  Name                                                                            \n",
      "-------  --------------  ----------  --------------  --------------  --------------  --------------------------------------------------------------------------------\n",
      "  100.0          348574           3        116191.3            4160          339485  [CUDA memcpy HtoD]                                                              \n",
      "\n",
      "\n",
      "CUDA Memory Operation Statistics (KiB)\n",
      "\n",
      "              Total      Operations              Average            Minimum              Maximum  Name                                                                            \n",
      "-------------------  --------------  -------------------  -----------------  -------------------  --------------------------------------------------------------------------------\n",
      "           4147.719               3             1382.573             25.859             4096.000  [CUDA memcpy HtoD]                                                              \n",
      "\n",
      "\n",
      "\n",
      "\n",
      "Generating Operating System Runtime API Statistics...\n",
      "Operating System Runtime API Statistics (nanoseconds)\n",
      "\n",
      "Time(%)      Total Time       Calls         Average         Minimum         Maximum  Name                                                                            \n",
      "-------  --------------  ----------  --------------  --------------  --------------  --------------------------------------------------------------------------------\n",
      "   49.6     85688871995         869      98606296.9           11466       100079225  sem_timedwait                                                                   \n",
      "   49.5     85496075866         867      98611390.8           27055       100129280  poll                                                                            \n",
      "    0.7      1229473464      627197          1960.3            1000          821678  sched_yield                                                                     \n",
      "    0.1       171129249        1125        152114.9            1001        77442730  ioctl                                                                           \n",
      "    0.0         5950472         738          8063.0            1000          226235  read                                                                            \n",
      "    0.0         4668561         755          6183.5            3268           21220  open64                                                                          \n",
      "    0.0         3339350         134         24920.5            2284         1062457  mmap                                                                            \n",
      "    0.0         1770169         139         12735.0            2565          106514  munmap                                                                          \n",
      "    0.0         1718035          43         39954.3           24323           72029  pthread_create                                                                  \n",
      "    0.0         1568312         218          7194.1            1029          432964  mmap64                                                                          \n",
      "    0.0          212762          35          6078.9            1428           74254  fopen                                                                           \n",
      "    0.0          186710           3         62236.7           60395           65485  fgets                                                                           \n",
      "    0.0           68878          13          5298.3            2955            7220  write                                                                           \n",
      "    0.0           56445          30          1881.5            1122            3635  fclose                                                                          \n",
      "    0.0           43971          38          1157.1            1000            3441  fcntl                                                                           \n",
      "    0.0           33268           5          6653.6            3980            8526  open                                                                            \n",
      "    0.0           29553           7          4221.9            2525            6492  fread                                                                           \n",
      "    0.0           12780           2          6390.0            4636            8144  socket                                                                          \n",
      "    0.0           11730           3          3910.0            2538            4919  fopen64                                                                         \n",
      "    0.0           11620           4          2905.0            1543            6307  signal                                                                          \n",
      "    0.0            8063           1          8063.0            8063            8063  connect                                                                         \n",
      "    0.0            6938           1          6938.0            6938            6938  pipe2                                                                           \n",
      "    0.0            4469           3          1489.7            1212            1790  sigaction                                                                       \n",
      "    0.0            2057           1          2057.0            2057            2057  bind                                                                            \n",
      "    0.0            1415           1          1415.0            1415            1415  dup                                                                             \n",
      "    0.0            1361           1          1361.0            1361            1361  pthread_cond_signal                                                             \n",
      "    0.0            1082           1          1082.0            1082            1082  listen                                                                          \n",
      "\n",
      "\n",
      "\n",
      "\n",
      "Generating NVTX Push-Pop Range Statistics...\n",
      "NVTX Push-Pop Range Statistics (nanoseconds)\n",
      "\n",
      "Time(%)      Total Time   Instances         Average         Minimum         Maximum  Range                   \n",
      "-------  --------------  ----------  --------------  --------------  --------------  ------------------------\n",
      "   99.8     84864142724        2000      42432071.4        38905841        44676001  cupy_lombscargle_loop   \n",
      "    0.2       167689136           1     167689136.0       167689136       167689136  cupy_lombscargle        \n",
      "\n",
      "\n",
      "\n",
      "Report file moved to \"/home/odysseus/workStuff/cusignal-icassp-tutorial/notebooks/raw_cupy_cuda/cupy_v1.qdrep\"\n",
      "Report file moved to \"/home/odysseus/workStuff/cusignal-icassp-tutorial/notebooks/raw_cupy_cuda/cupy_v1.sqlite\"\n"
     ]
    }
   ],
   "source": [
    "!nsys profile -s none -o cupy_v1 -f true --stats=true python3 icassp_cupy_v1.py float32 2000 0"
   ]
  },
  {
   "cell_type": "code",
   "execution_count": 4,
   "metadata": {},
   "outputs": [
    {
     "output_type": "stream",
     "name": "stdout",
     "text": [
      "Using cupy_v1.sqlite file for stats and reports.\nExporting [/opt/nvidia/nsight-systems/2020.3.2/target-linux-x64/reports/gpukernsum cupy_v1.sqlite] to console... \n\n Time(%)  Total Time (ns)  Instances    Average      Minimum     Maximum          Name       \n -------  ---------------  ---------  ------------  ----------  ----------  -----------------\n   100.0   84,685,961,622      2,001  42,321,819.9  38,788,729  44,549,033  _cupy_lombscargle\n\nExporting [/opt/nvidia/nsight-systems/2020.3.2/target-linux-x64/reports/nvtxppsum cupy_v1.sqlite] to console... \n\n Time(%)  Total Time (ns)  Instances     Average       Minimum      Maximum            Range        \n -------  ---------------  ---------  -------------  -----------  -----------  ---------------------\n    99.8   84,864,142,724      2,000   42,432,071.4   38,905,841   44,676,001  cupy_lombscargle_loop\n     0.2      167,689,136          1  167,689,136.0  167,689,136  167,689,136  cupy_lombscargle     \n\n"
     ]
    }
   ],
   "source": [
    "!nsys stats --report gpukernsum --report nvtxppsum cupy_v1.qdrep"
   ]
  },
  {
   "cell_type": "code",
   "execution_count": 5,
   "metadata": {},
   "outputs": [
    {
     "output_type": "stream",
     "name": "stdout",
     "text": [
      "Warning: LBR backtrace method is not supported on this platform. DWARF backtrace method will be used.\n",
      "WARNING: Backtraces will not be collected because sampling is disabled.\n",
      "Collecting data...\n",
      "Processing events...\n",
      "Capturing symbol files...\n",
      "Saving temporary \"/tmp/nsys-report-729d-0530-32b7-a1a9.qdstrm\" file to disk...\n",
      "Creating final output files...\n",
      "\n",
      "Processing [==============================================================100%]\n",
      "Saved report file to \"/tmp/nsys-report-729d-0530-32b7-a1a9.qdrep\"\n",
      "Report file moved to \"/home/odysseus/workStuff/cusignal-icassp-tutorial/notebooks/raw_cupy_cuda/cupy_v1.qdrep\"\n"
     ]
    }
   ],
   "source": [
    "!nsys profile -s none -o cupy_v1 -f true python3 icassp_cupy_v1.py float64 2000 0"
   ]
  },
  {
   "cell_type": "code",
   "execution_count": 6,
   "metadata": {},
   "outputs": [
    {
     "output_type": "stream",
     "name": "stdout",
     "text": [
      "Generate SQLite file cupy_v1.sqlite from cupy_v1.qdrep\n",
      "Exporting 634965 events: [================================================100%]\n",
      "Using cupy_v1.sqlite file for stats and reports.\n",
      "Exporting [/opt/nvidia/nsight-systems/2020.3.2/target-linux-x64/reports/gpukernsum cupy_v1.sqlite] to console... \n",
      "\n",
      " Time(%)  Total Time (ns)  Instances    Average      Minimum     Maximum          Name       \n",
      " -------  ---------------  ---------  ------------  ----------  ----------  -----------------\n",
      "   100.0  167,442,982,843      2,001  83,679,651.6  81,988,180  84,461,922  _cupy_lombscargle\n",
      "\n",
      "Exporting [/opt/nvidia/nsight-systems/2020.3.2/target-linux-x64/reports/nvtxppsum cupy_v1.sqlite] to console... \n",
      "\n",
      " Time(%)  Total Time (ns)  Instances     Average       Minimum      Maximum            Range        \n",
      " -------  ---------------  ---------  -------------  -----------  -----------  ---------------------\n",
      "    99.9  167,577,457,463      2,000   83,788,728.7   82,652,130   87,302,519  cupy_lombscargle_loop\n",
      "     0.1      205,249,187          1  205,249,187.0  205,249,187  205,249,187  cupy_lombscargle     \n",
      "\n"
     ]
    }
   ],
   "source": [
    "!nsys stats --report gpukernsum --report nvtxppsum cupy_v1.qdrep"
   ]
  },
  {
   "source": [
    "### Single Precision\n",
    "|                       | Registers | JIT (ms) | Kernel (ms) | Speed Up |\n",
    "|:----------------------|:----------|:---------|:------------|:---------|\n",
    "| Scipy                 | -         | 3,472.3  | 3,469.0     | 1.0      |\n",
    "| CuPy (Baseline)       |           | 401.1    | 0.911       | 3807.9   |\n",
    "| CuPy (User Cache)     |           |          |             |          |\n",
    "| CuPy (Data Type)      |           |          |             |          |\n",
    "| CuPy (Fast Math)      |           |          |             |          |\n",
    "| CuPy (Fatbin)         |           |          |             |          |\n",
    "| CuPy (Launch Bounds)  |           |          |             |          |\n",
    "\n",
    "### Double Precision\n",
    "|                       | Registers | JIT (ms) | Kernel (ms) | Speed Up |\n",
    "|:----------------------|:----------|:---------|:------------|:---------|\n",
    "| Scipy                 | -         | 3,470.9  | 3,470.2     | 1.0      |\n",
    "| CuPy (Baseline)       |           |          |             |          |\n",
    "| CuPy (User Cache)     |           |          |             |          |\n",
    "| CuPy (Data Type)      |           |          |             |          |\n",
    "| CuPy (Fast Math)      |           |          |             |          |\n",
    "| CuPy (Fatbin)         |           |          |             |          |\n",
    "| CuPy (Launch Bounds)  |           |          |             |          |"
   ],
   "cell_type": "markdown",
   "metadata": {}
  },
  {
   "cell_type": "code",
   "execution_count": 7,
   "metadata": {},
   "outputs": [
    {
     "output_type": "stream",
     "name": "stdout",
     "text": [
      "Warning: LBR backtrace method is not supported on this platform. DWARF backtrace method will be used.\n",
      "WARNING: Backtraces will not be collected because sampling is disabled.\n",
      "Collecting data...\n",
      "Registers 30\n",
      "Processing events...\n",
      "Capturing symbol files...\n",
      "Saving temporary \"/tmp/nsys-report-5378-060f-deaa-93e0.qdstrm\" file to disk...\n",
      "Creating final output files...\n",
      "\n",
      "Processing [==============================================================100%]\n",
      "Saved report file to \"/tmp/nsys-report-5378-060f-deaa-93e0.qdrep\"\n",
      "Report file moved to \"/home/odysseus/workStuff/cusignal-icassp-tutorial/notebooks/raw_cupy_cuda/cupy_v2.qdrep\"\n"
     ]
    }
   ],
   "source": [
    "!nsys profile -s none -o cupy_v2 -f true python3 icassp_cupy_v2.py float32 2000 0"
   ]
  },
  {
   "cell_type": "code",
   "execution_count": 8,
   "metadata": {},
   "outputs": [
    {
     "output_type": "stream",
     "name": "stdout",
     "text": [
      "Generate SQLite file cupy_v2.sqlite from cupy_v2.qdrep\n",
      "Exporting 640813 events: [================================================100%]\n",
      "Using cupy_v2.sqlite file for stats and reports.\n",
      "Exporting [/opt/nvidia/nsight-systems/2020.3.2/target-linux-x64/reports/gpukernsum cupy_v2.sqlite] to console... \n",
      "\n",
      " Time(%)  Total Time (ns)  Instances    Average      Minimum     Maximum          Name       \n",
      " -------  ---------------  ---------  ------------  ----------  ----------  -----------------\n",
      "   100.0   84,745,870,463      2,001  42,351,759.4  38,790,304  44,432,214  _cupy_lombscargle\n",
      "\n",
      "Exporting [/opt/nvidia/nsight-systems/2020.3.2/target-linux-x64/reports/nvtxppsum cupy_v2.sqlite] to console... \n",
      "\n",
      " Time(%)  Total Time (ns)  Instances     Average       Minimum      Maximum            Range        \n",
      " -------  ---------------  ---------  -------------  -----------  -----------  ---------------------\n",
      "    99.8   84,820,970,119      2,000   42,410,485.1   38,854,687   44,486,923  cupy_lombscargle_loop\n",
      "     0.2      163,117,269          1  163,117,269.0  163,117,269  163,117,269  cupy_lombscargle     \n",
      "\n"
     ]
    }
   ],
   "source": [
    "!nsys stats --report gpukernsum --report nvtxppsum cupy_v2.qdrep"
   ]
  },
  {
   "cell_type": "code",
   "execution_count": 9,
   "metadata": {},
   "outputs": [
    {
     "output_type": "stream",
     "name": "stdout",
     "text": [
      "Warning: LBR backtrace method is not supported on this platform. DWARF backtrace method will be used.\n",
      "WARNING: Backtraces will not be collected because sampling is disabled.\n",
      "Collecting data...\n",
      "Registers 48\n",
      "Processing events...\n",
      "Capturing symbol files...\n",
      "Saving temporary \"/tmp/nsys-report-c7f1-de75-0213-8773.qdstrm\" file to disk...\n",
      "Creating final output files...\n",
      "\n",
      "Processing [==============================================================100%]\n",
      "Saved report file to \"/tmp/nsys-report-c7f1-de75-0213-8773.qdrep\"\n",
      "Report file moved to \"/home/odysseus/workStuff/cusignal-icassp-tutorial/notebooks/raw_cupy_cuda/cupy_v2.qdrep\"\n"
     ]
    }
   ],
   "source": [
    "!nsys profile -s none -o cupy_v2 -f true python3 icassp_cupy_v2.py float64 2000 0"
   ]
  },
  {
   "cell_type": "code",
   "execution_count": 10,
   "metadata": {},
   "outputs": [
    {
     "output_type": "stream",
     "name": "stdout",
     "text": [
      "Generate SQLite file cupy_v2.sqlite from cupy_v2.qdrep\n",
      "Exporting 642854 events: [================================================100%]\n",
      "Using cupy_v2.sqlite file for stats and reports.\n",
      "Exporting [/opt/nvidia/nsight-systems/2020.3.2/target-linux-x64/reports/gpukernsum cupy_v2.sqlite] to console... \n",
      "\n",
      " Time(%)  Total Time (ns)  Instances    Average      Minimum     Maximum          Name       \n",
      " -------  ---------------  ---------  ------------  ----------  ----------  -----------------\n",
      "   100.0  168,085,588,817      2,001  84,000,794.0  82,271,576  84,966,117  _cupy_lombscargle\n",
      "\n",
      "Exporting [/opt/nvidia/nsight-systems/2020.3.2/target-linux-x64/reports/nvtxppsum cupy_v2.sqlite] to console... \n",
      "\n",
      " Time(%)  Total Time (ns)  Instances     Average       Minimum      Maximum            Range        \n",
      " -------  ---------------  ---------  -------------  -----------  -----------  ---------------------\n",
      "    99.9  168,130,033,365      2,000   84,065,016.7   82,841,719   85,031,179  cupy_lombscargle_loop\n",
      "     0.1      208,666,579          1  208,666,579.0  208,666,579  208,666,579  cupy_lombscargle     \n",
      "\n"
     ]
    }
   ],
   "source": [
    "!nsys stats --report gpukernsum --report nvtxppsum cupy_v2.qdrep"
   ]
  },
  {
   "source": [
    "### Single Precision\n",
    "|                       | Registers | JIT (ms) | Kernel (ms) | Speed Up |\n",
    "|:----------------------|:----------|:---------|:------------|:---------|\n",
    "| Scipy                 | -         | 2,140    | 2,139       | 1        |\n",
    "| Numba (Baseline)      |||||\n",
    "| Numba (User Cache)    |||||\n",
    "| Numba (Data Type)     |||||\n",
    "| Numba (Fast Math)     |||||\n",
    "| Numba (Max Registers) |||||\n",
    "\n",
    "### Double Precision\n",
    "|                       | Registers | JIT (ms) | Kernel (ms) | Speed Up |\n",
    "|:----------------------|:----------|:---------|:------------|:---------|\n",
    "| Scipy                 | -         | 2,158    | 2,153       | 1        |\n",
    "| Numba (Baseline)      |||||\n",
    "| Numba (User Cache)    |||||\n",
    "| Numba (Data Type)     |||||\n",
    "| Numba (Fast Math)     |||||\n",
    "| Numba (Max Registers) |||||"
   ],
   "cell_type": "markdown",
   "metadata": {}
  },
  {
   "cell_type": "code",
   "execution_count": 11,
   "metadata": {},
   "outputs": [
    {
     "output_type": "stream",
     "name": "stdout",
     "text": [
      "Warning: LBR backtrace method is not supported on this platform. DWARF backtrace method will be used.\n",
      "WARNING: Backtraces will not be collected because sampling is disabled.\n",
      "Collecting data...\n",
      "Registers 26\n",
      "Processing events...\n",
      "Capturing symbol files...\n",
      "Saving temporary \"/tmp/nsys-report-74b7-c8bf-0357-f166.qdstrm\" file to disk...\n",
      "Creating final output files...\n",
      "\n",
      "Processing [==============================================================100%]\n",
      "Saved report file to \"/tmp/nsys-report-74b7-c8bf-0357-f166.qdrep\"\n",
      "Report file moved to \"/home/odysseus/workStuff/cusignal-icassp-tutorial/notebooks/raw_cupy_cuda/cupy_v3.qdrep\"\n"
     ]
    }
   ],
   "source": [
    "!nsys profile -s none -o cupy_v3 -f true python3 icassp_cupy_v3.py float32 2000 0"
   ]
  },
  {
   "cell_type": "code",
   "execution_count": 12,
   "metadata": {},
   "outputs": [
    {
     "output_type": "stream",
     "name": "stdout",
     "text": [
      "Generate SQLite file cupy_v3.sqlite from cupy_v3.qdrep\n",
      "Exporting 621943 events: [================================================100%]\n",
      "Using cupy_v3.sqlite file for stats and reports.\n",
      "Exporting [/opt/nvidia/nsight-systems/2020.3.2/target-linux-x64/reports/gpukernsum cupy_v3.sqlite] to console... \n",
      "\n",
      " Time(%)  Total Time (ns)  Instances     Average       Minimum      Maximum              Name           \n",
      " -------  ---------------  ---------  -------------  -----------  -----------  -------------------------\n",
      "   100.0  344,563,605,443      2,001  172,195,704.9  165,755,399  172,874,166  _cupy_lombscargle_float32\n",
      "\n",
      "Exporting [/opt/nvidia/nsight-systems/2020.3.2/target-linux-x64/reports/nvtxppsum cupy_v3.sqlite] to console... \n",
      "\n",
      " Time(%)  Total Time (ns)  Instances     Average       Minimum      Maximum            Range        \n",
      " -------  ---------------  ---------  -------------  -----------  -----------  ---------------------\n",
      "    99.9  344,686,946,429      2,000  172,343,473.2  165,858,718  242,589,950  cupy_lombscargle_loop\n",
      "     0.1      297,485,913          1  297,485,913.0  297,485,913  297,485,913  cupy_lombscargle     \n",
      "\n"
     ]
    }
   ],
   "source": [
    "!nsys stats --report gpukernsum --report nvtxppsum cupy_v3.qdrep"
   ]
  },
  {
   "cell_type": "code",
   "execution_count": 13,
   "metadata": {},
   "outputs": [
    {
     "output_type": "stream",
     "name": "stdout",
     "text": [
      "Warning: LBR backtrace method is not supported on this platform. DWARF backtrace method will be used.\n",
      "WARNING: Backtraces will not be collected because sampling is disabled.\n",
      "Collecting data...\n",
      "Registers 48\n",
      "Processing events...\n",
      "Capturing symbol files...\n",
      "Saving temporary \"/tmp/nsys-report-005a-b728-83c2-e5d8.qdstrm\" file to disk...\n",
      "Creating final output files...\n",
      "\n",
      "Processing [==============================================================100%]\n",
      "Saved report file to \"/tmp/nsys-report-005a-b728-83c2-e5d8.qdrep\"\n",
      "Report file moved to \"/home/odysseus/workStuff/cusignal-icassp-tutorial/notebooks/raw_cupy_cuda/cupy_v3.qdrep\"\n"
     ]
    }
   ],
   "source": [
    "!nsys profile -s none -o cupy_v3 -f true python3 icassp_cupy_v3.py float64 2000 0"
   ]
  },
  {
   "cell_type": "code",
   "execution_count": 14,
   "metadata": {},
   "outputs": [
    {
     "output_type": "stream",
     "name": "stdout",
     "text": [
      "Generate SQLite file cupy_v3.sqlite from cupy_v3.qdrep\n",
      "Exporting 659003 events: [================================================100%]\n",
      "Using cupy_v3.sqlite file for stats and reports.\n",
      "Exporting [/opt/nvidia/nsight-systems/2020.3.2/target-linux-x64/reports/gpukernsum cupy_v3.sqlite] to console... \n",
      "\n",
      " Time(%)  Total Time (ns)  Instances     Average       Minimum      Maximum              Name           \n",
      " -------  ---------------  ---------  -------------  -----------  -----------  -------------------------\n",
      "   100.0  669,407,968,861      2,001  334,536,716.1  328,522,380  336,758,415  _cupy_lombscargle_float64\n",
      "\n",
      "Exporting [/opt/nvidia/nsight-systems/2020.3.2/target-linux-x64/reports/nvtxppsum cupy_v3.sqlite] to console... \n",
      "\n",
      " Time(%)  Total Time (ns)  Instances     Average       Minimum      Maximum            Range        \n",
      " -------  ---------------  ---------  -------------  -----------  -----------  ---------------------\n",
      "    99.9  669,316,403,841      2,000  334,658,201.9  329,039,271  336,862,452  cupy_lombscargle_loop\n",
      "     0.1      454,820,235          1  454,820,235.0  454,820,235  454,820,235  cupy_lombscargle     \n",
      "\n"
     ]
    }
   ],
   "source": [
    "!nsys stats --report gpukernsum --report nvtxppsum cupy_v3.qdrep"
   ]
  },
  {
   "source": [
    "### Single Precision\n",
    "|                       | Registers | JIT (ms) | Kernel (ms) | Speed Up |\n",
    "|:----------------------|:----------|:---------|:------------|:---------|\n",
    "| Scipy                 | -         | 2,140    | 2,139       | 1        |\n",
    "| Numba (Baseline)      |||||\n",
    "| Numba (User Cache)    |||||\n",
    "| Numba (Data Type)     |||||\n",
    "| Numba (Fast Math)     |||||\n",
    "| Numba (Max Registers) |||||\n",
    "\n",
    "### Double Precision\n",
    "|                       | Registers | JIT (ms) | Kernel (ms) | Speed Up |\n",
    "|:----------------------|:----------|:---------|:------------|:---------|\n",
    "| Scipy                 | -         | 2,158    | 2,153       | 1        |\n",
    "| Numba (Baseline)      |||||\n",
    "| Numba (User Cache)    |||||\n",
    "| Numba (Data Type)     |||||\n",
    "| Numba (Fast Math)     |||||\n",
    "| Numba (Max Registers) |||||"
   ],
   "cell_type": "markdown",
   "metadata": {}
  },
  {
   "cell_type": "code",
   "execution_count": 15,
   "metadata": {},
   "outputs": [
    {
     "output_type": "stream",
     "name": "stdout",
     "text": [
      "Warning: LBR backtrace method is not supported on this platform. DWARF backtrace method will be used.\n",
      "WARNING: Backtraces will not be collected because sampling is disabled.\n",
      "Collecting data...\n",
      "Registers 32\n",
      "Processing events...\n",
      "Capturing symbol files...\n",
      "Saving temporary \"/tmp/nsys-report-5894-f891-dc73-3353.qdstrm\" file to disk...\n",
      "Creating final output files...\n",
      "\n",
      "Processing [==============================================================100%]\n",
      "Saved report file to \"/tmp/nsys-report-5894-f891-dc73-3353.qdrep\"\n",
      "Report file moved to \"/home/odysseus/workStuff/cusignal-icassp-tutorial/notebooks/raw_cupy_cuda/cupy_v4.qdrep\"\n"
     ]
    }
   ],
   "source": [
    "!nsys profile -s none -o cupy_v4 -f true python3 icassp_cupy_v4.py float32 2000 0"
   ]
  },
  {
   "cell_type": "code",
   "execution_count": 16,
   "metadata": {},
   "outputs": [
    {
     "output_type": "stream",
     "name": "stdout",
     "text": [
      "Generate SQLite file cupy_v4.sqlite from cupy_v4.qdrep\n",
      "Exporting 620992 events: [================================================100%]\n",
      "Using cupy_v4.sqlite file for stats and reports.\n",
      "Exporting [/opt/nvidia/nsight-systems/2020.3.2/target-linux-x64/reports/gpukernsum cupy_v4.sqlite] to console... \n",
      "\n",
      " Time(%)  Total Time (ns)  Instances    Average     Minimum    Maximum             Name           \n",
      " -------  ---------------  ---------  -----------  ---------  ---------  -------------------------\n",
      "   100.0   17,933,945,018      2,001  8,962,491.3  8,575,970  9,618,043  _cupy_lombscargle_float32\n",
      "\n",
      "Exporting [/opt/nvidia/nsight-systems/2020.3.2/target-linux-x64/reports/nvtxppsum cupy_v4.sqlite] to console... \n",
      "\n",
      " Time(%)  Total Time (ns)  Instances     Average       Minimum      Maximum            Range        \n",
      " -------  ---------------  ---------  -------------  -----------  -----------  ---------------------\n",
      "    99.3   18,126,677,682      2,000    9,063,338.8    8,680,057    9,716,641  cupy_lombscargle_loop\n",
      "     0.7      133,880,589          1  133,880,589.0  133,880,589  133,880,589  cupy_lombscargle     \n",
      "\n"
     ]
    }
   ],
   "source": [
    "!nsys stats --report gpukernsum --report nvtxppsum cupy_v4.qdrep"
   ]
  },
  {
   "cell_type": "code",
   "execution_count": null,
   "metadata": {},
   "outputs": [],
   "source": [
    "!nsys profile -s none -o cupy_v4 -f true python3 icassp_cupy_v4.py float64 2000 0"
   ]
  },
  {
   "cell_type": "code",
   "execution_count": null,
   "metadata": {},
   "outputs": [],
   "source": [
    "!nsys stats --report gpukernsum --report nvtxppsum cupy_v4.qdrep"
   ]
  },
  {
   "source": [
    "### Single Precision\n",
    "|                       | Registers | JIT (ms) | Kernel (ms) | Speed Up |\n",
    "|:----------------------|:----------|:---------|:------------|:---------|\n",
    "| Scipy                 | -         | 2,140    | 2,139       | 1        |\n",
    "| Numba (Baseline)      |||||\n",
    "| Numba (User Cache)    |||||\n",
    "| Numba (Data Type)     |||||\n",
    "| Numba (Fast Math)     |||||\n",
    "| Numba (Max Registers) |||||\n",
    "\n",
    "### Double Precision\n",
    "|                       | Registers | JIT (ms) | Kernel (ms) | Speed Up |\n",
    "|:----------------------|:----------|:---------|:------------|:---------|\n",
    "| Scipy                 | -         | 2,158    | 2,153       | 1        |\n",
    "| Numba (Baseline)      |||||\n",
    "| Numba (User Cache)    |||||\n",
    "| Numba (Data Type)     |||||\n",
    "| Numba (Fast Math)     |||||\n",
    "| Numba (Max Registers) |||||"
   ],
   "cell_type": "markdown",
   "metadata": {}
  },
  {
   "cell_type": "code",
   "execution_count": null,
   "metadata": {},
   "outputs": [],
   "source": [
    "!nvcc --fatbin -std=c++11 --use_fast_math \\\n",
    "    --generate-code arch=compute_70,code=sm_70 \\\n",
    "    --generate-code arch=compute_75,code=sm_75 \\\n",
    "    --generate-code arch=compute_80,code=[sm_80,compute_80] \\\n",
    "    _lombscargle.cu -odir ."
   ]
  },
  {
   "cell_type": "code",
   "execution_count": null,
   "metadata": {},
   "outputs": [],
   "source": [
    "!nsys profile -s none -o cupy_v5 -f true python3 icassp_cupy_v5.py float32 2000 0"
   ]
  },
  {
   "cell_type": "code",
   "execution_count": null,
   "metadata": {},
   "outputs": [],
   "source": [
    "!nsys stats --report gpukernsum --report nvtxppsum cupy_v5.qdrep"
   ]
  },
  {
   "cell_type": "code",
   "execution_count": null,
   "metadata": {},
   "outputs": [],
   "source": [
    "!nsys profile -s none -o cupy_v5 -f true python3 icassp_cupy_v5.py float64 2000 0"
   ]
  },
  {
   "cell_type": "code",
   "execution_count": null,
   "metadata": {},
   "outputs": [],
   "source": [
    "!nsys stats --report gpukernsum --report nvtxppsum cupy_v5.qdrep"
   ]
  },
  {
   "source": [
    "### Single Precision\n",
    "|                       | Registers | JIT (ms) | Kernel (ms) | Speed Up |\n",
    "|:----------------------|:----------|:---------|:------------|:---------|\n",
    "| Scipy                 | -         | 2,140    | 2,139       | 1        |\n",
    "| Numba (Baseline)      |||||\n",
    "| Numba (User Cache)    |||||\n",
    "| Numba (Data Type)     |||||\n",
    "| Numba (Fast Math)     |||||\n",
    "| Numba (Max Registers) |||||\n",
    "\n",
    "### Double Precision\n",
    "|                       | Registers | JIT (ms) | Kernel (ms) | Speed Up |\n",
    "|:----------------------|:----------|:---------|:------------|:---------|\n",
    "| Scipy                 | -         | 2,158    | 2,153       | 1        |\n",
    "| Numba (Baseline)      |||||\n",
    "| Numba (User Cache)    |||||\n",
    "| Numba (Data Type)     |||||\n",
    "| Numba (Fast Math)     |||||\n",
    "| Numba (Max Registers) |||||"
   ],
   "cell_type": "markdown",
   "metadata": {}
  },
  {
   "cell_type": "code",
   "execution_count": null,
   "metadata": {},
   "outputs": [],
   "source": [
    "!nvcc --fatbin -std=c++11 --use_fast_math \\\n",
    "    --generate-code arch=compute_70,code=sm_70 \\\n",
    "    --generate-code arch=compute_75,code=sm_75 \\\n",
    "    --generate-code arch=compute_80,code=[sm_80,compute_80] \\\n",
    "    _lombscargle_lb.cu -odir ."
   ]
  },
  {
   "cell_type": "code",
   "execution_count": null,
   "metadata": {},
   "outputs": [],
   "source": [
    "!nsys profile -s none -o cupy_v6 -f true python3 icassp_cupy_v6.py float32 2000 0"
   ]
  },
  {
   "cell_type": "code",
   "execution_count": null,
   "metadata": {},
   "outputs": [],
   "source": [
    "!nsys stats --report gpukernsum --report nvtxppsum cupy_v6.qdrep"
   ]
  },
  {
   "cell_type": "code",
   "execution_count": null,
   "metadata": {},
   "outputs": [],
   "source": [
    "!nsys profile -s none -o cupy_v6 -f true python3 icassp_cupy_v6.py float64 2000 0"
   ]
  },
  {
   "cell_type": "code",
   "execution_count": null,
   "metadata": {},
   "outputs": [],
   "source": [
    "!nsys stats --report gpukernsum --report nvtxppsum cupy_v6.qdrep"
   ]
  },
  {
   "source": [
    "### Single Precision\n",
    "|                       | Registers | JIT (ms) | Kernel (ms) | Speed Up |\n",
    "|:----------------------|:----------|:---------|:------------|:---------|\n",
    "| Scipy                 | -         | 2,140    | 2,139       | 1        |\n",
    "| Numba (Baseline)      |||||\n",
    "| Numba (User Cache)    |||||\n",
    "| Numba (Data Type)     |||||\n",
    "| Numba (Fast Math)     |||||\n",
    "| Numba (Max Registers) |||||\n",
    "\n",
    "### Double Precision\n",
    "|                       | Registers | JIT (ms) | Kernel (ms) | Speed Up |\n",
    "|:----------------------|:----------|:---------|:------------|:---------|\n",
    "| Scipy                 | -         | 2,158    | 2,153       | 1        |\n",
    "| Numba (Baseline)      |||||\n",
    "| Numba (User Cache)    |||||\n",
    "| Numba (Data Type)     |||||\n",
    "| Numba (Fast Math)     |||||\n",
    "| Numba (Max Registers) |||||"
   ],
   "cell_type": "markdown",
   "metadata": {}
  }
 ],
 "metadata": {
  "kernelspec": {
   "name": "cusignal2",
   "display_name": "cusignal2",
   "language": "python"
  }
 },
 "nbformat": 4,
 "nbformat_minor": 4
}