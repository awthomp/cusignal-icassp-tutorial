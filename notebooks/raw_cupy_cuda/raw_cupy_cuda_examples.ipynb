{
 "cells": [
  {
   "cell_type": "code",
   "execution_count": null,
   "metadata": {},
   "outputs": [],
   "source": [
    "!nsys profile -s none -o scipy_v1 -f true --stats=true python3 icassp_scipy_v1.py float32 5"
   ]
  },
  {
   "cell_type": "code",
   "execution_count": null,
   "metadata": {},
   "outputs": [],
   "source": [
    "!nsys profile -s none -o scipy_v1 -f true --stats=true python3 icassp_scipy_v1.py float64 5"
   ]
  },
  {
   "source": [
    "### Single Precision\n",
    "|                       | Registers | JIT (ms) | Kernel (ms) | Speed Up |\n",
    "|:----------------------|:----------|:---------|:------------|:---------|\n",
    "| Scipy                 | -         | 2,140    | 2,139       | 1        |\n",
    "| Numba (Baseline)      |||||\n",
    "| Numba (User Cache)    |||||\n",
    "| Numba (Data Type)     |||||\n",
    "| Numba (Fast Math)     |||||\n",
    "| Numba (Max Registers) |||||\n",
    "\n",
    "### Double Precision\n",
    "|                       | Registers | JIT (ms) | Kernel (ms) | Speed Up |\n",
    "|:----------------------|:----------|:---------|:------------|:---------|\n",
    "| Scipy                 | -         | 2,158    | 2,153       | 1        |\n",
    "| Numba (Baseline)      |||||\n",
    "| Numba (User Cache)    |||||\n",
    "| Numba (Data Type)     |||||\n",
    "| Numba (Fast Math)     |||||\n",
    "| Numba (Max Registers) |||||"
   ],
   "cell_type": "markdown",
   "metadata": {}
  },
  {
   "cell_type": "code",
   "execution_count": null,
   "metadata": {},
   "outputs": [],
   "source": [
    "!nsys profile -s none -o cupy_v1 -f true --stats=true python3 icassp_cupy_v1.py float32 100"
   ]
  },
  {
   "cell_type": "code",
   "execution_count": null,
   "metadata": {},
   "outputs": [],
   "source": [
    "!nsys stats --report gpukernsum --report nvtxppsum cupy_v1.qdrep"
   ]
  },
  {
   "cell_type": "code",
   "execution_count": null,
   "metadata": {},
   "outputs": [],
   "source": [
    "!nsys profile -s none -o cupy_v1 -f true --stats=true python3 icassp_cupy_v1.py float64 100"
   ]
  },
  {
   "cell_type": "code",
   "execution_count": null,
   "metadata": {},
   "outputs": [],
   "source": [
    "!nsys stats --report gpukernsum --report nvtxppsum cupy_v1.qdrep"
   ]
  },
  {
   "source": [
    "### Single Precision\n",
    "|                       | Registers | JIT (ms) | Kernel (ms) | Speed Up |\n",
    "|:----------------------|:----------|:---------|:------------|:---------|\n",
    "| Scipy                 | -         | 2,140    | 2,139       | 1        |\n",
    "| Numba (Baseline)      |||||\n",
    "| Numba (User Cache)    |||||\n",
    "| Numba (Data Type)     |||||\n",
    "| Numba (Fast Math)     |||||\n",
    "| Numba (Max Registers) |||||\n",
    "\n",
    "### Double Precision\n",
    "|                       | Registers | JIT (ms) | Kernel (ms) | Speed Up |\n",
    "|:----------------------|:----------|:---------|:------------|:---------|\n",
    "| Scipy                 | -         | 2,158    | 2,153       | 1        |\n",
    "| Numba (Baseline)      |||||\n",
    "| Numba (User Cache)    |||||\n",
    "| Numba (Data Type)     |||||\n",
    "| Numba (Fast Math)     |||||\n",
    "| Numba (Max Registers) |||||"
   ],
   "cell_type": "markdown",
   "metadata": {}
  },
  {
   "cell_type": "code",
   "execution_count": null,
   "metadata": {},
   "outputs": [],
   "source": [
    "!nsys profile -s none -o cupy_v2 -f true python3 icassp_cupy_v2.py float32 100"
   ]
  },
  {
   "cell_type": "code",
   "execution_count": null,
   "metadata": {},
   "outputs": [],
   "source": [
    "!nsys stats --report gpukernsum --report nvtxppsum cupy_v2.qdrep"
   ]
  },
  {
   "cell_type": "code",
   "execution_count": null,
   "metadata": {},
   "outputs": [],
   "source": [
    "!nsys profile -s none -o cupy_v2 -f true python3 icassp_cupy_v2.py float64 100"
   ]
  },
  {
   "cell_type": "code",
   "execution_count": null,
   "metadata": {},
   "outputs": [],
   "source": [
    "!nsys stats --report gpukernsum --report nvtxppsum cupy_v2.qdrep"
   ]
  },
  {
   "source": [
    "### Single Precision\n",
    "|                       | Registers | JIT (ms) | Kernel (ms) | Speed Up |\n",
    "|:----------------------|:----------|:---------|:------------|:---------|\n",
    "| Scipy                 | -         | 2,140    | 2,139       | 1        |\n",
    "| Numba (Baseline)      |||||\n",
    "| Numba (User Cache)    |||||\n",
    "| Numba (Data Type)     |||||\n",
    "| Numba (Fast Math)     |||||\n",
    "| Numba (Max Registers) |||||\n",
    "\n",
    "### Double Precision\n",
    "|                       | Registers | JIT (ms) | Kernel (ms) | Speed Up |\n",
    "|:----------------------|:----------|:---------|:------------|:---------|\n",
    "| Scipy                 | -         | 2,158    | 2,153       | 1        |\n",
    "| Numba (Baseline)      |||||\n",
    "| Numba (User Cache)    |||||\n",
    "| Numba (Data Type)     |||||\n",
    "| Numba (Fast Math)     |||||\n",
    "| Numba (Max Registers) |||||"
   ],
   "cell_type": "markdown",
   "metadata": {}
  },
  {
   "cell_type": "code",
   "execution_count": null,
   "metadata": {},
   "outputs": [],
   "source": [
    "!nsys profile -s none -o cupy_v3 -f true python3 icassp_cupy_v3.py float32 100"
   ]
  },
  {
   "cell_type": "code",
   "execution_count": null,
   "metadata": {},
   "outputs": [],
   "source": [
    "!nsys stats --report gpukernsum --report nvtxppsum cupy_v3.qdrep"
   ]
  },
  {
   "cell_type": "code",
   "execution_count": null,
   "metadata": {},
   "outputs": [],
   "source": [
    "!nsys profile -s none -o cupy_v3 -f true python3 icassp_cupy_v3.py float64 100"
   ]
  },
  {
   "cell_type": "code",
   "execution_count": null,
   "metadata": {},
   "outputs": [],
   "source": [
    "!nsys stats --report gpukernsum --report nvtxppsum cupy_v3.qdrep"
   ]
  },
  {
   "source": [
    "### Single Precision\n",
    "|                       | Registers | JIT (ms) | Kernel (ms) | Speed Up |\n",
    "|:----------------------|:----------|:---------|:------------|:---------|\n",
    "| Scipy                 | -         | 2,140    | 2,139       | 1        |\n",
    "| Numba (Baseline)      |||||\n",
    "| Numba (User Cache)    |||||\n",
    "| Numba (Data Type)     |||||\n",
    "| Numba (Fast Math)     |||||\n",
    "| Numba (Max Registers) |||||\n",
    "\n",
    "### Double Precision\n",
    "|                       | Registers | JIT (ms) | Kernel (ms) | Speed Up |\n",
    "|:----------------------|:----------|:---------|:------------|:---------|\n",
    "| Scipy                 | -         | 2,158    | 2,153       | 1        |\n",
    "| Numba (Baseline)      |||||\n",
    "| Numba (User Cache)    |||||\n",
    "| Numba (Data Type)     |||||\n",
    "| Numba (Fast Math)     |||||\n",
    "| Numba (Max Registers) |||||"
   ],
   "cell_type": "markdown",
   "metadata": {}
  },
  {
   "cell_type": "code",
   "execution_count": null,
   "metadata": {},
   "outputs": [],
   "source": [
    "!nsys profile -s none -o cupy_v4 -f true python3 icassp_cupy_v4.py float32 100"
   ]
  },
  {
   "cell_type": "code",
   "execution_count": null,
   "metadata": {},
   "outputs": [],
   "source": [
    "!nsys stats --report gpukernsum --report nvtxppsum cupy_v4.qdrep"
   ]
  },
  {
   "cell_type": "code",
   "execution_count": null,
   "metadata": {},
   "outputs": [],
   "source": [
    "!nsys profile -s none -o cupy_v4 -f true python3 icassp_cupy_v4.py float64 100"
   ]
  },
  {
   "cell_type": "code",
   "execution_count": null,
   "metadata": {},
   "outputs": [],
   "source": [
    "!nsys stats --report gpukernsum --report nvtxppsum cupy_v4.qdrep"
   ]
  },
  {
   "source": [
    "### Single Precision\n",
    "|                       | Registers | JIT (ms) | Kernel (ms) | Speed Up |\n",
    "|:----------------------|:----------|:---------|:------------|:---------|\n",
    "| Scipy                 | -         | 2,140    | 2,139       | 1        |\n",
    "| Numba (Baseline)      |||||\n",
    "| Numba (User Cache)    |||||\n",
    "| Numba (Data Type)     |||||\n",
    "| Numba (Fast Math)     |||||\n",
    "| Numba (Max Registers) |||||\n",
    "\n",
    "### Double Precision\n",
    "|                       | Registers | JIT (ms) | Kernel (ms) | Speed Up |\n",
    "|:----------------------|:----------|:---------|:------------|:---------|\n",
    "| Scipy                 | -         | 2,158    | 2,153       | 1        |\n",
    "| Numba (Baseline)      |||||\n",
    "| Numba (User Cache)    |||||\n",
    "| Numba (Data Type)     |||||\n",
    "| Numba (Fast Math)     |||||\n",
    "| Numba (Max Registers) |||||"
   ],
   "cell_type": "markdown",
   "metadata": {}
  },
  {
   "cell_type": "code",
   "execution_count": null,
   "metadata": {},
   "outputs": [],
   "source": [
    "!nvcc --fatbin -std=c++11 --use_fast_math \\\n",
    "    --generate-code arch=compute_70,code=sm_70 \\\n",
    "    --generate-code arch=compute_75,code=sm_75 \\\n",
    "    --generate-code arch=compute_80,code=[sm_80,compute_80] \\\n",
    "    _lombscargle.cu -odir ."
   ]
  },
  {
   "cell_type": "code",
   "execution_count": null,
   "metadata": {},
   "outputs": [],
   "source": [
    "!nsys profile -s none -o cupy_v5 -f true python3 icassp_cupy_v5.py float32 100"
   ]
  },
  {
   "cell_type": "code",
   "execution_count": null,
   "metadata": {},
   "outputs": [],
   "source": [
    "!nsys stats --report gpukernsum --report nvtxppsum cupy_v5.qdrep"
   ]
  },
  {
   "cell_type": "code",
   "execution_count": null,
   "metadata": {},
   "outputs": [],
   "source": [
    "!nsys profile -s none -o cupy_v5 -f true python3 icassp_cupy_v5.py float64 100"
   ]
  },
  {
   "cell_type": "code",
   "execution_count": null,
   "metadata": {},
   "outputs": [],
   "source": [
    "!nsys stats --report gpukernsum --report nvtxppsum cupy_v5.qdrep"
   ]
  },
  {
   "source": [
    "### Single Precision\n",
    "|                       | Registers | JIT (ms) | Kernel (ms) | Speed Up |\n",
    "|:----------------------|:----------|:---------|:------------|:---------|\n",
    "| Scipy                 | -         | 2,140    | 2,139       | 1        |\n",
    "| Numba (Baseline)      |||||\n",
    "| Numba (User Cache)    |||||\n",
    "| Numba (Data Type)     |||||\n",
    "| Numba (Fast Math)     |||||\n",
    "| Numba (Max Registers) |||||\n",
    "\n",
    "### Double Precision\n",
    "|                       | Registers | JIT (ms) | Kernel (ms) | Speed Up |\n",
    "|:----------------------|:----------|:---------|:------------|:---------|\n",
    "| Scipy                 | -         | 2,158    | 2,153       | 1        |\n",
    "| Numba (Baseline)      |||||\n",
    "| Numba (User Cache)    |||||\n",
    "| Numba (Data Type)     |||||\n",
    "| Numba (Fast Math)     |||||\n",
    "| Numba (Max Registers) |||||"
   ],
   "cell_type": "markdown",
   "metadata": {}
  },
  {
   "cell_type": "code",
   "execution_count": null,
   "metadata": {},
   "outputs": [],
   "source": [
    "!nvcc --fatbin -std=c++11 --use_fast_math \\\n",
    "    --generate-code arch=compute_70,code=sm_70 \\\n",
    "    --generate-code arch=compute_75,code=sm_75 \\\n",
    "    --generate-code arch=compute_80,code=[sm_80,compute_80] \\\n",
    "    _lombscargle_lb.cu -odir ."
   ]
  },
  {
   "cell_type": "code",
   "execution_count": null,
   "metadata": {},
   "outputs": [],
   "source": [
    "!nsys profile -s none -o cupy_v6 -f true python3 icassp_cupy_v6.py float32 100"
   ]
  },
  {
   "cell_type": "code",
   "execution_count": null,
   "metadata": {},
   "outputs": [],
   "source": [
    "!nsys stats --report gpukernsum --report nvtxppsum cupy_v6.qdrep"
   ]
  },
  {
   "cell_type": "code",
   "execution_count": null,
   "metadata": {},
   "outputs": [],
   "source": [
    "!nsys profile -s none -o cupy_v6 -f true python3 icassp_cupy_v6.py float64 100"
   ]
  },
  {
   "cell_type": "code",
   "execution_count": null,
   "metadata": {},
   "outputs": [],
   "source": [
    "!nsys stats --report gpukernsum --report nvtxppsum cupy_v6.qdrep"
   ]
  },
  {
   "source": [
    "### Single Precision\n",
    "|                       | Registers | JIT (ms) | Kernel (ms) | Speed Up |\n",
    "|:----------------------|:----------|:---------|:------------|:---------|\n",
    "| Scipy                 | -         | 2,140    | 2,139       | 1        |\n",
    "| Numba (Baseline)      |||||\n",
    "| Numba (User Cache)    |||||\n",
    "| Numba (Data Type)     |||||\n",
    "| Numba (Fast Math)     |||||\n",
    "| Numba (Max Registers) |||||\n",
    "\n",
    "### Double Precision\n",
    "|                       | Registers | JIT (ms) | Kernel (ms) | Speed Up |\n",
    "|:----------------------|:----------|:---------|:------------|:---------|\n",
    "| Scipy                 | -         | 2,158    | 2,153       | 1        |\n",
    "| Numba (Baseline)      |||||\n",
    "| Numba (User Cache)    |||||\n",
    "| Numba (Data Type)     |||||\n",
    "| Numba (Fast Math)     |||||\n",
    "| Numba (Max Registers) |||||"
   ],
   "cell_type": "markdown",
   "metadata": {}
  }
 ],
 "metadata": {
  "kernelspec": {
   "display_name": "cusignal_cupy8",
   "language": "python",
   "name": "cusignal_cupy8"
  },
  "language_info": {
   "codemirror_mode": {
    "name": "ipython",
    "version": 3
   },
   "file_extension": ".py",
   "mimetype": "text/x-python",
   "name": "python",
   "nbconvert_exporter": "python",
   "pygments_lexer": "ipython3",
   "version": "3.8.8"
  }
 },
 "nbformat": 4,
 "nbformat_minor": 4
}