{
 "cells": [
  {
   "source": [
    "# Hardware\n",
    "### DGX Station\n",
    "V100 SMX2 16GB\n",
    "\n",
    "Intel Xeon E5-2968 v4 @ 2.20GHz\n",
    "\n",
    "# Software\n",
    "CUDA 11.0\n",
    "\n",
    "cuSignal 0.19\n",
    "\n",
    "SciPy 1.6.3\n",
    "\n",
    "Numba 0.53.1\n",
    "\n",
    "# Profiling\n",
    "[Nsight Systems](https://docs.nvidia.com/nsight-systems/UserGuide/index.html)"
   ],
   "cell_type": "markdown",
   "metadata": {}
  },
  {
   "source": [
    "## CPU Baseline\n",
    "Baseline Scipy's Signal Lombscargle function"
   ],
   "cell_type": "markdown",
   "metadata": {}
  },
  {
   "cell_type": "code",
   "execution_count": 1,
   "metadata": {},
   "outputs": [
    {
     "output_type": "stream",
     "name": "stdout",
     "text": [
      "Warning: LBR backtrace method is not supported on this platform. DWARF backtrace method will be used.\n",
      "WARNING: Backtraces will not be collected because sampling is disabled.\n",
      "Collecting data...\n",
      "Processing events...\n",
      "Capturing symbol files...\n",
      "Saving temporary \"/tmp/nsys-report-1ebf-808d-66fd-2f5f.qdstrm\" file to disk...\n",
      "Creating final output files...\n",
      "\n",
      "Processing [==============================================================100%]\n",
      "Saved report file to \"/tmp/nsys-report-1ebf-808d-66fd-2f5f.qdrep\"\n",
      "Exporting 614774 events: [================================================100%]\n",
      "\n",
      "Exported successfully to\n",
      "/tmp/nsys-report-1ebf-808d-66fd-2f5f.sqlite\n",
      "\n",
      "Generating CUDA API Statistics...\n",
      "CUDA API Statistics (nanoseconds)\n",
      "\n",
      "\n",
      "\n",
      "\n",
      "CUDA trace data was not collected.\n",
      "\n",
      "\n",
      "Generating Operating System Runtime API Statistics...\n",
      "Operating System Runtime API Statistics (nanoseconds)\n",
      "\n",
      "Time(%)      Total Time       Calls         Average         Minimum         Maximum  Name                                                                            \n",
      "-------  --------------  ----------  --------------  --------------  --------------  --------------------------------------------------------------------------------\n",
      "   98.9      1299350325      612388          2121.8            1000          670351  sched_yield                                                                     \n",
      "    0.5         5912789         709          8339.6            1006          186072  read                                                                            \n",
      "    0.2         3237326         628          5155.0            3436           16941  open64                                                                          \n",
      "    0.1         1671472          39         42858.3           23482          109140  pthread_create                                                                  \n",
      "    0.1         1645587         117         14064.8            3017           90368  munmap                                                                          \n",
      "    0.1          997201         203          4912.3            1099           59648  mmap64                                                                          \n",
      "    0.0          404683          39         10376.5            3379           54627  mmap                                                                            \n",
      "    0.0           11191           3          3730.3            2408            4470  fopen64                                                                         \n",
      "    0.0            4946           3          1648.7            1260            1932  sigaction                                                                       \n",
      "    0.0            3820           1          3820.0            3820            3820  fread                                                                           \n",
      "    0.0            3290           1          3290.0            3290            3290  fclose                                                                          \n",
      "    0.0            2367           2          1183.5            1177            1190  fcntl                                                                           \n",
      "    0.0            1445           1          1445.0            1445            1445  dup                                                                             \n",
      "\n",
      "\n",
      "\n",
      "\n",
      "Generating NVTX Push-Pop Range Statistics...\n",
      "NVTX Push-Pop Range Statistics (nanoseconds)\n",
      "\n",
      "Time(%)      Total Time   Instances         Average         Minimum         Maximum  Range                    \n",
      "-------  --------------  ----------  --------------  --------------  --------------  -------------------------\n",
      "   83.3    255640794369           5   51128158873.8     51071016707     51239687375  scipy_lombscargle_loop   \n",
      "   16.7     51075193366           1   51075193366.0     51075193366     51075193366  scipy_lombscargle        \n",
      "\n",
      "\n",
      "\n",
      "Report file moved to \"/home/odysseus/workStuff/cusignal-icassp-tutorial/notebooks/raw_cupy_cuda/scipy_v1.qdrep\"\n",
      "Report file moved to \"/home/odysseus/workStuff/cusignal-icassp-tutorial/notebooks/raw_cupy_cuda/scipy_v1.sqlite\"\n"
     ]
    }
   ],
   "source": [
    "!nsys profile -s none -o scipy_v1 -f true --stats=true python3 icassp_scipy_v1.py float32 5"
   ]
  },
  {
   "source": [
    "### Single Precision\n",
    "|                       | Registers | JIT (ms) | Kernel (ms) | Speed Up |\n",
    "|:----------------------|:----------|:---------|:------------|:---------|\n",
    "| Scipy                 | -         | 51,075.2 | 51,128.2    | 1.0      |\n",
    "| CuPy (Baseline)       |           |          |             |          |\n",
    "| CuPy (User Cache)     |           |          |             |          |\n",
    "| CuPy (Data Type)      |           |          |             |          |\n",
    "| CuPy (Fast Math)      |           |          |             |          |\n",
    "| CuPy (Fatbin)         |           |          |             |          |\n",
    "| CuPy (Launch Bounds)  |           |          |             |          |\n",
    "| CuPy (Trig Functions) |           |          |             |          |"
   ],
   "cell_type": "markdown",
   "metadata": {}
  },
  {
   "source": [
    "### Double Precision\n",
    "|                       | Registers | JIT (ms) | Kernel (ms) | Speed Up |\n",
    "|:----------------------|:----------|:---------|:------------|:---------|\n",
    "| Scipy                 | -         | 50.799.1 | 50,806.4    | 1.0      |\n",
    "| CuPy (Baseline)       |           |          |             |          |\n",
    "| CuPy (User Cache)     |           |          |             |          |\n",
    "| CuPy (Data Type)      |           |          |             |          |\n",
    "| CuPy (Fast Math)      |           |          |             |          |\n",
    "| CuPy (Fatbin)         |           |          |             |          |\n",
    "| CuPy (Launch Bounds)  |           |          |             |          |\n",
    "| CuPy (Trig Functions) |           |          |             |          |"
   ],
   "cell_type": "markdown",
   "metadata": {}
  },
  {
   "source": [
    "## GPU Scenario #1\n",
    "1. CuPy implementation of Lombscargle function"
   ],
   "cell_type": "markdown",
   "metadata": {}
  },
  {
   "cell_type": "code",
   "execution_count": 3,
   "metadata": {},
   "outputs": [
    {
     "output_type": "stream",
     "name": "stdout",
     "text": [
      "Warning: LBR backtrace method is not supported on this platform. DWARF backtrace method will be used.\n",
      "WARNING: Backtraces will not be collected because sampling is disabled.\n",
      "Collecting data...\n",
      "Processing events...\n",
      "Capturing symbol files...\n",
      "Saving temporary \"/tmp/nsys-report-54d8-f4a0-2a49-af96.qdstrm\" file to disk...\n",
      "Creating final output files...\n",
      "\n",
      "Processing [==============================================================100%]\n",
      "Saved report file to \"/tmp/nsys-report-54d8-f4a0-2a49-af96.qdrep\"\n",
      "Exporting 660402 events: [================================================100%]\n",
      "\n",
      "Exported successfully to\n",
      "/tmp/nsys-report-54d8-f4a0-2a49-af96.sqlite\n",
      "\n",
      "Generating CUDA API Statistics...\n",
      "CUDA API Statistics (nanoseconds)\n",
      "\n",
      "Time(%)      Total Time       Calls         Average         Minimum         Maximum  Name                                                                            \n",
      "-------  --------------  ----------  --------------  --------------  --------------  --------------------------------------------------------------------------------\n",
      "   97.7     20032673990        2001      10011331.3         9566349        10747533  cudaDeviceSynchronize                                                           \n",
      "    2.1       432667569           6      72111261.5           11463       431864999  cudaMalloc                                                                      \n",
      "    0.1        27370713        2001         13678.5           12422           28296  cuLaunchKernel                                                                  \n",
      "    0.0         2707308           2       1353654.0         1059480         1647828  cudaHostAlloc                                                                   \n",
      "    0.0          287481           1        287481.0          287481          287481  cuModuleLoadData                                                                \n",
      "    0.0          107941           1        107941.0          107941          107941  cuModuleUnload                                                                  \n",
      "    0.0           47804           3         15934.7           11919           19187  cudaMemcpyAsync                                                                 \n",
      "    0.0           43398           1         43398.0           43398           43398  cudaMemGetInfo                                                                  \n",
      "    0.0           15189           5          3037.8            1583            4554  cudaEventQuery                                                                  \n",
      "    0.0           12837           3          4279.0            3288            5671  cudaEventRecord                                                                 \n",
      "    0.0           12683           3          4227.7            2109            7819  cudaEventCreateWithFlags                                                        \n",
      "    0.0            4687           2          2343.5            2284            2403  cudaEventDestroy                                                                \n",
      "\n",
      "\n",
      "\n",
      "\n",
      "Generating CUDA Kernel Statistics...\n",
      "CUDA Kernel Statistics (nanoseconds)\n",
      "\n",
      "Time(%)      Total Time   Instances         Average         Minimum         Maximum  Name                                                                                                                                                                                                                                                                                                                                         \n",
      "-------  --------------  ----------  --------------  --------------  --------------  --------------------------------------------------------------------------------------------------------------------                                                                                                                                                                                                                         \n",
      "  100.0     20030143874        2001      10010066.9         9565029        10746358  _cupy_lombscargle                                                                                                                                                                                                                                                                                                                            \n",
      "\n",
      "\n",
      "\n",
      "Generating CUDA Memory Operation Statistics...\n",
      "CUDA Memory Operation Statistics (nanoseconds)\n",
      "\n",
      "Time(%)      Total Time  Operations         Average         Minimum         Maximum  Name                                                                            \n",
      "-------  --------------  ----------  --------------  --------------  --------------  --------------------------------------------------------------------------------\n",
      "  100.0          343228           3        114409.3            1856          339516  [CUDA memcpy HtoD]                                                              \n",
      "\n",
      "\n",
      "CUDA Memory Operation Statistics (KiB)\n",
      "\n",
      "              Total      Operations              Average            Minimum              Maximum  Name                                                                            \n",
      "-------------------  --------------  -------------------  -----------------  -------------------  --------------------------------------------------------------------------------\n",
      "           4109.086               3             1369.695              6.543             4096.000  [CUDA memcpy HtoD]                                                              \n",
      "\n",
      "\n",
      "\n",
      "\n",
      "Generating Operating System Runtime API Statistics...\n",
      "Operating System Runtime API Statistics (nanoseconds)\n",
      "\n",
      "Time(%)      Total Time       Calls         Average         Minimum         Maximum  Name                                                                            \n",
      "-------  --------------  ----------  --------------  --------------  --------------  --------------------------------------------------------------------------------\n",
      "   48.4     21014035498         223      94233343.0           14476       100064936  sem_timedwait                                                                   \n",
      "   47.9     20824335032         221      94227760.3           20803       100127471  poll                                                                            \n",
      "    3.3      1428815529      646016          2211.7            1000        19081130  sched_yield                                                                     \n",
      "    0.4       171033709        1124        152165.2            1027        77577085  ioctl                                                                           \n",
      "    0.0         5978537         757          7897.7            1016          196720  read                                                                            \n",
      "    0.0         4637445         755          6142.3            3110           21015  open64                                                                          \n",
      "    0.0         3724327         134         27793.5            2249         1064555  mmap                                                                            \n",
      "    0.0         2044951          43         47557.0           23111          510988  pthread_create                                                                  \n",
      "    0.0         1503039         120         12525.3            2925           87072  munmap                                                                          \n",
      "    0.0          787730         200          3938.7            1028           26759  mmap64                                                                          \n",
      "    0.0          216243          35          6178.4            1487           77546  fopen                                                                           \n",
      "    0.0          189528           3         63176.0           61250           66732  fgets                                                                           \n",
      "    0.0           69433          13          5341.0            2927            7185  write                                                                           \n",
      "    0.0           55670          30          1855.7            1135            3475  fclose                                                                          \n",
      "    0.0           33941           5          6788.2            3715            8217  open                                                                            \n",
      "    0.0           29542          24          1230.9            1005            3844  fcntl                                                                           \n",
      "    0.0           28515           7          4073.6            2720            5755  fread                                                                           \n",
      "    0.0           12059           2          6029.5            4342            7717  socket                                                                          \n",
      "    0.0           11610           4          2902.5            1556            6295  signal                                                                          \n",
      "    0.0           11299           3          3766.3            2369            4688  fopen64                                                                         \n",
      "    0.0            8754           1          8754.0            8754            8754  connect                                                                         \n",
      "    0.0            6536           3          2178.7            1795            2761  pthread_cond_signal                                                             \n",
      "    0.0            6112           1          6112.0            6112            6112  pipe2                                                                           \n",
      "    0.0            4504           3          1501.3            1225            1963  sigaction                                                                       \n",
      "    0.0            3009           2          1504.5            1045            1964  dup                                                                             \n",
      "    0.0            2084           1          2084.0            2084            2084  bind                                                                            \n",
      "    0.0            1058           1          1058.0            1058            1058  listen                                                                          \n",
      "\n",
      "\n",
      "\n",
      "\n",
      "Generating NVTX Push-Pop Range Statistics...\n",
      "NVTX Push-Pop Range Statistics (nanoseconds)\n",
      "\n",
      "Time(%)      Total Time   Instances         Average         Minimum         Maximum  Range                   \n",
      "-------  --------------  ----------  --------------  --------------  --------------  ------------------------\n",
      "   99.3     20220069274        2000      10110034.6         9662342        10842798  cupy_lombscargle_loop   \n",
      "    0.7       135131738           1     135131738.0       135131738       135131738  cupy_lombscargle        \n",
      "\n",
      "\n",
      "\n",
      "Report file moved to \"/home/odysseus/workStuff/cusignal-icassp-tutorial/notebooks/raw_cupy_cuda/cupy_v1.qdrep\"\n",
      "Report file moved to \"/home/odysseus/workStuff/cusignal-icassp-tutorial/notebooks/raw_cupy_cuda/cupy_v1.sqlite\"\n"
     ]
    }
   ],
   "source": [
    "!nsys profile -s none -o cupy_v1 -f true --stats=true python3 icassp_cupy_v1.py float32 2000 0"
   ]
  },
  {
   "cell_type": "code",
   "execution_count": 4,
   "metadata": {},
   "outputs": [
    {
     "output_type": "stream",
     "name": "stdout",
     "text": [
      "Using cupy_v1.sqlite file for stats and reports.\nExporting [/opt/nvidia/nsight-systems/2020.3.2/target-linux-x64/reports/gpukernsum cupy_v1.sqlite] to console... \n\n Time(%)  Total Time (ns)  Instances    Average      Minimum    Maximum          Name       \n -------  ---------------  ---------  ------------  ---------  ----------  -----------------\n   100.0   20,030,143,874      2,001  10,010,066.9  9,565,029  10,746,358  _cupy_lombscargle\n\nExporting [/opt/nvidia/nsight-systems/2020.3.2/target-linux-x64/reports/nvtxppsum cupy_v1.sqlite] to console... \n\n Time(%)  Total Time (ns)  Instances     Average       Minimum      Maximum            Range        \n -------  ---------------  ---------  -------------  -----------  -----------  ---------------------\n    99.3   20,220,069,274      2,000   10,110,034.6    9,662,342   10,842,798  cupy_lombscargle_loop\n     0.7      135,131,738          1  135,131,738.0  135,131,738  135,131,738  cupy_lombscargle     \n\n"
     ]
    }
   ],
   "source": [
    "#!nsys stats --report gpukernsum --report nvtxppsum --report gputrace cupy_v1.qdrep # Use to get register usage\n",
    "!nsys stats --report gpukernsum --report nvtxppsum cupy_v1.qdrep"
   ]
  },
  {
   "source": [
    "### Single Precision\n",
    "|                       | Registers | JIT (ms) | Kernel (ms) | Speed Up |\n",
    "|:----------------------|:----------|:---------|:------------|:---------|\n",
    "| Scipy                 | -         | 51,075.2 | 51,128.2    | 1.0      |\n",
    "| CuPy (Baseline)       | 30        | 135.1    | 10.1        | 5062.2   |\n",
    "| CuPy (User Cache)     |           |          |             |          |\n",
    "| CuPy (Data Type)      |           |          |             |          |\n",
    "| CuPy (Fast Math)      |           |          |             |          |\n",
    "| CuPy (Fatbin)         |           |          |             |          |\n",
    "| CuPy (Launch Bounds)  |           |          |             |          |\n",
    "| CuPy (Trig Functions) |           |          |             |          |"
   ],
   "cell_type": "markdown",
   "metadata": {}
  },
  {
   "source": [
    "### Double Precision\n",
    "|                       | Registers | JIT (ms) | Kernel (ms) | Speed Up |\n",
    "|:----------------------|:----------|:---------|:------------|:---------|\n",
    "| Scipy                 | -         | 50.799.1 | 50,806.4    | 1.0      |\n",
    "| CuPy (Baseline)       | 48        | 145.0    | 21.2        | 2396.5   |\n",
    "| CuPy (User Cache)     |           |          |             |          |\n",
    "| CuPy (Data Type)      |           |          |             |          |\n",
    "| CuPy (Fast Math)      |           |          |             |          |\n",
    "| CuPy (Fatbin)         |           |          |             |          |\n",
    "| CuPy (Launch Bounds)  |           |          |             |          |\n",
    "| CuPy (Trig Functions) |           |          |             |          |"
   ],
   "cell_type": "markdown",
   "metadata": {}
  },
  {
   "source": [
    "## GPU Scenario #2\n",
    "1. CuPy implementation of Lombscargle function\n",
    "2. Added user cache"
   ],
   "cell_type": "markdown",
   "metadata": {}
  },
  {
   "cell_type": "code",
   "execution_count": 9,
   "metadata": {},
   "outputs": [
    {
     "output_type": "stream",
     "name": "stdout",
     "text": [
      "Warning: LBR backtrace method is not supported on this platform. DWARF backtrace method will be used.\n",
      "WARNING: Backtraces will not be collected because sampling is disabled.\n",
      "Collecting data...\n",
      "Registers 30\n",
      "Processing events...\n",
      "Capturing symbol files...\n",
      "Saving temporary \"/tmp/nsys-report-cd79-4fad-c16e-b97d.qdstrm\" file to disk...\n",
      "Creating final output files...\n",
      "\n",
      "Processing [==============================================================100%]\n",
      "Saved report file to \"/tmp/nsys-report-cd79-4fad-c16e-b97d.qdrep\"\n",
      "Report file moved to \"/home/odysseus/workStuff/cusignal-icassp-tutorial/notebooks/raw_cupy_cuda/cupy_v2.qdrep\"\n"
     ]
    }
   ],
   "source": [
    "!nsys profile -s none -o cupy_v2 -f true python3 icassp_cupy_v2.py float32 2000 0"
   ]
  },
  {
   "cell_type": "code",
   "execution_count": 10,
   "metadata": {},
   "outputs": [
    {
     "output_type": "stream",
     "name": "stdout",
     "text": [
      "Generate SQLite file cupy_v2.sqlite from cupy_v2.qdrep\n",
      "Exporting 627338 events: [================================================100%]\n",
      "Using cupy_v2.sqlite file for stats and reports.\n",
      "Exporting [/opt/nvidia/nsight-systems/2020.3.2/target-linux-x64/reports/gpukernsum cupy_v2.sqlite] to console... \n",
      "\n",
      " Time(%)  Total Time (ns)  Instances    Average      Minimum    Maximum          Name       \n",
      " -------  ---------------  ---------  ------------  ---------  ----------  -----------------\n",
      "   100.0   20,058,169,271      2,001  10,024,072.6  9,563,435  11,300,375  _cupy_lombscargle\n",
      "\n",
      "Exporting [/opt/nvidia/nsight-systems/2020.3.2/target-linux-x64/reports/nvtxppsum cupy_v2.sqlite] to console... \n",
      "\n",
      " Time(%)  Total Time (ns)  Instances     Average       Minimum      Maximum            Range        \n",
      " -------  ---------------  ---------  -------------  -----------  -----------  ---------------------\n",
      "    99.3   20,175,315,289      2,000   10,087,657.6    9,620,977   11,365,222  cupy_lombscargle_loop\n",
      "     0.7      137,225,985          1  137,225,985.0  137,225,985  137,225,985  cupy_lombscargle     \n",
      "\n"
     ]
    }
   ],
   "source": [
    "!nsys stats --report gpukernsum --report nvtxppsum cupy_v2.qdrep"
   ]
  },
  {
   "source": [
    "### Single Precision\n",
    "|                       | Registers | JIT (ms) | Kernel (ms) | Speed Up |\n",
    "|:----------------------|:----------|:---------|:------------|:---------|\n",
    "| Scipy                 | -         | 51,075.2 | 51,128.2    | 1.0      |\n",
    "| CuPy (Baseline)       | 30        | 135.1    | 10.1        | 5062.2   |\n",
    "| CuPy (User Cache)     | 30        | 137.2    | 10.1        | 5062.2   |\n",
    "| CuPy (Data Type)      |           |          |             |          |\n",
    "| CuPy (Fast Math)      |           |          |             |          |\n",
    "| CuPy (Fatbin)         |           |          |             |          |\n",
    "| CuPy (Launch Bounds)  |           |          |             |          |\n",
    "| CuPy (Trig Functions) |           |          |             |          |"
   ],
   "cell_type": "markdown",
   "metadata": {}
  },
  {
   "source": [
    "### Double Precision\n",
    "|                       | Registers | JIT (ms) | Kernel (ms) | Speed Up |\n",
    "|:----------------------|:----------|:---------|:------------|:---------|\n",
    "| Scipy                 | -         | 50.799.1 | 50,806.4    | 1.0      |\n",
    "| CuPy (Baseline)       | 48        | 145.0    | 21.2        | 2396.5   |\n",
    "| CuPy (User Cache)     | 48        | 145.7    | 21.2        | 2396.5   |\n",
    "| CuPy (Data Type)      |           |          |             |          |\n",
    "| CuPy (Fast Math)      |           |          |             |          |\n",
    "| CuPy (Fatbin)         |           |          |             |          |\n",
    "| CuPy (Launch Bounds)  |           |          |             |          |\n",
    "| CuPy (Trig Functions) |           |          |             |          |"
   ],
   "cell_type": "markdown",
   "metadata": {}
  },
  {
   "source": [
    "## GPU Scenario #3\n",
    "1. CuPy implementation of Lombscargle function\n",
    "2. Added user cache\n",
    "3. Specific functions per data type"
   ],
   "cell_type": "markdown",
   "metadata": {}
  },
  {
   "cell_type": "code",
   "execution_count": 13,
   "metadata": {},
   "outputs": [
    {
     "output_type": "stream",
     "name": "stdout",
     "text": [
      "Warning: LBR backtrace method is not supported on this platform. DWARF backtrace method will be used.\n",
      "WARNING: Backtraces will not be collected because sampling is disabled.\n",
      "Collecting data...\n",
      "Registers 26\n",
      "Processing events...\n",
      "Capturing symbol files...\n",
      "Saving temporary \"/tmp/nsys-report-94d4-cbfd-f6ad-ff21.qdstrm\" file to disk...\n",
      "Creating final output files...\n",
      "\n",
      "Processing [==============================================================100%]\n",
      "Saved report file to \"/tmp/nsys-report-94d4-cbfd-f6ad-ff21.qdrep\"\n",
      "Report file moved to \"/home/odysseus/workStuff/cusignal-icassp-tutorial/notebooks/raw_cupy_cuda/cupy_v3.qdrep\"\n"
     ]
    }
   ],
   "source": [
    "!nsys profile -s none -o cupy_v3 -f true python3 icassp_cupy_v3.py float32 2000 0"
   ]
  },
  {
   "cell_type": "code",
   "execution_count": 14,
   "metadata": {},
   "outputs": [
    {
     "output_type": "stream",
     "name": "stdout",
     "text": [
      "Generate SQLite file cupy_v3.sqlite from cupy_v3.qdrep\n",
      "Exporting 655330 events: [================================================100%]\n",
      "Using cupy_v3.sqlite file for stats and reports.\n",
      "Exporting [/opt/nvidia/nsight-systems/2020.3.2/target-linux-x64/reports/gpukernsum cupy_v3.sqlite] to console... \n",
      "\n",
      " Time(%)  Total Time (ns)  Instances    Average      Minimum    Maximum              Name           \n",
      " -------  ---------------  ---------  ------------  ---------  ----------  -------------------------\n",
      "   100.0   20,418,466,090      2,001  10,204,131.0  9,710,413  10,914,239  _cupy_lombscargle_float32\n",
      "\n",
      "Exporting [/opt/nvidia/nsight-systems/2020.3.2/target-linux-x64/reports/nvtxppsum cupy_v3.sqlite] to console... \n",
      "\n",
      " Time(%)  Total Time (ns)  Instances     Average       Minimum      Maximum            Range        \n",
      " -------  ---------------  ---------  -------------  -----------  -----------  ---------------------\n",
      "    99.3   20,600,928,564      2,000   10,300,464.3    9,805,052   11,009,453  cupy_lombscargle_loop\n",
      "     0.7      135,397,242          1  135,397,242.0  135,397,242  135,397,242  cupy_lombscargle     \n",
      "\n"
     ]
    }
   ],
   "source": [
    "!nsys stats --report gpukernsum --report nvtxppsum cupy_v3.qdrep"
   ]
  },
  {
   "source": [
    "### Single Precision\n",
    "|                       | Registers | JIT (ms) | Kernel (ms) | Speed Up |\n",
    "|:----------------------|:----------|:---------|:------------|:---------|\n",
    "| Scipy                 | -         | 51,075.2 | 51,128.2    | 1.0      |\n",
    "| CuPy (Baseline)       | 30        | 135.1    | 10.1        | 5062.2   |\n",
    "| CuPy (User Cache)     | 30        | 137.2    | 10.1        | 5062.2   |\n",
    "| CuPy (Data Type)      | 26        | 135.4    | 10.3        | 4963.9   |\n",
    "| CuPy (Fast Math)      |           |          |             |          |\n",
    "| CuPy (Fatbin)         |           |          |             |          |\n",
    "| CuPy (Launch Bounds)  |           |          |             |          |\n",
    "| CuPy (Trig Functions) |           |          |             |          |"
   ],
   "cell_type": "markdown",
   "metadata": {}
  },
  {
   "source": [
    "### Double Precision\n",
    "|                       | Registers | JIT (ms) | Kernel (ms) | Speed Up |\n",
    "|:----------------------|:----------|:---------|:------------|:---------|\n",
    "| Scipy                 | -         | 50.799.1 | 50,806.4    | 1.0      |\n",
    "| CuPy (Baseline)       | 48        | 145.0    | 21.2        | 2396.5   |\n",
    "| CuPy (User Cache)     | 48        | 145.7    | 21.2        | 2396.5   |\n",
    "| CuPy (Data Type)      | 48        | 150.4    | 21.2        | 2396.5   |\n",
    "| CuPy (Fast Math)      |           |          |             |          |\n",
    "| CuPy (Fatbin)         |           |          |             |          |\n",
    "| CuPy (Launch Bounds)  |           |          |             |          |\n",
    "| CuPy (Trig Functions) |           |          |             |          |"
   ],
   "cell_type": "markdown",
   "metadata": {}
  },
  {
   "cell_type": "code",
   "execution_count": null,
   "metadata": {},
   "outputs": [],
   "source": [
    "## GPU Scenario #4\n",
    "1. CuPy implementation of Lombscargle function\n",
    "2. Added user cache\n",
    "3. Specific functions per data type\n",
    "4. Utilize fast_math compiler flag"
   ]
  },
  {
   "cell_type": "code",
   "execution_count": 17,
   "metadata": {},
   "outputs": [
    {
     "output_type": "stream",
     "name": "stdout",
     "text": [
      "Warning: LBR backtrace method is not supported on this platform. DWARF backtrace method will be used.\n",
      "WARNING: Backtraces will not be collected because sampling is disabled.\n",
      "Collecting data...\n",
      "Registers 32\n",
      "Processing events...\n",
      "Capturing symbol files...\n",
      "Saving temporary \"/tmp/nsys-report-7b2a-1373-6f01-fa8e.qdstrm\" file to disk...\n",
      "Creating final output files...\n",
      "\n",
      "Processing [==============================================================100%]\n",
      "Saved report file to \"/tmp/nsys-report-7b2a-1373-6f01-fa8e.qdrep\"\n",
      "Report file moved to \"/home/odysseus/workStuff/cusignal-icassp-tutorial/notebooks/raw_cupy_cuda/cupy_v4.qdrep\"\n"
     ]
    }
   ],
   "source": [
    "!nsys profile -s none -o cupy_v4 -f true python3 icassp_cupy_v4.py float32 2000 0"
   ]
  },
  {
   "cell_type": "code",
   "execution_count": 18,
   "metadata": {},
   "outputs": [
    {
     "output_type": "stream",
     "name": "stdout",
     "text": [
      "Generate SQLite file cupy_v4.sqlite from cupy_v4.qdrep\n",
      "Exporting 618014 events: [================================================100%]\n",
      "Using cupy_v4.sqlite file for stats and reports.\n",
      "Exporting [/opt/nvidia/nsight-systems/2020.3.2/target-linux-x64/reports/gpukernsum cupy_v4.sqlite] to console... \n",
      "\n",
      " Time(%)  Total Time (ns)  Instances    Average     Minimum    Maximum             Name           \n",
      " -------  ---------------  ---------  -----------  ---------  ---------  -------------------------\n",
      "   100.0    4,491,357,965      2,001  2,244,556.7  2,146,486  2,504,420  _cupy_lombscargle_float32\n",
      "\n",
      "Exporting [/opt/nvidia/nsight-systems/2020.3.2/target-linux-x64/reports/nvtxppsum cupy_v4.sqlite] to console... \n",
      "\n",
      " Time(%)  Total Time (ns)  Instances     Average       Minimum      Maximum            Range        \n",
      " -------  ---------------  ---------  -------------  -----------  -----------  ---------------------\n",
      "    97.4    4,669,349,251      2,000    2,334,674.6    2,234,348    2,716,439  cupy_lombscargle_loop\n",
      "     2.6      126,140,150          1  126,140,150.0  126,140,150  126,140,150  cupy_lombscargle     \n",
      "\n"
     ]
    }
   ],
   "source": [
    "!nsys stats --report gpukernsum --report nvtxppsum cupy_v4.qdrep"
   ]
  },
  {
   "source": [
    "### Single Precision\n",
    "|                       | Registers | JIT (ms) | Kernel (ms) | Speed Up |\n",
    "|:----------------------|:----------|:---------|:------------|:---------|\n",
    "| Scipy                 | -         | 51,075.2 | 51,128.2    | 1.0      |\n",
    "| CuPy (Baseline)       | 30        | 135.1    | 10.1        | 5062.2   |\n",
    "| CuPy (User Cache)     | 30        | 137.2    | 10.1        | 5062.2   |\n",
    "| CuPy (Data Type)      | 26        | 135.4    | 10.3        | 4963.9   |\n",
    "| CuPy (Fast Math)      | 32        | 126.1    | 2.3         | 22229.7  |\n",
    "| CuPy (Fatbin)         |           |          |             |          |\n",
    "| CuPy (Launch Bounds)  |           |          |             |          |\n",
    "| CuPy (Trig Functions) |           |          |             |          |"
   ],
   "cell_type": "markdown",
   "metadata": {}
  },
  {
   "source": [
    "### Double Precision\n",
    "|                       | Registers | JIT (ms) | Kernel (ms) | Speed Up |\n",
    "|:----------------------|:----------|:---------|:------------|:---------|\n",
    "| Scipy                 | -         | 50.799.1 | 50,806.4    | 1.0      |\n",
    "| CuPy (Baseline)       | 48        | 145.0    | 21.2        | 2396.5   |\n",
    "| CuPy (User Cache)     | 48        | 145.7    | 21.2        | 2396.5   |\n",
    "| CuPy (Data Type)      | 48        | 150.4    | 21.2        | 2396.5   |\n",
    "| CuPy (Fast Math)      | 48        | 146.1    | 21.2        | 2396.5   |\n",
    "| CuPy (Fatbin)         |           |          |             |          |\n",
    "| CuPy (Launch Bounds)  |           |          |             |          |\n",
    "| CuPy (Trig Functions) |           |          |             |          |"
   ],
   "cell_type": "markdown",
   "metadata": {}
  },
  {
   "source": [
    "## GPU Scenario #5\n",
    "1. CuPy implementation of Lombscargle function\n",
    "2. Added user cache\n",
    "3. Specific functions per data type\n",
    "4. Utilize fast_math compiler flag\n",
    "5. Precompile CUDA kernels into fatbins to be loaded at runtime"
   ],
   "cell_type": "markdown",
   "metadata": {}
  },
  {
   "cell_type": "code",
   "execution_count": 41,
   "metadata": {},
   "outputs": [],
   "source": [
    "!nvcc --fatbin -std=c++11 --use_fast_math \\\n",
    "    --generate-code arch=compute_70,code=sm_70 \\\n",
    "    --generate-code arch=compute_75,code=sm_75 \\\n",
    "    --generate-code arch=compute_80,code=[sm_80,compute_80] \\\n",
    "    _lombscargle.cu -odir ."
   ]
  },
  {
   "cell_type": "code",
   "execution_count": 22,
   "metadata": {},
   "outputs": [
    {
     "output_type": "stream",
     "name": "stdout",
     "text": [
      "Warning: LBR backtrace method is not supported on this platform. DWARF backtrace method will be used.\n",
      "WARNING: Backtraces will not be collected because sampling is disabled.\n",
      "Collecting data...\n",
      "Registers 32\n",
      "Processing events...\n",
      "Capturing symbol files...\n",
      "Saving temporary \"/tmp/nsys-report-30cb-87cc-852e-15cb.qdstrm\" file to disk...\n",
      "Creating final output files...\n",
      "\n",
      "Processing [==============================================================100%]\n",
      "Saved report file to \"/tmp/nsys-report-30cb-87cc-852e-15cb.qdrep\"\n",
      "Report file moved to \"/home/odysseus/workStuff/cusignal-icassp-tutorial/notebooks/raw_cupy_cuda/cupy_v5.qdrep\"\n"
     ]
    }
   ],
   "source": [
    "!nsys profile -s none -o cupy_v5 -f true python3 icassp_cupy_v5.py float32 2000 0"
   ]
  },
  {
   "cell_type": "code",
   "execution_count": 23,
   "metadata": {},
   "outputs": [
    {
     "output_type": "stream",
     "name": "stdout",
     "text": [
      "Generate SQLite file cupy_v5.sqlite from cupy_v5.qdrep\n",
      "Exporting 625201 events: [================================================100%]\n",
      "Using cupy_v5.sqlite file for stats and reports.\n",
      "Exporting [/opt/nvidia/nsight-systems/2020.3.2/target-linux-x64/reports/gpukernsum cupy_v5.sqlite] to console... \n",
      "\n",
      " Time(%)  Total Time (ns)  Instances    Average     Minimum    Maximum             Name           \n",
      " -------  ---------------  ---------  -----------  ---------  ---------  -------------------------\n",
      "   100.0    4,494,166,736      2,001  2,245,960.4  2,149,112  2,510,050  _cupy_lombscargle_float32\n",
      "\n",
      "Exporting [/opt/nvidia/nsight-systems/2020.3.2/target-linux-x64/reports/nvtxppsum cupy_v5.sqlite] to console... \n",
      "\n",
      " Time(%)  Total Time (ns)  Instances    Average     Minimum    Maximum           Range        \n",
      " -------  ---------------  ---------  -----------  ---------  ---------  ---------------------\n",
      "    99.9    4,689,032,098      2,000  2,344,516.0  2,250,261  2,625,194  cupy_lombscargle_loop\n",
      "     0.1        3,914,732          1  3,914,732.0  3,914,732  3,914,732  cupy_lombscargle     \n",
      "\n"
     ]
    }
   ],
   "source": [
    "!nsys stats --report gpukernsum --report nvtxppsum cupy_v5.qdrep"
   ]
  },
  {
   "source": [
    "### Single Precision\n",
    "|                       | Registers | JIT (ms) | Kernel (ms) | Speed Up |\n",
    "|:----------------------|:----------|:---------|:------------|:---------|\n",
    "| Scipy                 | -         | 51,075.2 | 51,128.2    | 1.0      |\n",
    "| CuPy (Baseline)       | 30        | 135.1    | 10.1        | 5062.2   |\n",
    "| CuPy (User Cache)     | 30        | 137.2    | 10.1        | 5062.2   |\n",
    "| CuPy (Data Type)      | 26        | 135.4    | 10.3        | 4963.9   |\n",
    "| CuPy (Fast Math)      | 32        | 126.1    | 2.3         | 22229.7  |\n",
    "| CuPy (Fatbin)         | 32        | 3.9      | 2.3         | 22229.7  |\n",
    "| CuPy (Launch Bounds)  |           |          |             |          |\n",
    "| CuPy (Trig Functions) |           |          |             |          |"
   ],
   "cell_type": "markdown",
   "metadata": {}
  },
  {
   "source": [
    "### Double Precision\n",
    "|                       | Registers | JIT (ms) | Kernel (ms) | Speed Up |\n",
    "|:----------------------|:----------|:---------|:------------|:---------|\n",
    "| Scipy                 | -         | 50.799.1 | 50,806.4    | 1.0      |\n",
    "| CuPy (Baseline)       | 48        | 145.0    | 21.2        | 2396.5   |\n",
    "| CuPy (User Cache)     | 48        | 145.7    | 21.2        | 2396.5   |\n",
    "| CuPy (Data Type)      | 48        | 150.4    | 21.2        | 2396.5   |\n",
    "| CuPy (Fast Math)      | 48        | 146.1    | 21.2        | 2396.5   |\n",
    "| CuPy (Fatbin)         | 48        | 22.3     | 21.2        | 2396.5   |\n",
    "| CuPy (Launch Bounds)  |           |          |             |          |\n",
    "| CuPy (Trig Functions) |           |          |             |          |"
   ],
   "cell_type": "markdown",
   "metadata": {}
  },
  {
   "source": [
    "## GPU Scenario #6\n",
    "1. CuPy implementation of Lombscargle function\n",
    "2. Added user cache\n",
    "3. Specific functions per data type\n",
    "4. Utilize fast_math compiler flag\n",
    "5. Precompile CUDA kernels into fatbins to be loaded at runtime\n",
    "6. Add launch bounds to CUDA kernels"
   ],
   "cell_type": "markdown",
   "metadata": {}
  },
  {
   "cell_type": "code",
   "execution_count": 44,
   "metadata": {},
   "outputs": [],
   "source": [
    "!nvcc --fatbin -std=c++11 --use_fast_math \\\n",
    "    --generate-code arch=compute_70,code=sm_70 \\\n",
    "    --generate-code arch=compute_75,code=sm_75 \\\n",
    "    --generate-code arch=compute_80,code=[sm_80,compute_80] \\\n",
    "    _lombscargle_lb.cu -odir ."
   ]
  },
  {
   "cell_type": "code",
   "execution_count": 27,
   "metadata": {},
   "outputs": [
    {
     "output_type": "stream",
     "name": "stdout",
     "text": [
      "Warning: LBR backtrace method is not supported on this platform. DWARF backtrace method will be used.\n",
      "WARNING: Backtraces will not be collected because sampling is disabled.\n",
      "Collecting data...\n",
      "Registers 31\n",
      "Processing events...\n",
      "Capturing symbol files...\n",
      "Saving temporary \"/tmp/nsys-report-d398-52e1-6e3c-39a7.qdstrm\" file to disk...\n",
      "Creating final output files...\n",
      "\n",
      "Processing [==============================================================100%]\n",
      "Saved report file to \"/tmp/nsys-report-d398-52e1-6e3c-39a7.qdrep\"\n",
      "Report file moved to \"/home/odysseus/workStuff/cusignal-icassp-tutorial/notebooks/raw_cupy_cuda/cupy_v6.qdrep\"\n"
     ]
    }
   ],
   "source": [
    "!nsys profile -s none -o cupy_v6 -f true python3 icassp_cupy_v6.py float32 2000 0"
   ]
  },
  {
   "cell_type": "code",
   "execution_count": 28,
   "metadata": {},
   "outputs": [
    {
     "output_type": "stream",
     "name": "stdout",
     "text": [
      "Generate SQLite file cupy_v6.sqlite from cupy_v6.qdrep\n",
      "Exporting 644094 events: [================================================100%]\n",
      "Using cupy_v6.sqlite file for stats and reports.\n",
      "Exporting [/opt/nvidia/nsight-systems/2020.3.2/target-linux-x64/reports/gpukernsum cupy_v6.sqlite] to console... \n",
      "\n",
      " Time(%)  Total Time (ns)  Instances    Average     Minimum    Maximum             Name           \n",
      " -------  ---------------  ---------  -----------  ---------  ---------  -------------------------\n",
      "   100.0    4,502,552,069      2,001  2,250,151.0  2,153,668  2,498,410  _cupy_lombscargle_float32\n",
      "\n",
      "Exporting [/opt/nvidia/nsight-systems/2020.3.2/target-linux-x64/reports/nvtxppsum cupy_v6.sqlite] to console... \n",
      "\n",
      " Time(%)  Total Time (ns)  Instances    Average     Minimum    Maximum           Range        \n",
      " -------  ---------------  ---------  -----------  ---------  ---------  ---------------------\n",
      "    99.9    4,686,917,005      2,000  2,343,458.5  2,247,224  2,707,435  cupy_lombscargle_loop\n",
      "     0.1        3,914,072          1  3,914,072.0  3,914,072  3,914,072  cupy_lombscargle     \n",
      "\n"
     ]
    }
   ],
   "source": [
    "!nsys stats --report gpukernsum --report nvtxppsum cupy_v6.qdrep"
   ]
  },
  {
   "source": [
    "### Single Precision\n",
    "|                       | Registers | JIT (ms) | Kernel (ms) | Speed Up |\n",
    "|:----------------------|:----------|:---------|:------------|:---------|\n",
    "| Scipy                 | -         | 51,075.2 | 51,128.2    | 1.0      |\n",
    "| CuPy (Baseline)       | 30        | 135.1    | 10.1        | 5062.2   |\n",
    "| CuPy (User Cache)     | 30        | 137.2    | 10.1        | 5062.2   |\n",
    "| CuPy (Data Type)      | 26        | 135.4    | 10.3        | 4963.9   |\n",
    "| CuPy (Fast Math)      | 32        | 126.1    | 2.3         | 22229.7  |\n",
    "| CuPy (Fatbin)         | 32        | 3.9      | 2.3         | 22229.7  |\n",
    "| CuPy (Launch Bounds)  | 31        | 3.9      | 2.3         | 22229.7  |\n",
    "| CuPy (Trig Functions) |           |          |             |          |"
   ],
   "cell_type": "markdown",
   "metadata": {}
  },
  {
   "source": [
    "### Double Precision\n",
    "|                       | Registers | JIT (ms) | Kernel (ms) | Speed Up |\n",
    "|:----------------------|:----------|:---------|:------------|:---------|\n",
    "| Scipy                 | -         | 50.799.1 | 50,806.4    | 1.0      |\n",
    "| CuPy (Baseline)       | 48        | 145.0    | 21.2        | 2396.5   |\n",
    "| CuPy (User Cache)     | 48        | 145.7    | 21.2        | 2396.5   |\n",
    "| CuPy (Data Type)      | 48        | 150.4    | 21.2        | 2396.5   |\n",
    "| CuPy (Fast Math)      | 48        | 146.1    | 21.2        | 2396.5   |\n",
    "| CuPy (Fatbin)         | 48        | 22.3     | 21.2        | 2396.5   |\n",
    "| CuPy (Launch Bounds)  | 48        | 22.8     | 21.2        | 2396.5   |\n",
    "| CuPy (Trig Functions) |           |          |             |          |"
   ],
   "cell_type": "markdown",
   "metadata": {}
  },
  {
   "source": [
    "## GPU Scenario #7\n",
    "1. CuPy implementation of Lombscargle function\n",
    "2. Added user cache\n",
    "3. Specific functions per data type\n",
    "4. Utilize fast_math compiler flag\n",
    "5. Precompile CUDA kernels into fatbins to be loaded at runtime\n",
    "6. Add launch bounds to CUDA kernels\n",
    "7. Use fast sin + cos functions"
   ],
   "cell_type": "markdown",
   "metadata": {}
  },
  {
   "cell_type": "code",
   "execution_count": 50,
   "metadata": {},
   "outputs": [],
   "source": [
    "!nvcc --fatbin -std=c++11 --use_fast_math \\\n",
    "    --generate-code arch=compute_70,code=sm_70 \\\n",
    "    --generate-code arch=compute_75,code=sm_75 \\\n",
    "    --generate-code arch=compute_80,code=[sm_80,compute_80] \\\n",
    "    _lombscargle_lb_trig.cu -odir ."
   ]
  },
  {
   "cell_type": "code",
   "execution_count": 37,
   "metadata": {},
   "outputs": [
    {
     "output_type": "stream",
     "name": "stdout",
     "text": [
      "Warning: LBR backtrace method is not supported on this platform. DWARF backtrace method will be used.\n",
      "WARNING: Backtraces will not be collected because sampling is disabled.\n",
      "Collecting data...\n",
      "Registers 31\n",
      "Processing events...\n",
      "Capturing symbol files...\n",
      "Saving temporary \"/tmp/nsys-report-08cb-6736-c348-211c.qdstrm\" file to disk...\n",
      "Creating final output files...\n",
      "\n",
      "Processing [==============================================================100%]\n",
      "Saved report file to \"/tmp/nsys-report-08cb-6736-c348-211c.qdrep\"\n",
      "Report file moved to \"/home/odysseus/workStuff/cusignal-icassp-tutorial/notebooks/raw_cupy_cuda/cupy_v7.qdrep\"\n"
     ]
    }
   ],
   "source": [
    "!nsys profile -s none -o cupy_v7 -f true python3 icassp_cupy_v7.py float32 2000 0"
   ]
  },
  {
   "cell_type": "code",
   "execution_count": 38,
   "metadata": {},
   "outputs": [
    {
     "output_type": "stream",
     "name": "stdout",
     "text": [
      "Generate SQLite file cupy_v7.sqlite from cupy_v7.qdrep\n",
      "Exporting 646937 events: [================================================100%]\n",
      "Using cupy_v7.sqlite file for stats and reports.\n",
      "Exporting [/opt/nvidia/nsight-systems/2020.3.2/target-linux-x64/reports/gpukernsum cupy_v7.sqlite] to console... \n",
      "\n",
      " Time(%)  Total Time (ns)  Instances    Average     Minimum    Maximum             Name           \n",
      " -------  ---------------  ---------  -----------  ---------  ---------  -------------------------\n",
      "   100.0    4,470,477,831      2,001  2,234,121.9  2,132,962  2,577,603  _cupy_lombscargle_float32\n",
      "\n",
      "Exporting [/opt/nvidia/nsight-systems/2020.3.2/target-linux-x64/reports/nvtxppsum cupy_v7.sqlite] to console... \n",
      "\n",
      " Time(%)  Total Time (ns)  Instances    Average     Minimum    Maximum           Range        \n",
      " -------  ---------------  ---------  -----------  ---------  ---------  ---------------------\n",
      "    99.9    4,651,871,063      2,000  2,325,935.5  2,223,617  2,668,839  cupy_lombscargle_loop\n",
      "     0.1        3,920,637          1  3,920,637.0  3,920,637  3,920,637  cupy_lombscargle     \n",
      "\n"
     ]
    }
   ],
   "source": [
    "!nsys stats --report gpukernsum --report nvtxppsum cupy_v7.qdrep"
   ]
  },
  {
   "source": [
    "### Single Precision\n",
    "|                       | Registers | JIT (ms) | Kernel (ms) | Speed Up |\n",
    "|:----------------------|:----------|:---------|:------------|:---------|\n",
    "| Scipy                 | -         | 51,075.2 | 51,128.2    | 1.0      |\n",
    "| CuPy (Baseline)       | 30        | 135.1    | 10.1        | 5062.2   |\n",
    "| CuPy (User Cache)     | 30        | 137.2    | 10.1        | 5062.2   |\n",
    "| CuPy (Data Type)      | 26        | 135.4    | 10.3        | 4963.9   |\n",
    "| CuPy (Fast Math)      | 32        | 126.1    | 2.3         | 22229.7  |\n",
    "| CuPy (Fatbin)         | 32        | 3.9      | 2.3         | 22229.7  |\n",
    "| CuPy (Launch Bounds)  | 31        | 3.9      | 2.3         | 22229.7  |\n",
    "| CuPy (Trig Functions) | 31        | 3.9      | 2.3         | 22229.7  |"
   ],
   "cell_type": "markdown",
   "metadata": {}
  },
  {
   "source": [
    "### Double Precision\n",
    "|                       | Registers | JIT (ms) | Kernel (ms) | Speed Up |\n",
    "|:----------------------|:----------|:---------|:------------|:---------|\n",
    "| Scipy                 | -         | 50.799.1 | 50,806.4    | 1.0      |\n",
    "| CuPy (Baseline)       | 48        | 145.0    | 21.2        | 2396.5   |\n",
    "| CuPy (User Cache)     | 48        | 145.7    | 21.2        | 2396.5   |\n",
    "| CuPy (Data Type)      | 48        | 150.4    | 21.2        | 2396.5   |\n",
    "| CuPy (Fast Math)      | 48        | 146.1    | 21.2        | 2396.5   |\n",
    "| CuPy (Fatbin)         | 48        | 22.3     | 21.2        | 2396.5   |\n",
    "| CuPy (Launch Bounds)  | 48        | 22.8     | 21.2        | 2396.5   |\n",
    "| CuPy (Trig Functions) | 48        | 15.5     | 14.1        | 3603.3   |"
   ],
   "cell_type": "markdown",
   "metadata": {}
  }
 ],
 "metadata": {
  "kernelspec": {
   "name": "cusignal2",
   "display_name": "cusignal2",
   "language": "python"
  }
 },
 "nbformat": 4,
 "nbformat_minor": 4
}