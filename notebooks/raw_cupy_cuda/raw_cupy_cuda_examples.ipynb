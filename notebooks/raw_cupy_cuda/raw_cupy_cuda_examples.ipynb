{
 "cells": [
  {
   "source": [
    "# Hardware\n",
    "### DGX Station\n",
    "V100 SMX2 16GB\n",
    "\n",
    "Intel Xeon E5-2968 v4 @ 2.20GHz\n",
    "\n",
    "# Software\n",
    "CUDA 11.0\n",
    "\n",
    "cuSignal 0.19\n",
    "\n",
    "SciPy 1.6.3\n",
    "\n",
    "CuPy 9.0.0\n",
    "\n",
    "# Profiling\n",
    "[Nsight Systems](https://docs.nvidia.com/nsight-systems/UserGuide/index.html)"
   ],
   "cell_type": "markdown",
   "metadata": {}
  },
  {
   "source": [
    "## CPU Baseline\n",
    "Baseline Scipy's Signal Lombscargle function"
   ],
   "cell_type": "markdown",
   "metadata": {}
  },
  {
   "cell_type": "code",
   "execution_count": 1,
   "metadata": {},
   "outputs": [
    {
     "output_type": "stream",
     "name": "stdout",
     "text": [
      "Warning: LBR backtrace method is not supported on this platform. DWARF backtrace method will be used.\n",
      "WARNING: Backtraces will not be collected because sampling is disabled.\n",
      "Collecting data...\n",
      "Processing events...\n",
      "Capturing symbol files...\n",
      "Saving temporary \"/tmp/nsys-report-76d9-cd22-0527-57d3.qdstrm\" file to disk...\n",
      "Creating final output files...\n",
      "\n",
      "Processing [==============================================================100%]\n",
      "Saved report file to \"/tmp/nsys-report-76d9-cd22-0527-57d3.qdrep\"\n",
      "Exporting 643307 events: [================================================100%]\n",
      "\n",
      "Exported successfully to\n",
      "/tmp/nsys-report-76d9-cd22-0527-57d3.sqlite\n",
      "\n",
      "Generating CUDA API Statistics...\n",
      "CUDA API Statistics (nanoseconds)\n",
      "\n",
      "\n",
      "\n",
      "\n",
      "CUDA trace data was not collected.\n",
      "\n",
      "\n",
      "Generating Operating System Runtime API Statistics...\n",
      "Operating System Runtime API Statistics (nanoseconds)\n",
      "\n",
      "Time(%)      Total Time       Calls         Average         Minimum         Maximum  Name                                                                            \n",
      "-------  --------------  ----------  --------------  --------------  --------------  --------------------------------------------------------------------------------\n",
      "   99.0      1380953013      640908          2154.7            1000        11142767  sched_yield                                                                     \n",
      "    0.4         6071471         723          8397.6            1006          167121  read                                                                            \n",
      "    0.2         3344171         628          5325.1            3672           15742  open64                                                                          \n",
      "    0.1         1628940         114         14288.9            3093           46286  munmap                                                                          \n",
      "    0.1         1529464          39         39217.0           22567           85194  pthread_create                                                                  \n",
      "    0.1          825372         200          4126.9            1057           12833  mmap64                                                                          \n",
      "    0.0          315959          39          8101.5            2163           21612  mmap                                                                            \n",
      "    0.0           15539           3          5179.7            1332           11669  pthread_cond_signal                                                             \n",
      "    0.0           11842           3          3947.3            2427            4914  fopen64                                                                         \n",
      "    0.0            4713           3          1571.0            1281            1857  sigaction                                                                       \n",
      "    0.0            4077           1          4077.0            4077            4077  fread                                                                           \n",
      "    0.0            3329           1          3329.0            3329            3329  fclose                                                                          \n",
      "    0.0            2514           2          1257.0            1199            1315  fcntl                                                                           \n",
      "    0.0            1396           1          1396.0            1396            1396  dup                                                                             \n",
      "\n",
      "\n",
      "\n",
      "\n",
      "Generating NVTX Push-Pop Range Statistics...\n",
      "NVTX Push-Pop Range Statistics (nanoseconds)\n",
      "\n",
      "Time(%)      Total Time   Instances         Average         Minimum         Maximum  Range                    \n",
      "-------  --------------  ----------  --------------  --------------  --------------  -------------------------\n",
      "   83.3    257116878180           5   51423375636.0     51420100157     51427666153  scipy_lombscargle_loop   \n",
      "   16.7     51431409113           1   51431409113.0     51431409113     51431409113  scipy_lombscargle        \n",
      "\n",
      "\n",
      "\n",
      "Report file moved to \"/home/odysseus/workStuff/cusignal-icassp-tutorial/notebooks/raw_cupy_cuda/scipy_v1.qdrep\"\n",
      "Report file moved to \"/home/odysseus/workStuff/cusignal-icassp-tutorial/notebooks/raw_cupy_cuda/scipy_v1.sqlite\"\n"
     ]
    }
   ],
   "source": [
    "!nsys profile -s none -o scipy_v1 -f true --stats=true python3 icassp_scipy_v1.py float32 5"
   ]
  },
  {
   "source": [
    "### Single Precision\n",
    "|                       | Registers | JIT (ms) | Kernel (ms) | Speed Up |\n",
    "|:----------------------|:----------|:---------|:------------|:---------|\n",
    "| Scipy                 | -         | 51,075.2 | 51,128.2    | 1.0      |\n",
    "| CuPy (Baseline)       |           |          |             |          |\n",
    "| CuPy (User Cache)     |           |          |             |          |\n",
    "| CuPy (Data Type)      |           |          |             |          |\n",
    "| CuPy (Fast Math)      |           |          |             |          |\n",
    "| CuPy (Fatbin)         |           |          |             |          |\n",
    "| CuPy (Launch Bounds)  |           |          |             |          |\n",
    "| CuPy (Trig Functions) |           |          |             |          |"
   ],
   "cell_type": "markdown",
   "metadata": {}
  },
  {
   "source": [
    "### Double Precision\n",
    "|                       | Registers | JIT (ms) | Kernel (ms) | Speed Up |\n",
    "|:----------------------|:----------|:---------|:------------|:---------|\n",
    "| Scipy                 | -         | 50.799.1 | 50,806.4    | 1.0      |\n",
    "| CuPy (Baseline)       |           |          |             |          |\n",
    "| CuPy (User Cache)     |           |          |             |          |\n",
    "| CuPy (Data Type)      |           |          |             |          |\n",
    "| CuPy (Fast Math)      |           |          |             |          |\n",
    "| CuPy (Fatbin)         |           |          |             |          |\n",
    "| CuPy (Launch Bounds)  |           |          |             |          |\n",
    "| CuPy (Trig Functions) |           |          |             |          |"
   ],
   "cell_type": "markdown",
   "metadata": {}
  },
  {
   "source": [
    "## GPU Scenario #1\n",
    "1. CuPy implementation of Lombscargle function"
   ],
   "cell_type": "markdown",
   "metadata": {}
  },
  {
   "cell_type": "code",
   "execution_count": 2,
   "metadata": {},
   "outputs": [
    {
     "output_type": "stream",
     "name": "stdout",
     "text": [
      "Warning: LBR backtrace method is not supported on this platform. DWARF backtrace method will be used.\n",
      "WARNING: Backtraces will not be collected because sampling is disabled.\n",
      "Collecting data...\n",
      "Processing events...\n",
      "Capturing symbol files...\n",
      "Saving temporary \"/tmp/nsys-report-caf7-5a97-57fb-5eb1.qdstrm\" file to disk...\n",
      "Creating final output files...\n",
      "\n",
      "Processing [==============================================================100%]\n",
      "Saved report file to \"/tmp/nsys-report-caf7-5a97-57fb-5eb1.qdrep\"\n",
      "Exporting 653033 events: [================================================100%]\n",
      "\n",
      "Exported successfully to\n",
      "/tmp/nsys-report-caf7-5a97-57fb-5eb1.sqlite\n",
      "\n",
      "Generating CUDA API Statistics...\n",
      "CUDA API Statistics (nanoseconds)\n",
      "\n",
      "Time(%)      Total Time       Calls         Average         Minimum         Maximum  Name                                                                            \n",
      "-------  --------------  ----------  --------------  --------------  --------------  --------------------------------------------------------------------------------\n",
      "   97.8     20056687899        2001      10023332.3         9562873        10851736  cudaDeviceSynchronize                                                           \n",
      "    2.0       415401128           6      69233521.3           10088       414612832  cudaMalloc                                                                      \n",
      "    0.1        27280299        2001         13633.3           12413           29884  cuLaunchKernel                                                                  \n",
      "    0.0         2682234           2       1341117.0         1050621         1631613  cudaHostAlloc                                                                   \n",
      "    0.0          285520           1        285520.0          285520          285520  cuModuleLoadData                                                                \n",
      "    0.0          106139           1        106139.0          106139          106139  cuModuleUnload                                                                  \n",
      "    0.0           45407           3         15135.7           11576           18014  cudaMemcpyAsync                                                                 \n",
      "    0.0           43799           1         43799.0           43799           43799  cudaMemGetInfo                                                                  \n",
      "    0.0           15912           3          5304.0            1998           11330  cudaEventCreateWithFlags                                                        \n",
      "    0.0           15147           5          3029.4            1616            4644  cudaEventQuery                                                                  \n",
      "    0.0           12556           3          4185.3            3545            5164  cudaEventRecord                                                                 \n",
      "    0.0            4925           2          2462.5            2407            2518  cudaEventDestroy                                                                \n",
      "\n",
      "\n",
      "\n",
      "\n",
      "Generating CUDA Kernel Statistics...\n",
      "CUDA Kernel Statistics (nanoseconds)\n",
      "\n",
      "Time(%)      Total Time   Instances         Average         Minimum         Maximum  Name                                                                                                                                                                                                                                                                                                                                         \n",
      "-------  --------------  ----------  --------------  --------------  --------------  --------------------------------------------------------------------------------------------------------------------                                                                                                                                                                                                                         \n",
      "  100.0     20053721658        2001      10021849.9         9562272        10849989  _cupy_lombscargle                                                                                                                                                                                                                                                                                                                            \n",
      "\n",
      "\n",
      "\n",
      "Generating CUDA Memory Operation Statistics...\n",
      "CUDA Memory Operation Statistics (nanoseconds)\n",
      "\n",
      "Time(%)      Total Time  Operations         Average         Minimum         Maximum  Name                                                                            \n",
      "-------  --------------  ----------  --------------  --------------  --------------  --------------------------------------------------------------------------------\n",
      "  100.0          343169           3        114389.7            1856          339457  [CUDA memcpy HtoD]                                                              \n",
      "\n",
      "\n",
      "CUDA Memory Operation Statistics (KiB)\n",
      "\n",
      "              Total      Operations              Average            Minimum              Maximum  Name                                                                            \n",
      "-------------------  --------------  -------------------  -----------------  -------------------  --------------------------------------------------------------------------------\n",
      "           4109.086               3             1369.695              6.543             4096.000  [CUDA memcpy HtoD]                                                              \n",
      "\n",
      "\n",
      "\n",
      "\n",
      "Generating Operating System Runtime API Statistics...\n",
      "Operating System Runtime API Statistics (nanoseconds)\n",
      "\n",
      "Time(%)      Total Time       Calls         Average         Minimum         Maximum  Name                                                                            \n",
      "-------  --------------  ----------  --------------  --------------  --------------  --------------------------------------------------------------------------------\n",
      "   48.4     21032247778         223      94315012.5           11525       100070240  sem_timedwait                                                                   \n",
      "   47.9     20824872202         221      94230191.0           26602       100122146  poll                                                                            \n",
      "    3.3      1450310500      638675          2270.8            1000        13952934  sched_yield                                                                     \n",
      "    0.4       159383961        1124        141800.7            1000        66788714  ioctl                                                                           \n",
      "    0.0         5643007         753          7494.0            1006          159995  read                                                                            \n",
      "    0.0         4521093         755          5988.2            3253           20207  open64                                                                          \n",
      "    0.0         3329453         134         24846.7            1783         1044990  mmap                                                                            \n",
      "    0.0         1940272          43         45122.6           20162          122736  pthread_create                                                                  \n",
      "    0.0         1298965         116         11198.0            2979          106113  munmap                                                                          \n",
      "    0.0          837085         196          4270.8            1024           80821  mmap64                                                                          \n",
      "    0.0          210685          35          6019.6            1452           70021  fopen                                                                           \n",
      "    0.0          187831           3         62610.3           59760           67449  fgets                                                                           \n",
      "    0.0           67452          13          5188.6            2921            6524  write                                                                           \n",
      "    0.0           57027          30          1900.9            1191            3635  fclose                                                                          \n",
      "    0.0           36397           5          7279.4            3650            8869  open                                                                            \n",
      "    0.0           34659           7          4951.3            3513            8412  fread                                                                           \n",
      "    0.0           20265          15          1351.0            1003            4274  fcntl                                                                           \n",
      "    0.0           14557           2          7278.5            4692            9865  socket                                                                          \n",
      "    0.0           13227           1         13227.0           13227           13227  sem_wait                                                                        \n",
      "    0.0           12276           4          3069.0            1578            6636  signal                                                                          \n",
      "    0.0            9378           3          3126.0            1913            3736  fopen64                                                                         \n",
      "    0.0            9034           1          9034.0            9034            9034  connect                                                                         \n",
      "    0.0            7031           1          7031.0            7031            7031  pipe2                                                                           \n",
      "    0.0            4033           3          1344.3            1047            1676  sigaction                                                                       \n",
      "    0.0            2135           1          2135.0            2135            2135  bind                                                                            \n",
      "    0.0            1805           1          1805.0            1805            1805  pthread_cond_signal                                                             \n",
      "    0.0            1226           1          1226.0            1226            1226  listen                                                                          \n",
      "    0.0            1150           1          1150.0            1150            1150  dup                                                                             \n",
      "\n",
      "\n",
      "\n",
      "\n",
      "Generating NVTX Push-Pop Range Statistics...\n",
      "NVTX Push-Pop Range Statistics (nanoseconds)\n",
      "\n",
      "Time(%)      Total Time   Instances         Average         Minimum         Maximum  Range                   \n",
      "-------  --------------  ----------  --------------  --------------  --------------  ------------------------\n",
      "   99.3     20244660806        2000      10122330.4         9662292        10950094  cupy_lombscargle_loop   \n",
      "    0.7       137536440           1     137536440.0       137536440       137536440  cupy_lombscargle        \n",
      "\n",
      "\n",
      "\n",
      "Report file moved to \"/home/odysseus/workStuff/cusignal-icassp-tutorial/notebooks/raw_cupy_cuda/cupy_v1.qdrep\"\n",
      "Report file moved to \"/home/odysseus/workStuff/cusignal-icassp-tutorial/notebooks/raw_cupy_cuda/cupy_v1.sqlite\"\n"
     ]
    }
   ],
   "source": [
    "!nsys profile -s none -o cupy_v1 -f true --stats=true python3 icassp_cupy_v1.py float32 2000 0"
   ]
  },
  {
   "cell_type": "code",
   "execution_count": 3,
   "metadata": {},
   "outputs": [
    {
     "output_type": "stream",
     "name": "stdout",
     "text": [
      "Using cupy_v1.sqlite file for stats and reports.\n",
      "Exporting [/opt/nvidia/nsight-systems/2020.3.2/target-linux-x64/reports/gpukernsum cupy_v1.sqlite] to console... \n",
      "\n",
      " Time(%)  Total Time (ns)  Instances    Average      Minimum    Maximum          Name       \n",
      " -------  ---------------  ---------  ------------  ---------  ----------  -----------------\n",
      "   100.0   20,053,721,658      2,001  10,021,849.9  9,562,272  10,849,989  _cupy_lombscargle\n",
      "\n",
      "Exporting [/opt/nvidia/nsight-systems/2020.3.2/target-linux-x64/reports/nvtxppsum cupy_v1.sqlite] to console... \n",
      "\n",
      " Time(%)  Total Time (ns)  Instances     Average       Minimum      Maximum            Range        \n",
      " -------  ---------------  ---------  -------------  -----------  -----------  ---------------------\n",
      "    99.3   20,244,660,806      2,000   10,122,330.4    9,662,292   10,950,094  cupy_lombscargle_loop\n",
      "     0.7      137,536,440          1  137,536,440.0  137,536,440  137,536,440  cupy_lombscargle     \n",
      "\n"
     ]
    }
   ],
   "source": [
    "#!nsys stats --report gpukernsum --report nvtxppsum --report gputrace cupy_v1.qdrep # Use to get register usage\n",
    "!nsys stats --report gpukernsum --report nvtxppsum cupy_v1.qdrep"
   ]
  },
  {
   "source": [
    "### Single Precision\n",
    "|                       | Registers | JIT (ms) | Kernel (ms) | Speed Up |\n",
    "|:----------------------|:----------|:---------|:------------|:---------|\n",
    "| Scipy                 | -         | 51,075.2 | 51,128.2    | 1.0      |\n",
    "| CuPy (Baseline)       | 30        | 135.1    | 10.1        | 5062.2   |\n",
    "| CuPy (User Cache)     |           |          |             |          |\n",
    "| CuPy (Data Type)      |           |          |             |          |\n",
    "| CuPy (Fast Math)      |           |          |             |          |\n",
    "| CuPy (Fatbin)         |           |          |             |          |\n",
    "| CuPy (Launch Bounds)  |           |          |             |          |\n",
    "| CuPy (Trig Functions) |           |          |             |          |"
   ],
   "cell_type": "markdown",
   "metadata": {}
  },
  {
   "source": [
    "### Double Precision\n",
    "|                       | Registers | JIT (ms) | Kernel (ms) | Speed Up |\n",
    "|:----------------------|:----------|:---------|:------------|:---------|\n",
    "| Scipy                 | -         | 50.799.1 | 50,806.4    | 1.0      |\n",
    "| CuPy (Baseline)       | 48        | 145.0    | 21.2        | 2396.5   |\n",
    "| CuPy (User Cache)     |           |          |             |          |\n",
    "| CuPy (Data Type)      |           |          |             |          |\n",
    "| CuPy (Fast Math)      |           |          |             |          |\n",
    "| CuPy (Fatbin)         |           |          |             |          |\n",
    "| CuPy (Launch Bounds)  |           |          |             |          |\n",
    "| CuPy (Trig Functions) |           |          |             |          |"
   ],
   "cell_type": "markdown",
   "metadata": {}
  },
  {
   "source": [
    "## GPU Scenario #2\n",
    "1. CuPy implementation of Lombscargle function\n",
    "2. Added user cache"
   ],
   "cell_type": "markdown",
   "metadata": {}
  },
  {
   "cell_type": "code",
   "execution_count": 4,
   "metadata": {},
   "outputs": [
    {
     "output_type": "stream",
     "name": "stdout",
     "text": [
      "Warning: LBR backtrace method is not supported on this platform. DWARF backtrace method will be used.\n",
      "WARNING: Backtraces will not be collected because sampling is disabled.\n",
      "Collecting data...\n",
      "Registers 30\n",
      "Processing events...\n",
      "Capturing symbol files...\n",
      "Saving temporary \"/tmp/nsys-report-135b-ce84-6218-c1e1.qdstrm\" file to disk...\n",
      "Creating final output files...\n",
      "\n",
      "Processing [==============================================================100%]\n",
      "Saved report file to \"/tmp/nsys-report-135b-ce84-6218-c1e1.qdrep\"\n",
      "Report file moved to \"/home/odysseus/workStuff/cusignal-icassp-tutorial/notebooks/raw_cupy_cuda/cupy_v2.qdrep\"\n"
     ]
    }
   ],
   "source": [
    "!nsys profile -s none -o cupy_v2 -f true python3 icassp_cupy_v2.py float32 2000 0"
   ]
  },
  {
   "cell_type": "code",
   "execution_count": 5,
   "metadata": {},
   "outputs": [
    {
     "output_type": "stream",
     "name": "stdout",
     "text": [
      "Generate SQLite file cupy_v2.sqlite from cupy_v2.qdrep\n",
      "Exporting 635440 events: [================================================100%]\n",
      "Using cupy_v2.sqlite file for stats and reports.\n",
      "Exporting [/opt/nvidia/nsight-systems/2020.3.2/target-linux-x64/reports/gpukernsum cupy_v2.sqlite] to console... \n",
      "\n",
      " Time(%)  Total Time (ns)  Instances    Average      Minimum    Maximum          Name       \n",
      " -------  ---------------  ---------  ------------  ---------  ----------  -----------------\n",
      "   100.0   20,070,227,792      2,001  10,030,098.8  9,565,922  11,214,888  _cupy_lombscargle\n",
      "\n",
      "Exporting [/opt/nvidia/nsight-systems/2020.3.2/target-linux-x64/reports/nvtxppsum cupy_v2.sqlite] to console... \n",
      "\n",
      " Time(%)  Total Time (ns)  Instances     Average       Minimum      Maximum            Range        \n",
      " -------  ---------------  ---------  -------------  -----------  -----------  ---------------------\n",
      "    99.3   20,177,914,899      2,000   10,088,957.4    9,623,261   11,272,907  cupy_lombscargle_loop\n",
      "     0.7      132,760,401          1  132,760,401.0  132,760,401  132,760,401  cupy_lombscargle     \n",
      "\n"
     ]
    }
   ],
   "source": [
    "!nsys stats --report gpukernsum --report nvtxppsum cupy_v2.qdrep"
   ]
  },
  {
   "source": [
    "### Single Precision\n",
    "|                       | Registers | JIT (ms) | Kernel (ms) | Speed Up |\n",
    "|:----------------------|:----------|:---------|:------------|:---------|\n",
    "| Scipy                 | -         | 51,075.2 | 51,128.2    | 1.0      |\n",
    "| CuPy (Baseline)       | 30        | 135.1    | 10.1        | 5062.2   |\n",
    "| CuPy (User Cache)     | 30        | 137.2    | 10.1        | 5062.2   |\n",
    "| CuPy (Data Type)      |           |          |             |          |\n",
    "| CuPy (Fast Math)      |           |          |             |          |\n",
    "| CuPy (Fatbin)         |           |          |             |          |\n",
    "| CuPy (Launch Bounds)  |           |          |             |          |\n",
    "| CuPy (Trig Functions) |           |          |             |          |"
   ],
   "cell_type": "markdown",
   "metadata": {}
  },
  {
   "source": [
    "### Double Precision\n",
    "|                       | Registers | JIT (ms) | Kernel (ms) | Speed Up |\n",
    "|:----------------------|:----------|:---------|:------------|:---------|\n",
    "| Scipy                 | -         | 50.799.1 | 50,806.4    | 1.0      |\n",
    "| CuPy (Baseline)       | 48        | 145.0    | 21.2        | 2396.5   |\n",
    "| CuPy (User Cache)     | 48        | 145.7    | 21.2        | 2396.5   |\n",
    "| CuPy (Data Type)      |           |          |             |          |\n",
    "| CuPy (Fast Math)      |           |          |             |          |\n",
    "| CuPy (Fatbin)         |           |          |             |          |\n",
    "| CuPy (Launch Bounds)  |           |          |             |          |\n",
    "| CuPy (Trig Functions) |           |          |             |          |"
   ],
   "cell_type": "markdown",
   "metadata": {}
  },
  {
   "source": [
    "## GPU Scenario #3\n",
    "1. CuPy implementation of Lombscargle function\n",
    "2. Added user cache\n",
    "3. Specific functions per data type"
   ],
   "cell_type": "markdown",
   "metadata": {}
  },
  {
   "cell_type": "code",
   "execution_count": 6,
   "metadata": {},
   "outputs": [
    {
     "output_type": "stream",
     "name": "stdout",
     "text": [
      "Warning: LBR backtrace method is not supported on this platform. DWARF backtrace method will be used.\n",
      "WARNING: Backtraces will not be collected because sampling is disabled.\n",
      "Collecting data...\n",
      "Registers 26\n",
      "Processing events...\n",
      "Capturing symbol files...\n",
      "Saving temporary \"/tmp/nsys-report-fbcb-de55-99a3-8d1c.qdstrm\" file to disk...\n",
      "Creating final output files...\n",
      "\n",
      "Processing [==============================================================100%]\n",
      "Saved report file to \"/tmp/nsys-report-fbcb-de55-99a3-8d1c.qdrep\"\n",
      "Report file moved to \"/home/odysseus/workStuff/cusignal-icassp-tutorial/notebooks/raw_cupy_cuda/cupy_v3.qdrep\"\n"
     ]
    }
   ],
   "source": [
    "!nsys profile -s none -o cupy_v3 -f true python3 icassp_cupy_v3.py float32 2000 0"
   ]
  },
  {
   "cell_type": "code",
   "execution_count": 7,
   "metadata": {},
   "outputs": [
    {
     "output_type": "stream",
     "name": "stdout",
     "text": [
      "Generate SQLite file cupy_v3.sqlite from cupy_v3.qdrep\n",
      "Exporting 648951 events: [================================================100%]\n",
      "Using cupy_v3.sqlite file for stats and reports.\n",
      "Exporting [/opt/nvidia/nsight-systems/2020.3.2/target-linux-x64/reports/gpukernsum cupy_v3.sqlite] to console... \n",
      "\n",
      " Time(%)  Total Time (ns)  Instances    Average      Minimum    Maximum              Name           \n",
      " -------  ---------------  ---------  ------------  ---------  ----------  -------------------------\n",
      "   100.0   20,377,888,995      2,001  10,183,852.6  9,708,131  10,887,367  _cupy_lombscargle_float32\n",
      "\n",
      "Exporting [/opt/nvidia/nsight-systems/2020.3.2/target-linux-x64/reports/nvtxppsum cupy_v3.sqlite] to console... \n",
      "\n",
      " Time(%)  Total Time (ns)  Instances     Average       Minimum      Maximum            Range        \n",
      " -------  ---------------  ---------  -------------  -----------  -----------  ---------------------\n",
      "    99.3   20,578,059,624      2,000   10,289,029.8    9,805,129   11,003,895  cupy_lombscargle_loop\n",
      "     0.7      138,775,801          1  138,775,801.0  138,775,801  138,775,801  cupy_lombscargle     \n",
      "\n"
     ]
    }
   ],
   "source": [
    "!nsys stats --report gpukernsum --report nvtxppsum cupy_v3.qdrep"
   ]
  },
  {
   "source": [
    "### Single Precision\n",
    "|                       | Registers | JIT (ms) | Kernel (ms) | Speed Up |\n",
    "|:----------------------|:----------|:---------|:------------|:---------|\n",
    "| Scipy                 | -         | 51,075.2 | 51,128.2    | 1.0      |\n",
    "| CuPy (Baseline)       | 30        | 135.1    | 10.1        | 5062.2   |\n",
    "| CuPy (User Cache)     | 30        | 137.2    | 10.1        | 5062.2   |\n",
    "| CuPy (Data Type)      | 26        | 135.4    | 10.3        | 4963.9   |\n",
    "| CuPy (Fast Math)      |           |          |             |          |\n",
    "| CuPy (Fatbin)         |           |          |             |          |\n",
    "| CuPy (Launch Bounds)  |           |          |             |          |\n",
    "| CuPy (Trig Functions) |           |          |             |          |"
   ],
   "cell_type": "markdown",
   "metadata": {}
  },
  {
   "source": [
    "### Double Precision\n",
    "|                       | Registers | JIT (ms) | Kernel (ms) | Speed Up |\n",
    "|:----------------------|:----------|:---------|:------------|:---------|\n",
    "| Scipy                 | -         | 50.799.1 | 50,806.4    | 1.0      |\n",
    "| CuPy (Baseline)       | 48        | 145.0    | 21.2        | 2396.5   |\n",
    "| CuPy (User Cache)     | 48        | 145.7    | 21.2        | 2396.5   |\n",
    "| CuPy (Data Type)      | 48        | 150.4    | 21.2        | 2396.5   |\n",
    "| CuPy (Fast Math)      |           |          |             |          |\n",
    "| CuPy (Fatbin)         |           |          |             |          |\n",
    "| CuPy (Launch Bounds)  |           |          |             |          |\n",
    "| CuPy (Trig Functions) |           |          |             |          |"
   ],
   "cell_type": "markdown",
   "metadata": {}
  },
  {
   "source": [
    "## GPU Scenario #4\n",
    "1. CuPy implementation of Lombscargle function\n",
    "2. Added user cache\n",
    "3. Specific functions per data type\n",
    "4. Utilize fast_math compiler flag"
   ],
   "cell_type": "markdown",
   "metadata": {}
  },
  {
   "cell_type": "code",
   "execution_count": 9,
   "metadata": {},
   "outputs": [
    {
     "output_type": "stream",
     "name": "stdout",
     "text": [
      "Warning: LBR backtrace method is not supported on this platform. DWARF backtrace method will be used.\n",
      "WARNING: Backtraces will not be collected because sampling is disabled.\n",
      "Collecting data...\n",
      "Registers 32\n",
      "Processing events...\n",
      "Capturing symbol files...\n",
      "Saving temporary \"/tmp/nsys-report-59d9-9902-2366-fb3c.qdstrm\" file to disk...\n",
      "Creating final output files...\n",
      "\n",
      "Processing [==============================================================100%]\n",
      "Saved report file to \"/tmp/nsys-report-59d9-9902-2366-fb3c.qdrep\"\n",
      "Report file moved to \"/home/odysseus/workStuff/cusignal-icassp-tutorial/notebooks/raw_cupy_cuda/cupy_v4.qdrep\"\n"
     ]
    }
   ],
   "source": [
    "!nsys profile -s none -o cupy_v4 -f true python3 icassp_cupy_v4.py float32 2000 0"
   ]
  },
  {
   "cell_type": "code",
   "execution_count": 10,
   "metadata": {},
   "outputs": [
    {
     "output_type": "stream",
     "name": "stdout",
     "text": [
      "Generate SQLite file cupy_v4.sqlite from cupy_v4.qdrep\n",
      "Exporting 609810 events: [================================================100%]\n",
      "Using cupy_v4.sqlite file for stats and reports.\n",
      "Exporting [/opt/nvidia/nsight-systems/2020.3.2/target-linux-x64/reports/gpukernsum cupy_v4.sqlite] to console... \n",
      "\n",
      " Time(%)  Total Time (ns)  Instances    Average     Minimum    Maximum             Name           \n",
      " -------  ---------------  ---------  -----------  ---------  ---------  -------------------------\n",
      "   100.0    4,474,465,748      2,001  2,236,114.8  2,133,767  2,320,873  _cupy_lombscargle_float32\n",
      "\n",
      "Exporting [/opt/nvidia/nsight-systems/2020.3.2/target-linux-x64/reports/nvtxppsum cupy_v4.sqlite] to console... \n",
      "\n",
      " Time(%)  Total Time (ns)  Instances     Average       Minimum      Maximum            Range        \n",
      " -------  ---------------  ---------  -------------  -----------  -----------  ---------------------\n",
      "    97.4    4,658,597,871      2,000    2,329,298.9    2,226,509    2,634,089  cupy_lombscargle_loop\n",
      "     2.6      126,185,225          1  126,185,225.0  126,185,225  126,185,225  cupy_lombscargle     \n",
      "\n"
     ]
    }
   ],
   "source": [
    "!nsys stats --report gpukernsum --report nvtxppsum cupy_v4.qdrep"
   ]
  },
  {
   "source": [
    "### Single Precision\n",
    "|                       | Registers | JIT (ms) | Kernel (ms) | Speed Up |\n",
    "|:----------------------|:----------|:---------|:------------|:---------|\n",
    "| Scipy                 | -         | 51,075.2 | 51,128.2    | 1.0      |\n",
    "| CuPy (Baseline)       | 30        | 135.1    | 10.1        | 5062.2   |\n",
    "| CuPy (User Cache)     | 30        | 137.2    | 10.1        | 5062.2   |\n",
    "| CuPy (Data Type)      | 26        | 135.4    | 10.3        | 4963.9   |\n",
    "| CuPy (Fast Math)      | 32        | 126.1    | 2.3         | 22229.7  |\n",
    "| CuPy (Fatbin)         |           |          |             |          |\n",
    "| CuPy (Launch Bounds)  |           |          |             |          |\n",
    "| CuPy (Trig Functions) |           |          |             |          |"
   ],
   "cell_type": "markdown",
   "metadata": {}
  },
  {
   "source": [
    "### Double Precision\n",
    "|                       | Registers | JIT (ms) | Kernel (ms) | Speed Up |\n",
    "|:----------------------|:----------|:---------|:------------|:---------|\n",
    "| Scipy                 | -         | 50.799.1 | 50,806.4    | 1.0      |\n",
    "| CuPy (Baseline)       | 48        | 145.0    | 21.2        | 2396.5   |\n",
    "| CuPy (User Cache)     | 48        | 145.7    | 21.2        | 2396.5   |\n",
    "| CuPy (Data Type)      | 48        | 150.4    | 21.2        | 2396.5   |\n",
    "| CuPy (Fast Math)      | 48        | 146.1    | 21.2        | 2396.5   |\n",
    "| CuPy (Fatbin)         |           |          |             |          |\n",
    "| CuPy (Launch Bounds)  |           |          |             |          |\n",
    "| CuPy (Trig Functions) |           |          |             |          |"
   ],
   "cell_type": "markdown",
   "metadata": {}
  },
  {
   "source": [
    "## GPU Scenario #5\n",
    "1. CuPy implementation of Lombscargle function\n",
    "2. Added user cache\n",
    "3. Specific functions per data type\n",
    "4. Utilize fast_math compiler flag\n",
    "5. Precompile CUDA kernels into fatbins to be loaded at runtime"
   ],
   "cell_type": "markdown",
   "metadata": {}
  },
  {
   "cell_type": "code",
   "execution_count": 11,
   "metadata": {},
   "outputs": [],
   "source": [
    "!nvcc --fatbin -std=c++11 --use_fast_math \\\n",
    "    --generate-code arch=compute_70,code=sm_70 \\\n",
    "    --generate-code arch=compute_75,code=sm_75 \\\n",
    "    --generate-code arch=compute_80,code=[sm_80,compute_80] \\\n",
    "    _lombscargle.cu -odir ."
   ]
  },
  {
   "cell_type": "code",
   "execution_count": 12,
   "metadata": {},
   "outputs": [
    {
     "output_type": "stream",
     "name": "stdout",
     "text": [
      "Warning: LBR backtrace method is not supported on this platform. DWARF backtrace method will be used.\n",
      "WARNING: Backtraces will not be collected because sampling is disabled.\n",
      "Collecting data...\n",
      "Registers 32\n",
      "Processing events...\n",
      "Capturing symbol files...\n",
      "Saving temporary \"/tmp/nsys-report-106c-2be3-6e40-4ecf.qdstrm\" file to disk...\n",
      "Creating final output files...\n",
      "\n",
      "Processing [==============================================================100%]\n",
      "Saved report file to \"/tmp/nsys-report-106c-2be3-6e40-4ecf.qdrep\"\n",
      "Report file moved to \"/home/odysseus/workStuff/cusignal-icassp-tutorial/notebooks/raw_cupy_cuda/cupy_v5.qdrep\"\n"
     ]
    }
   ],
   "source": [
    "!nsys profile -s none -o cupy_v5 -f true python3 icassp_cupy_v5.py float32 2000 0"
   ]
  },
  {
   "cell_type": "code",
   "execution_count": 13,
   "metadata": {},
   "outputs": [
    {
     "output_type": "stream",
     "name": "stdout",
     "text": [
      "Generate SQLite file cupy_v5.sqlite from cupy_v5.qdrep\n",
      "Exporting 622705 events: [================================================100%]\n",
      "Using cupy_v5.sqlite file for stats and reports.\n",
      "Exporting [/opt/nvidia/nsight-systems/2020.3.2/target-linux-x64/reports/gpukernsum cupy_v5.sqlite] to console... \n",
      "\n",
      " Time(%)  Total Time (ns)  Instances    Average     Minimum    Maximum             Name           \n",
      " -------  ---------------  ---------  -----------  ---------  ---------  -------------------------\n",
      "   100.0    4,493,516,577      2,001  2,245,635.5  2,137,543  2,597,897  _cupy_lombscargle_float32\n",
      "\n",
      "Exporting [/opt/nvidia/nsight-systems/2020.3.2/target-linux-x64/reports/nvtxppsum cupy_v5.sqlite] to console... \n",
      "\n",
      " Time(%)  Total Time (ns)  Instances    Average     Minimum    Maximum           Range        \n",
      " -------  ---------------  ---------  -----------  ---------  ---------  ---------------------\n",
      "    99.9    4,681,463,056      2,000  2,340,731.5  2,231,473  2,696,755  cupy_lombscargle_loop\n",
      "     0.1        3,814,406          1  3,814,406.0  3,814,406  3,814,406  cupy_lombscargle     \n",
      "\n"
     ]
    }
   ],
   "source": [
    "!nsys stats --report gpukernsum --report nvtxppsum cupy_v5.qdrep"
   ]
  },
  {
   "source": [
    "### Single Precision\n",
    "|                       | Registers | JIT (ms) | Kernel (ms) | Speed Up |\n",
    "|:----------------------|:----------|:---------|:------------|:---------|\n",
    "| Scipy                 | -         | 51,075.2 | 51,128.2    | 1.0      |\n",
    "| CuPy (Baseline)       | 30        | 135.1    | 10.1        | 5062.2   |\n",
    "| CuPy (User Cache)     | 30        | 137.2    | 10.1        | 5062.2   |\n",
    "| CuPy (Data Type)      | 26        | 135.4    | 10.3        | 4963.9   |\n",
    "| CuPy (Fast Math)      | 32        | 126.1    | 2.3         | 22229.7  |\n",
    "| CuPy (Fatbin)         | 32        | 3.9      | 2.3         | 22229.7  |\n",
    "| CuPy (Launch Bounds)  |           |          |             |          |\n",
    "| CuPy (Trig Functions) |           |          |             |          |"
   ],
   "cell_type": "markdown",
   "metadata": {}
  },
  {
   "source": [
    "### Double Precision\n",
    "|                       | Registers | JIT (ms) | Kernel (ms) | Speed Up |\n",
    "|:----------------------|:----------|:---------|:------------|:---------|\n",
    "| Scipy                 | -         | 50.799.1 | 50,806.4    | 1.0      |\n",
    "| CuPy (Baseline)       | 48        | 145.0    | 21.2        | 2396.5   |\n",
    "| CuPy (User Cache)     | 48        | 145.7    | 21.2        | 2396.5   |\n",
    "| CuPy (Data Type)      | 48        | 150.4    | 21.2        | 2396.5   |\n",
    "| CuPy (Fast Math)      | 48        | 146.1    | 21.2        | 2396.5   |\n",
    "| CuPy (Fatbin)         | 48        | 22.3     | 21.2        | 2396.5   |\n",
    "| CuPy (Launch Bounds)  |           |          |             |          |\n",
    "| CuPy (Trig Functions) |           |          |             |          |"
   ],
   "cell_type": "markdown",
   "metadata": {}
  },
  {
   "source": [
    "## GPU Scenario #6\n",
    "1. CuPy implementation of Lombscargle function\n",
    "2. Added user cache\n",
    "3. Specific functions per data type\n",
    "4. Utilize fast_math compiler flag\n",
    "5. Precompile CUDA kernels into fatbins to be loaded at runtime\n",
    "6. Add launch bounds to CUDA kernels"
   ],
   "cell_type": "markdown",
   "metadata": {}
  },
  {
   "cell_type": "code",
   "execution_count": 14,
   "metadata": {},
   "outputs": [],
   "source": [
    "!nvcc --fatbin -std=c++11 --use_fast_math \\\n",
    "    --generate-code arch=compute_70,code=sm_70 \\\n",
    "    --generate-code arch=compute_75,code=sm_75 \\\n",
    "    --generate-code arch=compute_80,code=[sm_80,compute_80] \\\n",
    "    _lombscargle_lb.cu -odir ."
   ]
  },
  {
   "cell_type": "code",
   "execution_count": 15,
   "metadata": {},
   "outputs": [
    {
     "output_type": "stream",
     "name": "stdout",
     "text": [
      "Warning: LBR backtrace method is not supported on this platform. DWARF backtrace method will be used.\n",
      "WARNING: Backtraces will not be collected because sampling is disabled.\n",
      "Collecting data...\n",
      "Registers 31\n",
      "Processing events...\n",
      "Capturing symbol files...\n",
      "Saving temporary \"/tmp/nsys-report-21c0-8197-8b3d-5e67.qdstrm\" file to disk...\n",
      "Creating final output files...\n",
      "\n",
      "Processing [==============================================================100%]\n",
      "Saved report file to \"/tmp/nsys-report-21c0-8197-8b3d-5e67.qdrep\"\n",
      "Report file moved to \"/home/odysseus/workStuff/cusignal-icassp-tutorial/notebooks/raw_cupy_cuda/cupy_v6.qdrep\"\n"
     ]
    }
   ],
   "source": [
    "!nsys profile -s none -o cupy_v6 -f true python3 icassp_cupy_v6.py float32 2000 0"
   ]
  },
  {
   "cell_type": "code",
   "execution_count": 16,
   "metadata": {},
   "outputs": [
    {
     "output_type": "stream",
     "name": "stdout",
     "text": [
      "Generate SQLite file cupy_v6.sqlite from cupy_v6.qdrep\n",
      "Exporting 635144 events: [================================================100%]\n",
      "Using cupy_v6.sqlite file for stats and reports.\n",
      "Exporting [/opt/nvidia/nsight-systems/2020.3.2/target-linux-x64/reports/gpukernsum cupy_v6.sqlite] to console... \n",
      "\n",
      " Time(%)  Total Time (ns)  Instances    Average     Minimum    Maximum             Name           \n",
      " -------  ---------------  ---------  -----------  ---------  ---------  -------------------------\n",
      "   100.0    4,481,171,056      2,001  2,239,465.8  2,143,303  2,488,841  _cupy_lombscargle_float32\n",
      "\n",
      "Exporting [/opt/nvidia/nsight-systems/2020.3.2/target-linux-x64/reports/nvtxppsum cupy_v6.sqlite] to console... \n",
      "\n",
      " Time(%)  Total Time (ns)  Instances    Average     Minimum    Maximum           Range        \n",
      " -------  ---------------  ---------  -----------  ---------  ---------  ---------------------\n",
      "    99.9    4,666,106,676      2,000  2,333,053.3  2,236,028  2,626,096  cupy_lombscargle_loop\n",
      "     0.1        3,911,713          1  3,911,713.0  3,911,713  3,911,713  cupy_lombscargle     \n",
      "\n"
     ]
    }
   ],
   "source": [
    "!nsys stats --report gpukernsum --report nvtxppsum cupy_v6.qdrep"
   ]
  },
  {
   "source": [
    "### Single Precision\n",
    "|                       | Registers | JIT (ms) | Kernel (ms) | Speed Up |\n",
    "|:----------------------|:----------|:---------|:------------|:---------|\n",
    "| Scipy                 | -         | 51,075.2 | 51,128.2    | 1.0      |\n",
    "| CuPy (Baseline)       | 30        | 135.1    | 10.1        | 5062.2   |\n",
    "| CuPy (User Cache)     | 30        | 137.2    | 10.1        | 5062.2   |\n",
    "| CuPy (Data Type)      | 26        | 135.4    | 10.3        | 4963.9   |\n",
    "| CuPy (Fast Math)      | 32        | 126.1    | 2.3         | 22229.7  |\n",
    "| CuPy (Fatbin)         | 32        | 3.9      | 2.3         | 22229.7  |\n",
    "| CuPy (Launch Bounds)  | 31        | 3.9      | 2.3         | 22229.7  |\n",
    "| CuPy (Trig Functions) |           |          |             |          |"
   ],
   "cell_type": "markdown",
   "metadata": {}
  },
  {
   "source": [
    "### Double Precision\n",
    "|                       | Registers | JIT (ms) | Kernel (ms) | Speed Up |\n",
    "|:----------------------|:----------|:---------|:------------|:---------|\n",
    "| Scipy                 | -         | 50.799.1 | 50,806.4    | 1.0      |\n",
    "| CuPy (Baseline)       | 48        | 145.0    | 21.2        | 2396.5   |\n",
    "| CuPy (User Cache)     | 48        | 145.7    | 21.2        | 2396.5   |\n",
    "| CuPy (Data Type)      | 48        | 150.4    | 21.2        | 2396.5   |\n",
    "| CuPy (Fast Math)      | 48        | 146.1    | 21.2        | 2396.5   |\n",
    "| CuPy (Fatbin)         | 48        | 22.3     | 21.2        | 2396.5   |\n",
    "| CuPy (Launch Bounds)  | 48        | 22.8     | 21.2        | 2396.5   |\n",
    "| CuPy (Trig Functions) |           |          |             |          |"
   ],
   "cell_type": "markdown",
   "metadata": {}
  },
  {
   "source": [
    "## GPU Scenario #7\n",
    "1. CuPy implementation of Lombscargle function\n",
    "2. Added user cache\n",
    "3. Specific functions per data type\n",
    "4. Utilize fast_math compiler flag\n",
    "5. Precompile CUDA kernels into fatbins to be loaded at runtime\n",
    "6. Add launch bounds to CUDA kernels\n",
    "7. Use fast sin + cos functions"
   ],
   "cell_type": "markdown",
   "metadata": {}
  },
  {
   "cell_type": "code",
   "execution_count": 17,
   "metadata": {},
   "outputs": [],
   "source": [
    "!nvcc --fatbin -std=c++11 --use_fast_math \\\n",
    "    --generate-code arch=compute_70,code=sm_70 \\\n",
    "    --generate-code arch=compute_75,code=sm_75 \\\n",
    "    --generate-code arch=compute_80,code=[sm_80,compute_80] \\\n",
    "    _lombscargle_lb_trig.cu -odir ."
   ]
  },
  {
   "cell_type": "code",
   "execution_count": 18,
   "metadata": {},
   "outputs": [
    {
     "output_type": "stream",
     "name": "stdout",
     "text": [
      "Warning: LBR backtrace method is not supported on this platform. DWARF backtrace method will be used.\n",
      "WARNING: Backtraces will not be collected because sampling is disabled.\n",
      "Collecting data...\n",
      "Registers 31\n",
      "Processing events...\n",
      "Capturing symbol files...\n",
      "Saving temporary \"/tmp/nsys-report-b5c1-e8bd-fcf4-88f7.qdstrm\" file to disk...\n",
      "Creating final output files...\n",
      "\n",
      "Processing [==============================================================100%]\n",
      "Saved report file to \"/tmp/nsys-report-b5c1-e8bd-fcf4-88f7.qdrep\"\n",
      "Report file moved to \"/home/odysseus/workStuff/cusignal-icassp-tutorial/notebooks/raw_cupy_cuda/cupy_v7.qdrep\"\n"
     ]
    }
   ],
   "source": [
    "!nsys profile -s none -o cupy_v7 -f true python3 icassp_cupy_v7.py float32 2000 0"
   ]
  },
  {
   "cell_type": "code",
   "execution_count": 19,
   "metadata": {},
   "outputs": [
    {
     "output_type": "stream",
     "name": "stdout",
     "text": [
      "Generate SQLite file cupy_v7.sqlite from cupy_v7.qdrep\n",
      "Exporting 615887 events: [================================================100%]\n",
      "Using cupy_v7.sqlite file for stats and reports.\n",
      "Exporting [/opt/nvidia/nsight-systems/2020.3.2/target-linux-x64/reports/gpukernsum cupy_v7.sqlite] to console... \n",
      "\n",
      " Time(%)  Total Time (ns)  Instances    Average     Minimum    Maximum             Name           \n",
      " -------  ---------------  ---------  -----------  ---------  ---------  -------------------------\n",
      "   100.0    4,474,814,029      2,001  2,236,288.9  2,139,815  2,490,057  _cupy_lombscargle_float32\n",
      "\n",
      "Exporting [/opt/nvidia/nsight-systems/2020.3.2/target-linux-x64/reports/nvtxppsum cupy_v7.sqlite] to console... \n",
      "\n",
      " Time(%)  Total Time (ns)  Instances    Average     Minimum    Maximum           Range        \n",
      " -------  ---------------  ---------  -----------  ---------  ---------  ---------------------\n",
      "    99.9    4,652,614,783      2,000  2,326,307.4  2,226,740  2,602,141  cupy_lombscargle_loop\n",
      "     0.1        3,896,288          1  3,896,288.0  3,896,288  3,896,288  cupy_lombscargle     \n",
      "\n"
     ]
    }
   ],
   "source": [
    "!nsys stats --report gpukernsum --report nvtxppsum cupy_v7.qdrep"
   ]
  },
  {
   "source": [
    "### Single Precision\n",
    "|                       | Registers | JIT (ms) | Kernel (ms) | Speed Up |\n",
    "|:----------------------|:----------|:---------|:------------|:---------|\n",
    "| Scipy                 | -         | 51,075.2 | 51,128.2    | 1.0      |\n",
    "| CuPy (Baseline)       | 30        | 135.1    | 10.1        | 5062.2   |\n",
    "| CuPy (User Cache)     | 30        | 137.2    | 10.1        | 5062.2   |\n",
    "| CuPy (Data Type)      | 26        | 135.4    | 10.3        | 4963.9   |\n",
    "| CuPy (Fast Math)      | 32        | 126.1    | 2.3         | 22229.7  |\n",
    "| CuPy (Fatbin)         | 32        | 3.9      | 2.3         | 22229.7  |\n",
    "| CuPy (Launch Bounds)  | 31        | 3.9      | 2.3         | 22229.7  |\n",
    "| CuPy (Trig Functions) | 31        | 3.9      | 2.3         | 22229.7  |"
   ],
   "cell_type": "markdown",
   "metadata": {}
  },
  {
   "source": [
    "### Double Precision\n",
    "|                       | Registers | JIT (ms) | Kernel (ms) | Speed Up |\n",
    "|:----------------------|:----------|:---------|:------------|:---------|\n",
    "| Scipy                 | -         | 50.799.1 | 50,806.4    | 1.0      |\n",
    "| CuPy (Baseline)       | 48        | 145.0    | 21.2        | 2396.5   |\n",
    "| CuPy (User Cache)     | 48        | 145.7    | 21.2        | 2396.5   |\n",
    "| CuPy (Data Type)      | 48        | 150.4    | 21.2        | 2396.5   |\n",
    "| CuPy (Fast Math)      | 48        | 146.1    | 21.2        | 2396.5   |\n",
    "| CuPy (Fatbin)         | 48        | 22.3     | 21.2        | 2396.5   |\n",
    "| CuPy (Launch Bounds)  | 48        | 22.8     | 21.2        | 2396.5   |\n",
    "| CuPy (Trig Functions) | 48        | 15.5     | 14.1        | 3603.3   |"
   ],
   "cell_type": "markdown",
   "metadata": {}
  }
 ],
 "metadata": {
  "kernelspec": {
   "name": "cusignal2",
   "display_name": "cusignal2",
   "language": "python"
  }
 },
 "nbformat": 4,
 "nbformat_minor": 4
}