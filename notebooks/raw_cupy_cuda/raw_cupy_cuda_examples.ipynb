{
 "cells": [
  {
   "source": [
    "# Hardware\n",
    "### DGX Station\n",
    "V100 SMX2 16GB\n",
    "\n",
    "Intel Xeon E5-2968 v4 @ 2.20GHz\n",
    "\n",
    "# Software\n",
    "CUDA 11.0\n",
    "\n",
    "cuSignal 0.19\n",
    "\n",
    "SciPy 1.6.3\n",
    "\n",
    "Numba 0.53.1"
   ],
   "cell_type": "markdown",
   "metadata": {}
  },
  {
   "source": [
    "## CPU Baseline\n",
    "Baseline Scipy's Signal Lombscargle function"
   ],
   "cell_type": "markdown",
   "metadata": {}
  },
  {
   "cell_type": "code",
   "execution_count": null,
   "metadata": {},
   "outputs": [],
   "source": [
    "!nsys profile -s none -o scipy_v1 -f true --stats=true python3 icassp_scipy_v1.py float32 5"
   ]
  },
  {
   "cell_type": "code",
   "execution_count": null,
   "metadata": {},
   "outputs": [],
   "source": [
    "!nsys profile -s none -o scipy_v1 -f true --stats=true python3 icassp_scipy_v1.py float64 5"
   ]
  },
  {
   "source": [
    "### Single Precision\n",
    "|                       | Registers | JIT (ms) | Kernel (ms) | Speed Up |\n",
    "|:----------------------|:----------|:---------|:------------|:---------|\n",
    "| Scipy                 | -         | 3,472.3  | 3,469.0     | 1.0      |\n",
    "| CuPy (Baseline)       |           |          |             |          |\n",
    "| CuPy (User Cache)     |           |          |             |          |\n",
    "| CuPy (Data Type)      |           |          |             |          |\n",
    "| CuPy (Fast Math)      |           |          |             |          |\n",
    "| CuPy (Fatbin)         |           |          |             |          |\n",
    "| CuPy (Launch Bounds)  |           |          |             |          |\n",
    "| CuPy (Trig Functions) |           |          |             |          |\n",
    "\n",
    "### Double Precision\n",
    "|                       | Registers | JIT (ms) | Kernel (ms) | Speed Up |\n",
    "|:----------------------|:----------|:---------|:------------|:---------|\n",
    "| Scipy                 | -         | 3,470.9  | 3,470.2     | 1.0      |\n",
    "| CuPy (Baseline)       |           |          |             |          |\n",
    "| CuPy (User Cache)     |           |          |             |          |\n",
    "| CuPy (Data Type)      |           |          |             |          |\n",
    "| CuPy (Fast Math)      |           |          |             |          |\n",
    "| CuPy (Fatbin)         |           |          |             |          |\n",
    "| CuPy (Launch Bounds)  |           |          |             |          |\n",
    "| CuPy (Trig Functions) |           |          |             |          |"
   ],
   "cell_type": "markdown",
   "metadata": {}
  },
  {
   "cell_type": "code",
   "execution_count": null,
   "metadata": {},
   "outputs": [],
   "source": [
    "!nsys profile -s none -o cupy_v1 -f true --stats=true python3 icassp_cupy_v1.py float32 2000 0"
   ]
  },
  {
   "cell_type": "code",
   "execution_count": null,
   "metadata": {},
   "outputs": [],
   "source": [
    "#!nsys stats --report gpukernsum --report nvtxppsum --report gputrace cupy_v1.qdrep # Use to get register usage\n",
    "!nsys stats --report gpukernsum --report nvtxppsum cupy_v1.qdrep"
   ]
  },
  {
   "cell_type": "code",
   "execution_count": null,
   "metadata": {},
   "outputs": [],
   "source": [
    "!nsys stats --report gpukernsum --report nvtxppsum --report gputrace cupy_v1.qdrep # Use to get register usage"
   ]
  },
  {
   "cell_type": "code",
   "execution_count": null,
   "metadata": {},
   "outputs": [],
   "source": [
    "!nsys profile -s none -o cupy_v1 -f true python3 icassp_cupy_v1.py float64 2000 0"
   ]
  },
  {
   "cell_type": "code",
   "execution_count": null,
   "metadata": {},
   "outputs": [],
   "source": [
    "#!nsys stats --report gpukernsum --report nvtxppsum --report gputrace cupy_v1.qdrep # Use to get register usage\n",
    "!nsys stats --report gpukernsum --report nvtxppsum cupy_v1.qdrep"
   ]
  },
  {
   "cell_type": "code",
   "execution_count": null,
   "metadata": {},
   "outputs": [],
   "source": [
    "!nsys stats --report gpukernsum --report nvtxppsum --report gputrace cupy_v1.qdrep # Use to get register usage"
   ]
  },
  {
   "source": [
    "### Single Precision\n",
    "|                       | Registers | JIT (ms) | Kernel (ms) | Speed Up |\n",
    "|:----------------------|:----------|:---------|:------------|:---------|\n",
    "| Scipy                 | -         | 3,472.3  | 3,469.0     | 1.0      |\n",
    "| CuPy (Baseline)       |           |          |             |          |\n",
    "| CuPy (User Cache)     |           |          |             |          |\n",
    "| CuPy (Data Type)      |           |          |             |          |\n",
    "| CuPy (Fast Math)      |           |          |             |          |\n",
    "| CuPy (Fatbin)         |           |          |             |          |\n",
    "| CuPy (Launch Bounds)  |           |          |             |          |\n",
    "| CuPy (Trig Functions) |           |          |             |          |\n",
    "\n",
    "### Double Precision\n",
    "|                       | Registers | JIT (ms) | Kernel (ms) | Speed Up |\n",
    "|:----------------------|:----------|:---------|:------------|:---------|\n",
    "| Scipy                 | -         | 3,470.9  | 3,470.2     | 1.0      |\n",
    "| CuPy (Baseline)       |           |          |             |          |\n",
    "| CuPy (User Cache)     |           |          |             |          |\n",
    "| CuPy (Data Type)      |           |          |             |          |\n",
    "| CuPy (Fast Math)      |           |          |             |          |\n",
    "| CuPy (Fatbin)         |           |          |             |          |\n",
    "| CuPy (Launch Bounds)  |           |          |             |          |\n",
    "| CuPy (Trig Functions) |           |          |             |          |"
   ],
   "cell_type": "markdown",
   "metadata": {}
  },
  {
   "cell_type": "code",
   "execution_count": null,
   "metadata": {},
   "outputs": [],
   "source": [
    "!nsys profile -s none -o cupy_v2 -f true python3 icassp_cupy_v2.py float32 2000 0"
   ]
  },
  {
   "cell_type": "code",
   "execution_count": null,
   "metadata": {},
   "outputs": [],
   "source": [
    "!nsys stats --report gpukernsum --report nvtxppsum cupy_v2.qdrep"
   ]
  },
  {
   "cell_type": "code",
   "execution_count": null,
   "metadata": {},
   "outputs": [],
   "source": [
    "!nsys profile -s none -o cupy_v2 -f true python3 icassp_cupy_v2.py float64 2000 0"
   ]
  },
  {
   "cell_type": "code",
   "execution_count": null,
   "metadata": {},
   "outputs": [],
   "source": [
    "!nsys stats --report gpukernsum --report nvtxppsum cupy_v2.qdrep"
   ]
  },
  {
   "source": [
    "### Single Precision\n",
    "|                       | Registers | JIT (ms) | Kernel (ms) | Speed Up |\n",
    "|:----------------------|:----------|:---------|:------------|:---------|\n",
    "| Scipy                 | -         | 3,472.3  | 3,469.0     | 1.0      |\n",
    "| CuPy (Baseline)       |           |          |             |          |\n",
    "| CuPy (User Cache)     |           |          |             |          |\n",
    "| CuPy (Data Type)      |           |          |             |          |\n",
    "| CuPy (Fast Math)      |           |          |             |          |\n",
    "| CuPy (Fatbin)         |           |          |             |          |\n",
    "| CuPy (Launch Bounds)  |           |          |             |          |\n",
    "| CuPy (Trig Functions) |           |          |             |          |\n",
    "\n",
    "### Double Precision\n",
    "|                       | Registers | JIT (ms) | Kernel (ms) | Speed Up |\n",
    "|:----------------------|:----------|:---------|:------------|:---------|\n",
    "| Scipy                 | -         | 3,470.9  | 3,470.2     | 1.0      |\n",
    "| CuPy (Baseline)       |           |          |             |          |\n",
    "| CuPy (User Cache)     |           |          |             |          |\n",
    "| CuPy (Data Type)      |           |          |             |          |\n",
    "| CuPy (Fast Math)      |           |          |             |          |\n",
    "| CuPy (Fatbin)         |           |          |             |          |\n",
    "| CuPy (Launch Bounds)  |           |          |             |          |\n",
    "| CuPy (Trig Functions) |           |          |             |          |"
   ],
   "cell_type": "markdown",
   "metadata": {}
  },
  {
   "cell_type": "code",
   "execution_count": null,
   "metadata": {},
   "outputs": [],
   "source": [
    "!nsys profile -s none -o cupy_v3 -f true python3 icassp_cupy_v3.py float32 2000 0"
   ]
  },
  {
   "cell_type": "code",
   "execution_count": null,
   "metadata": {},
   "outputs": [],
   "source": [
    "!nsys stats --report gpukernsum --report nvtxppsum cupy_v3.qdrep"
   ]
  },
  {
   "cell_type": "code",
   "execution_count": null,
   "metadata": {},
   "outputs": [],
   "source": [
    "!nsys profile -s none -o cupy_v3 -f true python3 icassp_cupy_v3.py float64 2000 0"
   ]
  },
  {
   "cell_type": "code",
   "execution_count": null,
   "metadata": {},
   "outputs": [],
   "source": [
    "!nsys stats --report gpukernsum --report nvtxppsum cupy_v3.qdrep"
   ]
  },
  {
   "source": [
    "### Single Precision\n",
    "|                       | Registers | JIT (ms) | Kernel (ms) | Speed Up |\n",
    "|:----------------------|:----------|:---------|:------------|:---------|\n",
    "| Scipy                 | -         | 3,472.3  | 3,469.0     | 1.0      |\n",
    "| CuPy (Baseline)       |           |          |             |          |\n",
    "| CuPy (User Cache)     |           |          |             |          |\n",
    "| CuPy (Data Type)      |           |          |             |          |\n",
    "| CuPy (Fast Math)      |           |          |             |          |\n",
    "| CuPy (Fatbin)         |           |          |             |          |\n",
    "| CuPy (Launch Bounds)  |           |          |             |          |\n",
    "| CuPy (Trig Functions) |           |          |             |          |\n",
    "\n",
    "### Double Precision\n",
    "|                       | Registers | JIT (ms) | Kernel (ms) | Speed Up |\n",
    "|:----------------------|:----------|:---------|:------------|:---------|\n",
    "| Scipy                 | -         | 3,470.9  | 3,470.2     | 1.0      |\n",
    "| CuPy (Baseline)       |           |          |             |          |\n",
    "| CuPy (User Cache)     |           |          |             |          |\n",
    "| CuPy (Data Type)      |           |          |             |          |\n",
    "| CuPy (Fast Math)      |           |          |             |          |\n",
    "| CuPy (Fatbin)         |           |          |             |          |\n",
    "| CuPy (Launch Bounds)  |           |          |             |          |\n",
    "| CuPy (Trig Functions) |           |          |             |          |"
   ],
   "cell_type": "markdown",
   "metadata": {}
  },
  {
   "cell_type": "code",
   "execution_count": null,
   "metadata": {},
   "outputs": [],
   "source": [
    "!nsys profile -s none -o cupy_v4 -f true python3 icassp_cupy_v4.py float32 2000 0"
   ]
  },
  {
   "cell_type": "code",
   "execution_count": null,
   "metadata": {},
   "outputs": [],
   "source": [
    "!nsys stats --report gpukernsum --report nvtxppsum cupy_v4.qdrep"
   ]
  },
  {
   "cell_type": "code",
   "execution_count": null,
   "metadata": {},
   "outputs": [],
   "source": [
    "!nsys profile -s none -o cupy_v4 -f true python3 icassp_cupy_v4.py float64 2000 0"
   ]
  },
  {
   "cell_type": "code",
   "execution_count": null,
   "metadata": {},
   "outputs": [],
   "source": [
    "!nsys stats --report gpukernsum --report nvtxppsum cupy_v4.qdrep"
   ]
  },
  {
   "source": [
    "### Single Precision\n",
    "|                       | Registers | JIT (ms) | Kernel (ms) | Speed Up |\n",
    "|:----------------------|:----------|:---------|:------------|:---------|\n",
    "| Scipy                 | -         | 3,472.3  | 3,469.0     | 1.0      |\n",
    "| CuPy (Baseline)       |           |          |             |          |\n",
    "| CuPy (User Cache)     |           |          |             |          |\n",
    "| CuPy (Data Type)      |           |          |             |          |\n",
    "| CuPy (Fast Math)      |           |          |             |          |\n",
    "| CuPy (Fatbin)         |           |          |             |          |\n",
    "| CuPy (Launch Bounds)  |           |          |             |          |\n",
    "| CuPy (Trig Functions) |           |          |             |          |\n",
    "\n",
    "### Double Precision\n",
    "|                       | Registers | JIT (ms) | Kernel (ms) | Speed Up |\n",
    "|:----------------------|:----------|:---------|:------------|:---------|\n",
    "| Scipy                 | -         | 3,470.9  | 3,470.2     | 1.0      |\n",
    "| CuPy (Baseline)       |           |          |             |          |\n",
    "| CuPy (User Cache)     |           |          |             |          |\n",
    "| CuPy (Data Type)      |           |          |             |          |\n",
    "| CuPy (Fast Math)      |           |          |             |          |\n",
    "| CuPy (Fatbin)         |           |          |             |          |\n",
    "| CuPy (Launch Bounds)  |           |          |             |          |\n",
    "| CuPy (Trig Functions) |           |          |             |          |"
   ],
   "cell_type": "markdown",
   "metadata": {}
  },
  {
   "cell_type": "code",
   "execution_count": null,
   "metadata": {},
   "outputs": [],
   "source": [
    "!nvcc --fatbin -std=c++11 --use_fast_math \\\n",
    "    --generate-code arch=compute_70,code=sm_70 \\\n",
    "    --generate-code arch=compute_75,code=sm_75 \\\n",
    "    --generate-code arch=compute_80,code=[sm_80,compute_80] \\\n",
    "    _lombscargle.cu -odir ."
   ]
  },
  {
   "cell_type": "code",
   "execution_count": null,
   "metadata": {},
   "outputs": [],
   "source": [
    "!nsys profile -s none -o cupy_v5 -f true python3 icassp_cupy_v5.py float32 2000 0"
   ]
  },
  {
   "cell_type": "code",
   "execution_count": null,
   "metadata": {},
   "outputs": [],
   "source": [
    "!nsys stats --report gpukernsum --report nvtxppsum cupy_v5.qdrep"
   ]
  },
  {
   "cell_type": "code",
   "execution_count": null,
   "metadata": {},
   "outputs": [],
   "source": [
    "!nsys profile -s none -o cupy_v5 -f true python3 icassp_cupy_v5.py float64 2000 0"
   ]
  },
  {
   "cell_type": "code",
   "execution_count": null,
   "metadata": {},
   "outputs": [],
   "source": [
    "!nsys stats --report gpukernsum --report nvtxppsum cupy_v5.qdrep"
   ]
  },
  {
   "source": [
    "### Single Precision\n",
    "|                       | Registers | JIT (ms) | Kernel (ms) | Speed Up |\n",
    "|:----------------------|:----------|:---------|:------------|:---------|\n",
    "| Scipy                 | -         | 3,472.3  | 3,469.0     | 1.0      |\n",
    "| CuPy (Baseline)       |           |          |             |          |\n",
    "| CuPy (User Cache)     |           |          |             |          |\n",
    "| CuPy (Data Type)      |           |          |             |          |\n",
    "| CuPy (Fast Math)      |           |          |             |          |\n",
    "| CuPy (Fatbin)         |           |          |             |          |\n",
    "| CuPy (Launch Bounds)  |           |          |             |          |\n",
    "| CuPy (Trig Functions) |           |          |             |          |\n",
    "\n",
    "### Double Precision\n",
    "|                       | Registers | JIT (ms) | Kernel (ms) | Speed Up |\n",
    "|:----------------------|:----------|:---------|:------------|:---------|\n",
    "| Scipy                 | -         | 3,470.9  | 3,470.2     | 1.0      |\n",
    "| CuPy (Baseline)       |           |          |             |          |\n",
    "| CuPy (User Cache)     |           |          |             |          |\n",
    "| CuPy (Data Type)      |           |          |             |          |\n",
    "| CuPy (Fast Math)      |           |          |             |          |\n",
    "| CuPy (Fatbin)         |           |          |             |          |\n",
    "| CuPy (Launch Bounds)  |           |          |             |          |\n",
    "| CuPy (Trig Functions) |           |          |             |          |"
   ],
   "cell_type": "markdown",
   "metadata": {}
  },
  {
   "cell_type": "code",
   "execution_count": null,
   "metadata": {},
   "outputs": [],
   "source": [
    "!nvcc --fatbin -std=c++11 --use_fast_math \\\n",
    "    --generate-code arch=compute_70,code=sm_70 \\\n",
    "    --generate-code arch=compute_75,code=sm_75 \\\n",
    "    --generate-code arch=compute_80,code=[sm_80,compute_80] \\\n",
    "    _lombscargle_lb.cu -odir ."
   ]
  },
  {
   "cell_type": "code",
   "execution_count": null,
   "metadata": {},
   "outputs": [],
   "source": [
    "!nsys profile -s none -o cupy_v6 -f true python3 icassp_cupy_v6.py float32 2000 0"
   ]
  },
  {
   "cell_type": "code",
   "execution_count": null,
   "metadata": {},
   "outputs": [],
   "source": [
    "!nsys stats --report gpukernsum --report nvtxppsum cupy_v6.qdrep"
   ]
  },
  {
   "cell_type": "code",
   "execution_count": null,
   "metadata": {},
   "outputs": [],
   "source": [
    "!nsys profile -s none -o cupy_v6 -f true python3 icassp_cupy_v6.py float64 2000 0"
   ]
  },
  {
   "cell_type": "code",
   "execution_count": null,
   "metadata": {},
   "outputs": [],
   "source": [
    "!nsys stats --report gpukernsum --report nvtxppsum cupy_v6.qdrep"
   ]
  },
  {
   "source": [
    "### Single Precision\n",
    "|                       | Registers | JIT (ms) | Kernel (ms) | Speed Up |\n",
    "|:----------------------|:----------|:---------|:------------|:---------|\n",
    "| Scipy                 | -         | 3,472.3  | 3,469.0     | 1.0      |\n",
    "| CuPy (Baseline)       |           |          |             |          |\n",
    "| CuPy (User Cache)     |           |          |             |          |\n",
    "| CuPy (Data Type)      |           |          |             |          |\n",
    "| CuPy (Fast Math)      |           |          |             |          |\n",
    "| CuPy (Fatbin)         |           |          |             |          |\n",
    "| CuPy (Launch Bounds)  |           |          |             |          |\n",
    "| CuPy (Trig Functions) |           |          |             |          |\n",
    "\n",
    "### Double Precision\n",
    "|                       | Registers | JIT (ms) | Kernel (ms) | Speed Up |\n",
    "|:----------------------|:----------|:---------|:------------|:---------|\n",
    "| Scipy                 | -         | 3,470.9  | 3,470.2     | 1.0      |\n",
    "| CuPy (Baseline)       |           |          |             |          |\n",
    "| CuPy (User Cache)     |           |          |             |          |\n",
    "| CuPy (Data Type)      |           |          |             |          |\n",
    "| CuPy (Fast Math)      |           |          |             |          |\n",
    "| CuPy (Fatbin)         |           |          |             |          |\n",
    "| CuPy (Launch Bounds)  |           |          |             |          |\n",
    "| CuPy (Trig Functions) |           |          |             |          |"
   ],
   "cell_type": "markdown",
   "metadata": {}
  },
  {
   "cell_type": "code",
   "execution_count": null,
   "metadata": {},
   "outputs": [],
   "source": [
    "!nvcc --fatbin -std=c++11 --use_fast_math \\\n",
    "    --generate-code arch=compute_70,code=sm_70 \\\n",
    "    --generate-code arch=compute_75,code=sm_75 \\\n",
    "    --generate-code arch=compute_80,code=[sm_80,compute_80] \\\n",
    "    _lombscargle_lb_trig.cu -odir ."
   ]
  },
  {
   "cell_type": "code",
   "execution_count": null,
   "metadata": {},
   "outputs": [],
   "source": [
    "!nsys profile -s none -o cupy_v6 -f true python3 icassp_cupy_v6.py float32 2000 0"
   ]
  },
  {
   "cell_type": "code",
   "execution_count": null,
   "metadata": {},
   "outputs": [],
   "source": [
    "!nsys stats --report gpukernsum --report nvtxppsum cupy_v6.qdrep"
   ]
  },
  {
   "cell_type": "code",
   "execution_count": null,
   "metadata": {},
   "outputs": [],
   "source": [
    "!nsys profile -s none -o cupy_v6 -f true python3 icassp_cupy_v6.py float64 2000 0"
   ]
  },
  {
   "cell_type": "code",
   "execution_count": null,
   "metadata": {},
   "outputs": [],
   "source": [
    "!nsys stats --report gpukernsum --report nvtxppsum cupy_v6.qdrep"
   ]
  },
  {
   "source": [
    "### Single Precision\n",
    "|                       | Registers | JIT (ms) | Kernel (ms) | Speed Up |\n",
    "|:----------------------|:----------|:---------|:------------|:---------|\n",
    "| Scipy                 | -         | 3,472.3  | 3,469.0     | 1.0      |\n",
    "| CuPy (Baseline)       |           |          |             |          |\n",
    "| CuPy (User Cache)     |           |          |             |          |\n",
    "| CuPy (Data Type)      |           |          |             |          |\n",
    "| CuPy (Fast Math)      |           |          |             |          |\n",
    "| CuPy (Fatbin)         |           |          |             |          |\n",
    "| CuPy (Launch Bounds)  |           |          |             |          |\n",
    "| CuPy (Trig Functions) |           |          |             |          |\n",
    "\n",
    "### Double Precision\n",
    "|                       | Registers | JIT (ms) | Kernel (ms) | Speed Up |\n",
    "|:----------------------|:----------|:---------|:------------|:---------|\n",
    "| Scipy                 | -         | 3,470.9  | 3,470.2     | 1.0      |\n",
    "| CuPy (Baseline)       |           |          |             |          |\n",
    "| CuPy (User Cache)     |           |          |             |          |\n",
    "| CuPy (Data Type)      |           |          |             |          |\n",
    "| CuPy (Fast Math)      |           |          |             |          |\n",
    "| CuPy (Fatbin)         |           |          |             |          |\n",
    "| CuPy (Launch Bounds)  |           |          |             |          |\n",
    "| CuPy (Trig Functions) |           |          |             |          |"
   ],
   "cell_type": "markdown",
   "metadata": {}
  }
 ],
 "metadata": {
  "kernelspec": {
   "name": "cusignal2",
   "display_name": "cusignal2",
   "language": "python"
  }
 },
 "nbformat": 4,
 "nbformat_minor": 4
}