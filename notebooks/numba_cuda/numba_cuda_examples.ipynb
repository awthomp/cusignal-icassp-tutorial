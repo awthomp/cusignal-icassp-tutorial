{
 "cells": [
  {
   "source": [
    "# Hardware\n",
    "## DGX Station\n",
    "V100 SMX2 16GB\n",
    "\n",
    "Intel Xeon E5-2968 v4 @ 2.20GHz\n",
    "\n",
    "## Software\n",
    "CUDA 11.0\n",
    "\n",
    "cuSignal 0.19\n",
    "\n",
    "SciPy 1.6.3\n",
    "\n",
    "Numba 0.53.1"
   ],
   "cell_type": "markdown",
   "metadata": {}
  },
  {
   "source": [
    "## CPU Baseline\n",
    "Baseline Scipy's Signal Lombscargle function"
   ],
   "cell_type": "markdown",
   "metadata": {}
  },
  {
   "cell_type": "code",
   "execution_count": 1,
   "metadata": {},
   "outputs": [
    {
     "output_type": "stream",
     "name": "stdout",
     "text": [
      "Warning: LBR backtrace method is not supported on this platform. DWARF backtrace method will be used.\n",
      "WARNING: Backtraces will not be collected because sampling is disabled.\n",
      "Collecting data...\n",
      "Processing events...\n",
      "Capturing symbol files...\n",
      "Saving temporary \"/tmp/nsys-report-9e13-2ac9-3b87-e2b3.qdstrm\" file to disk...\n",
      "Creating final output files...\n",
      "\n",
      "Processing [==============================================================100%]\n",
      "Saved report file to \"/tmp/nsys-report-9e13-2ac9-3b87-e2b3.qdrep\"\n",
      "Exporting 608311 events: [================================================100%]\n",
      "\n",
      "Exported successfully to\n",
      "/tmp/nsys-report-9e13-2ac9-3b87-e2b3.sqlite\n",
      "\n",
      "Generating CUDA API Statistics...\n",
      "CUDA API Statistics (nanoseconds)\n",
      "\n",
      "\n",
      "\n",
      "\n",
      "CUDA trace data was not collected.\n",
      "\n",
      "\n",
      "Generating Operating System Runtime API Statistics...\n",
      "Operating System Runtime API Statistics (nanoseconds)\n",
      "\n",
      "Time(%)      Total Time       Calls         Average         Minimum         Maximum  Name                                                                            \n",
      "-------  --------------  ----------  --------------  --------------  --------------  --------------------------------------------------------------------------------\n",
      "   98.8      1325955470      605486          2189.9            1000         4967998  sched_yield                                                                     \n",
      "    0.4         6030914         714          8446.7            1016          221523  read                                                                            \n",
      "    0.2         3161319         628          5033.9            3148           18737  open64                                                                          \n",
      "    0.2         2669093         154         17331.8            3045          115281  munmap                                                                          \n",
      "    0.1         1789839         241          7426.7            1019          160411  mmap64                                                                          \n",
      "    0.1         1764420          39         45241.5           23160          175046  pthread_create                                                                  \n",
      "    0.0          455724          39         11685.2            2443          123489  mmap                                                                            \n",
      "    0.0           11018           3          3672.7            2560            4361  fopen64                                                                         \n",
      "    0.0            4744           3          1581.3            1161            1827  sigaction                                                                       \n",
      "    0.0            3822           1          3822.0            3822            3822  fread                                                                           \n",
      "    0.0            3179           1          3179.0            3179            3179  fclose                                                                          \n",
      "    0.0            2250           2          1125.0            1093            1157  fcntl                                                                           \n",
      "    0.0            1333           1          1333.0            1333            1333  dup                                                                             \n",
      "    0.0            1057           1          1057.0            1057            1057  pthread_cond_signal                                                             \n",
      "\n",
      "\n",
      "\n",
      "\n",
      "Generating NVTX Push-Pop Range Statistics...\n",
      "NVTX Push-Pop Range Statistics (nanoseconds)\n",
      "\n",
      "Time(%)      Total Time   Instances         Average         Minimum         Maximum  Range                    \n",
      "-------  --------------  ----------  --------------  --------------  --------------  -------------------------\n",
      "   83.4    255494430401           5   51098886080.2     51091953593     51102308478  scipy_lombscargle_loop   \n",
      "   16.6     50987814805           1   50987814805.0     50987814805     50987814805  scipy_lombscargle        \n",
      "\n",
      "\n",
      "\n",
      "Report file moved to \"/home/odysseus/workStuff/cusignal-icassp-tutorial/notebooks/numba_cuda/scipy_v1.qdrep\"\n",
      "Report file moved to \"/home/odysseus/workStuff/cusignal-icassp-tutorial/notebooks/numba_cuda/scipy_v1.sqlite\"\n"
     ]
    }
   ],
   "source": [
    "!nsys profile -s none -o scipy_v1 -f true --stats=true python3 icassp_scipy_v1.py float32 5"
   ]
  },
  {
   "cell_type": "code",
   "execution_count": 2,
   "metadata": {},
   "outputs": [
    {
     "output_type": "stream",
     "name": "stdout",
     "text": [
      "Warning: LBR backtrace method is not supported on this platform. DWARF backtrace method will be used.\n",
      "WARNING: Backtraces will not be collected because sampling is disabled.\n",
      "Collecting data...\n",
      "Processing events...\n",
      "Capturing symbol files...\n",
      "Saving temporary \"/tmp/nsys-report-76f8-00c4-4dcf-f4c9.qdstrm\" file to disk...\n",
      "Creating final output files...\n",
      "\n",
      "Processing [==============================================================100%]\n",
      "Saved report file to \"/tmp/nsys-report-76f8-00c4-4dcf-f4c9.qdrep\"\n",
      "Exporting 652843 events: [================================================100%]\n",
      "\n",
      "Exported successfully to\n",
      "/tmp/nsys-report-76f8-00c4-4dcf-f4c9.sqlite\n",
      "\n",
      "Generating CUDA API Statistics...\n",
      "CUDA API Statistics (nanoseconds)\n",
      "\n",
      "\n",
      "\n",
      "\n",
      "CUDA trace data was not collected.\n",
      "\n",
      "\n",
      "Generating Operating System Runtime API Statistics...\n",
      "Operating System Runtime API Statistics (nanoseconds)\n",
      "\n",
      "Time(%)      Total Time       Calls         Average         Minimum         Maximum  Name                                                                            \n",
      "-------  --------------  ----------  --------------  --------------  --------------  --------------------------------------------------------------------------------\n",
      "   98.8      1314999171      650018          2023.0            1000         9880148  sched_yield                                                                     \n",
      "    0.4         5917058         737          8028.6            1000          152247  read                                                                            \n",
      "    0.3         3456702         628          5504.3            3588           14974  open64                                                                          \n",
      "    0.2         2523871         145         17406.0            2743           80305  munmap                                                                          \n",
      "    0.1         1583969          39         40614.6           24462           65049  pthread_create                                                                  \n",
      "    0.1         1298308         228          5694.3            1036          108601  mmap64                                                                          \n",
      "    0.1          909295          39         23315.3            2380          313966  mmap                                                                            \n",
      "    0.0           11156           3          3718.7            2405            4401  fopen64                                                                         \n",
      "    0.0            4379           3          1459.7            1153            1784  sigaction                                                                       \n",
      "    0.0            3993           1          3993.0            3993            3993  fread                                                                           \n",
      "    0.0            3511           1          3511.0            3511            3511  fclose                                                                          \n",
      "    0.0            3274           3          1091.3            1007            1207  pthread_cond_signal                                                             \n",
      "    0.0            2420           2          1210.0            1186            1234  fcntl                                                                           \n",
      "    0.0            1439           1          1439.0            1439            1439  dup                                                                             \n",
      "\n",
      "\n",
      "\n",
      "\n",
      "Generating NVTX Push-Pop Range Statistics...\n",
      "NVTX Push-Pop Range Statistics (nanoseconds)\n",
      "\n",
      "Time(%)      Total Time   Instances         Average         Minimum         Maximum  Range                    \n",
      "-------  --------------  ----------  --------------  --------------  --------------  -------------------------\n",
      "   83.3    254396793152           5   50879358630.4     50838617300     51036842751  scipy_lombscargle_loop   \n",
      "   16.7     50835639468           1   50835639468.0     50835639468     50835639468  scipy_lombscargle        \n",
      "\n",
      "\n",
      "\n",
      "Report file moved to \"/home/odysseus/workStuff/cusignal-icassp-tutorial/notebooks/numba_cuda/scipy_v1.qdrep\"\n",
      "Report file moved to \"/home/odysseus/workStuff/cusignal-icassp-tutorial/notebooks/numba_cuda/scipy_v1.sqlite\"\n"
     ]
    }
   ],
   "source": [
    "!nsys profile -s none -o scipy_v1 -f true --stats=true python3 icassp_scipy_v1.py float64 5"
   ]
  },
  {
   "source": [
    "### Single Precision\n",
    "|                       | Registers | JIT (ms) | Kernel (ms) | Speed Up |\n",
    "|:----------------------|:----------|:---------|:------------|:---------|\n",
    "| Scipy                 | -         | 50,987.8 | 51,098.9    | 1.0      |\n",
    "| Numba (Baseline)      |           |          |             |          |\n",
    "| Numba (User Cache)    |           |          |             |          |\n",
    "| Numba (Data Type)     |           |          |             |          |\n",
    "| Numba (Fast Math)     |           |          |             |          |\n",
    "| Numba (Max Registers) |           |          |             |          |\n",
    "\n",
    "### Double Precision\n",
    "|                       | Registers | JIT (ms) | Kernel (ms) | Speed Up |\n",
    "|:----------------------|:----------|:---------|:------------|:---------|\n",
    "| Scipy                 | -         | 50,835.6 | 50,879.4    | 1.0      |\n",
    "| Numba (Baseline)      |           |          |             |          |\n",
    "| Numba (User Cache)    |           |          |             |          |\n",
    "| Numba (Data Type)     |           |          |             |          |\n",
    "| Numba (Fast Math)     |           |          |             |          |\n",
    "| Numba (Max Registers) |           |          |             |          |"
   ],
   "cell_type": "markdown",
   "metadata": {}
  },
  {
   "source": [
    "## GPU Scenario #1\n",
    "1. Numba implementation of Lombscargle function"
   ],
   "cell_type": "markdown",
   "metadata": {}
  },
  {
   "cell_type": "code",
   "execution_count": 3,
   "metadata": {},
   "outputs": [
    {
     "output_type": "stream",
     "name": "stdout",
     "text": [
      "Warning: LBR backtrace method is not supported on this platform. DWARF backtrace method will be used.\n",
      "WARNING: Backtraces will not be collected because sampling is disabled.\n",
      "Collecting data...\n",
      "Processing events...\n",
      "Capturing symbol files...\n",
      "Saving temporary \"/tmp/nsys-report-bbf3-3a47-ae26-a260.qdstrm\" file to disk...\n",
      "Creating final output files...\n",
      "\n",
      "Processing [==============================================================100%]\n",
      "Saved report file to \"/tmp/nsys-report-bbf3-3a47-ae26-a260.qdrep\"\n",
      "Exporting 659120 events: [================================================100%]\n",
      "\n",
      "Exported successfully to\n",
      "/tmp/nsys-report-bbf3-3a47-ae26-a260.sqlite\n",
      "\n",
      "Generating CUDA API Statistics...\n",
      "CUDA API Statistics (nanoseconds)\n",
      "\n",
      "Time(%)      Total Time       Calls         Average         Minimum         Maximum  Name                                                                            \n",
      "-------  --------------  ----------  --------------  --------------  --------------  --------------------------------------------------------------------------------\n",
      "   86.1     26866086018        2001      13426329.8        12902003        13893949  cuCtxSynchronize                                                                \n",
      "    9.9      3098010886        4004        773729.0            7023        79045435  cuMemFree_v2                                                                    \n",
      "    3.8      1193822708        4005        298083.1           10324        69872617  cuMemAlloc_v2                                                                   \n",
      "    0.1        40092511        2001         20036.2           19010           37511  cuLaunchKernel                                                                  \n",
      "    0.0          782411           1        782411.0          782411          782411  cuModuleLoadDataEx                                                              \n",
      "    0.0          554055           3        184685.0           17082          515025  cuMemcpyHtoD_v2                                                                 \n",
      "    0.0          173305           1        173305.0          173305          173305  cuLinkComplete                                                                  \n",
      "    0.0           57300           1         57300.0           57300           57300  cuLinkCreate_v2                                                                 \n",
      "    0.0           41887           1         41887.0           41887           41887  cuMemGetInfo_v2                                                                 \n",
      "    0.0            2345           1          2345.0            2345            2345  cuLinkDestroy                                                                   \n",
      "    0.0            2255           1          2255.0            2255            2255  cuInit                                                                          \n",
      "\n",
      "\n",
      "\n",
      "\n",
      "Generating CUDA Kernel Statistics...\n",
      "CUDA Kernel Statistics (nanoseconds)\n",
      "\n",
      "Time(%)      Total Time   Instances         Average         Minimum         Maximum  Name                                                                                                                                                                                                                                                                                                                                         \n",
      "-------  --------------  ----------  --------------  --------------  --------------  --------------------------------------------------------------------------------------------------------------------                                                                                                                                                                                                                         \n",
      "  100.0     26926355458        2001      13456449.5        12933819        13923923  cudapy::__main__::_numba_lombscargle$241(Array<float, 1, C, mutable, aligned>, Array<float, 1, C, mutable, aligned>, Array<float, 1, C, mutable, aligned>, Array<float, 1, C, mutable, aligned>, Array<float, 1, C, mutable, aligned>)                                                                                                       \n",
      "\n",
      "\n",
      "\n",
      "Generating CUDA Memory Operation Statistics...\n",
      "CUDA Memory Operation Statistics (nanoseconds)\n",
      "\n",
      "Time(%)      Total Time  Operations         Average         Minimum         Maximum  Name                                                                            \n",
      "-------  --------------  ----------  --------------  --------------  --------------  --------------------------------------------------------------------------------\n",
      "  100.0          465085           3        155028.3            1856          461373  [CUDA memcpy HtoD]                                                              \n",
      "\n",
      "\n",
      "CUDA Memory Operation Statistics (KiB)\n",
      "\n",
      "              Total      Operations              Average            Minimum              Maximum  Name                                                                            \n",
      "-------------------  --------------  -------------------  -----------------  -------------------  --------------------------------------------------------------------------------\n",
      "           4109.086               3             1369.695              6.543             4096.000  [CUDA memcpy HtoD]                                                              \n",
      "\n",
      "\n",
      "\n",
      "\n",
      "Generating Operating System Runtime API Statistics...\n",
      "Operating System Runtime API Statistics (nanoseconds)\n",
      "\n",
      "Time(%)      Total Time       Calls         Average         Minimum         Maximum  Name                                                                            \n",
      "-------  --------------  ----------  --------------  --------------  --------------  --------------------------------------------------------------------------------\n",
      "   40.1     32998264968         342      96486154.9           15495       100067321  sem_timedwait                                                                   \n",
      "   39.9     32837973304         341      96299041.9           21605       100131606  poll                                                                            \n",
      "   13.2     10858474602          39     278422425.7       258996630       289994784  pthread_cond_wait                                                               \n",
      "    5.2      4296894484       15076        285015.6            1045        72811942  ioctl                                                                           \n",
      "    1.6      1307767544      621479          2104.3            1000         3427949  sched_yield                                                                     \n",
      "    0.0        34071158        1136         29992.2            1002        21045290  read                                                                            \n",
      "    0.0         6097747        1072          5688.2            3297           83786  open64                                                                          \n",
      "    0.0         5000449           1       5000449.0         5000449         5000449  fork                                                                            \n",
      "    0.0         3388364         135         25099.0            2368         1055840  mmap                                                                            \n",
      "    0.0         1900597         190         10003.1            1815           67716  munmap                                                                          \n",
      "    0.0         1562293          43         36332.4           20367          161452  pthread_create                                                                  \n",
      "    0.0         1429093         342          4178.6            1021           57334  mmap64                                                                          \n",
      "    0.0          603557           1        603557.0          603557          603557  waitpid                                                                         \n",
      "    0.0          327263          36          9090.6            5329           70929  pthread_join                                                                    \n",
      "    0.0          244182          36          6782.8            1399           83028  fopen                                                                           \n",
      "    0.0          185693           3         61897.7           60549           64379  fgets                                                                           \n",
      "    0.0          178593          47          3799.9            1168            8169  pthread_cond_signal                                                             \n",
      "    0.0          102658           6         17109.7            3651           70966  open                                                                            \n",
      "    0.0           68279          13          5252.2            3114            6812  write                                                                           \n",
      "    0.0           67935          33          2058.6            1147            4409  fclose                                                                          \n",
      "    0.0           35650           7          5092.9            3093            8502  fread                                                                           \n",
      "    0.0           15966           1         15966.0           15966           15966  sem_wait                                                                        \n",
      "    0.0           15685          10          1568.5            1019            4543  fcntl                                                                           \n",
      "    0.0           15572           3          5190.7            2921            6959  pipe2                                                                           \n",
      "    0.0           10372           2          5186.0            4417            5955  socket                                                                          \n",
      "    0.0            9211           3          3070.3            1934            3669  fopen64                                                                         \n",
      "    0.0            8483           3          2827.7            1638            5123  mprotect                                                                        \n",
      "    0.0            7340           1          7340.0            7340            7340  connect                                                                         \n",
      "    0.0            2732           2          1366.0            1272            1460  sigaction                                                                       \n",
      "    0.0            2421           1          2421.0            2421            2421  bind                                                                            \n",
      "    0.0            2330           1          2330.0            2330            2330  fputs_unlocked                                                                  \n",
      "    0.0            1227           1          1227.0            1227            1227  dup                                                                             \n",
      "    0.0            1122           1          1122.0            1122            1122  listen                                                                          \n",
      "\n",
      "\n",
      "\n",
      "\n",
      "Generating NVTX Push-Pop Range Statistics...\n",
      "NVTX Push-Pop Range Statistics (nanoseconds)\n",
      "\n",
      "Time(%)      Total Time   Instances         Average         Minimum         Maximum  Range                    \n",
      "-------  --------------  ----------  --------------  --------------  --------------  -------------------------\n",
      "   98.7     32060726434        2000      16030363.2        13595056       161030169  numba_lombscargle_loop   \n",
      "    1.3       428928283           1     428928283.0       428928283       428928283  numba_lombscargle        \n",
      "\n",
      "\n",
      "\n",
      "Report file moved to \"/home/odysseus/workStuff/cusignal-icassp-tutorial/notebooks/numba_cuda/numba_v1.qdrep\"\n",
      "Report file moved to \"/home/odysseus/workStuff/cusignal-icassp-tutorial/notebooks/numba_cuda/numba_v1.sqlite\"\n"
     ]
    }
   ],
   "source": [
    "!nsys profile -s none -o numba_v1 -f true --stats=true python3 icassp_numba_v1.py float32 2000 0"
   ]
  },
  {
   "cell_type": "code",
   "execution_count": 23,
   "metadata": {
    "tags": []
   },
   "outputs": [
    {
     "output_type": "stream",
     "name": "stdout",
     "text": [
      "Using numba_v1.sqlite file for stats and reports.\nExporting [/opt/nvidia/nsight-systems/2020.3.2/target-linux-x64/reports/gpukernsum numba_v1.sqlite] to console... \n\n Time(%)  Total Time (ns)  Instances    Average      Minimum     Maximum                                                    Name                                                \n -------  ---------------  ---------  ------------  ----------  ----------  ----------------------------------------------------------------------------------------------------\n   100.0   48,236,551,508      2,001  24,106,222.6  23,710,416  24,651,785  cudapy::__main__::_numba_lombscargle$241(Array<double, 1, C, mutable, aligned>, Array<double, 1, C,…\n\nExporting [/opt/nvidia/nsight-systems/2020.3.2/target-linux-x64/reports/nvtxppsum numba_v1.sqlite] to console... \n\n Time(%)  Total Time (ns)  Instances     Average       Minimum      Maximum            Range         \n -------  ---------------  ---------  -------------  -----------  -----------  ----------------------\n    99.3   59,221,075,631      2,000   29,610,537.8   24,495,922  188,578,440  numba_lombscargle_loop\n     0.7      421,707,595          1  421,707,595.0  421,707,595  421,707,595  numba_lombscargle     \n\n"
     ]
    }
   ],
   "source": [
    "#!nsys stats --report gpukernsum --report nvtxppsum --report gputrace numba_v1.qdrep # Use to get register usage\n",
    "!nsys stats --report gpukernsum --report nvtxppsum numba_v1.qdrep"
   ]
  },
  {
   "cell_type": "code",
   "execution_count": 5,
   "metadata": {},
   "outputs": [
    {
     "output_type": "stream",
     "name": "stdout",
     "text": [
      "Warning: LBR backtrace method is not supported on this platform. DWARF backtrace method will be used.\n",
      "WARNING: Backtraces will not be collected because sampling is disabled.\n",
      "Collecting data...\n",
      "Processing events...\n",
      "Capturing symbol files...\n",
      "Saving temporary \"/tmp/nsys-report-bac1-d8e9-c5f0-ca00.qdstrm\" file to disk...\n",
      "Creating final output files...\n",
      "\n",
      "Processing [==============================================================100%]\n",
      "Saved report file to \"/tmp/nsys-report-bac1-d8e9-c5f0-ca00.qdrep\"\n",
      "Report file moved to \"/home/odysseus/workStuff/cusignal-icassp-tutorial/notebooks/numba_cuda/numba_v1.qdrep\"\n"
     ]
    }
   ],
   "source": [
    "!nsys profile -s none -o numba_v1 -f true python3 icassp_numba_v1.py float64 2000 0"
   ]
  },
  {
   "cell_type": "code",
   "execution_count": 24,
   "metadata": {},
   "outputs": [
    {
     "output_type": "stream",
     "name": "stdout",
     "text": [
      "Using numba_v1.sqlite file for stats and reports.\nExporting [/opt/nvidia/nsight-systems/2020.3.2/target-linux-x64/reports/gpukernsum numba_v1.sqlite] to console... \n\n Time(%)  Total Time (ns)  Instances    Average      Minimum     Maximum                                                    Name                                                \n -------  ---------------  ---------  ------------  ----------  ----------  ----------------------------------------------------------------------------------------------------\n   100.0   48,236,551,508      2,001  24,106,222.6  23,710,416  24,651,785  cudapy::__main__::_numba_lombscargle$241(Array<double, 1, C, mutable, aligned>, Array<double, 1, C,…\n\nExporting [/opt/nvidia/nsight-systems/2020.3.2/target-linux-x64/reports/nvtxppsum numba_v1.sqlite] to console... \n\n Time(%)  Total Time (ns)  Instances     Average       Minimum      Maximum            Range         \n -------  ---------------  ---------  -------------  -----------  -----------  ----------------------\n    99.3   59,221,075,631      2,000   29,610,537.8   24,495,922  188,578,440  numba_lombscargle_loop\n     0.7      421,707,595          1  421,707,595.0  421,707,595  421,707,595  numba_lombscargle     \n\n"
     ]
    }
   ],
   "source": [
    "#!nsys stats --report gpukernsum --report nvtxppsum --report gputrace numba_v1.qdrep # Use to get register usage\n",
    "!nsys stats --report gpukernsum --report nvtxppsum numba_v1.qdrep"
   ]
  },
  {
   "source": [
    "### Single Precision\n",
    "|                       | Registers | JIT (ms) | Kernel (ms) | Speed Up |\n",
    "|:----------------------|:----------|:---------|:------------|:---------|\n",
    "| Scipy                 | -         | 50,987.8 | 51,098.9    | 1.0      |\n",
    "| Numba (Baseline)      | 58        | 428.9    | 16.0        | 3193.7   |\n",
    "| Numba (User Cache)    |           |          |             |          |\n",
    "| Numba (Data Type)     |           |          |             |          |\n",
    "| Numba (Fast Math)     |           |          |             |          |\n",
    "| Numba (Max Registers) |           |          |             |          |\n",
    "\n",
    "### Double Precision\n",
    "|                       | Registers | JIT (ms) | Kernel (ms) | Speed Up |\n",
    "|:----------------------|:----------|:---------|:------------|:---------|\n",
    "| Scipy                 | -         | 50,835.6 | 50,879.4    | 1.0      |\n",
    "| Numba (Baseline)      | 66        | 421.7    | 29.6        | 1718.9   |\n",
    "| Numba (User Cache)    |           |          |             |          |\n",
    "| Numba (Data Type)     |           |          |             |          |\n",
    "| Numba (Fast Math)     |           |          |             |          |\n",
    "| Numba (Max Registers) |           |          |             |          |\n"
   ],
   "cell_type": "markdown",
   "metadata": {}
  },
  {
   "source": [
    "## GPU Scenario #2\n",
    "1. Numba implementation of Lombscargle function\n",
    "2. Added user cache"
   ],
   "cell_type": "markdown",
   "metadata": {}
  },
  {
   "cell_type": "code",
   "execution_count": 7,
   "metadata": {},
   "outputs": [
    {
     "output_type": "stream",
     "name": "stdout",
     "text": [
      "Warning: LBR backtrace method is not supported on this platform. DWARF backtrace method will be used.\n",
      "WARNING: Backtraces will not be collected because sampling is disabled.\n",
      "Collecting data...\n",
      "Registers 58\n",
      "Processing events...\n",
      "Capturing symbol files...\n",
      "Saving temporary \"/tmp/nsys-report-87a6-b745-296f-64ab.qdstrm\" file to disk...\n",
      "Creating final output files...\n",
      "\n",
      "Processing [==============================================================100%]\n",
      "Saved report file to \"/tmp/nsys-report-87a6-b745-296f-64ab.qdrep\"\n",
      "Report file moved to \"/home/odysseus/workStuff/cusignal-icassp-tutorial/notebooks/numba_cuda/numba_v2.qdrep\"\n"
     ]
    }
   ],
   "source": [
    "!nsys profile -s none -o numba_v2 -f true python3 icassp_numba_v2.py float32 2000 0"
   ]
  },
  {
   "cell_type": "code",
   "execution_count": 8,
   "metadata": {},
   "outputs": [
    {
     "output_type": "stream",
     "name": "stdout",
     "text": [
      "Generate SQLite file numba_v2.sqlite from numba_v2.qdrep\n",
      "Exporting 671562 events: [================================================100%]\n",
      "Using numba_v2.sqlite file for stats and reports.\n",
      "Exporting [/opt/nvidia/nsight-systems/2020.3.2/target-linux-x64/reports/gpukernsum numba_v2.sqlite] to console... \n",
      "\n",
      " Time(%)  Total Time (ns)  Instances    Average      Minimum     Maximum                                                    Name                                                \n",
      " -------  ---------------  ---------  ------------  ----------  ----------  ----------------------------------------------------------------------------------------------------\n",
      "   100.0   26,938,606,241      2,001  13,462,571.8  12,937,632  13,917,369  cudapy::__main__::_numba_lombscargle$241(Array<float, 1, C, mutable, aligned>, Array<float, 1, C, m…\n",
      "\n",
      "Exporting [/opt/nvidia/nsight-systems/2020.3.2/target-linux-x64/reports/nvtxppsum numba_v2.sqlite] to console... \n",
      "\n",
      " Time(%)  Total Time (ns)  Instances     Average       Minimum      Maximum            Range         \n",
      " -------  ---------------  ---------  -------------  -----------  -----------  ----------------------\n",
      "    98.7   32,231,612,773      2,000   16,115,806.4   13,613,140  173,675,632  numba_lombscargle_loop\n",
      "     1.3      431,603,358          1  431,603,358.0  431,603,358  431,603,358  numba_lombscargle     \n",
      "\n"
     ]
    }
   ],
   "source": [
    "!nsys stats --report gpukernsum --report nvtxppsum numba_v2.qdrep"
   ]
  },
  {
   "cell_type": "code",
   "execution_count": 9,
   "metadata": {},
   "outputs": [
    {
     "output_type": "stream",
     "name": "stdout",
     "text": [
      "Warning: LBR backtrace method is not supported on this platform. DWARF backtrace method will be used.\n",
      "WARNING: Backtraces will not be collected because sampling is disabled.\n",
      "Collecting data...\n",
      "Registers 66\n",
      "Processing events...\n",
      "Capturing symbol files...\n",
      "Saving temporary \"/tmp/nsys-report-8259-15d6-063a-21a2.qdstrm\" file to disk...\n",
      "Creating final output files...\n",
      "\n",
      "Processing [==============================================================100%]\n",
      "Saved report file to \"/tmp/nsys-report-8259-15d6-063a-21a2.qdrep\"\n",
      "Report file moved to \"/home/odysseus/workStuff/cusignal-icassp-tutorial/notebooks/numba_cuda/numba_v2.qdrep\"\n"
     ]
    }
   ],
   "source": [
    "!nsys profile -s none -o numba_v2 -f true python3 icassp_numba_v2.py float64 2000 0"
   ]
  },
  {
   "cell_type": "code",
   "execution_count": 10,
   "metadata": {},
   "outputs": [
    {
     "output_type": "stream",
     "name": "stdout",
     "text": [
      "Generate SQLite file numba_v2.sqlite from numba_v2.qdrep\n",
      "Exporting 658432 events: [================================================100%]\n",
      "Using numba_v2.sqlite file for stats and reports.\n",
      "Exporting [/opt/nvidia/nsight-systems/2020.3.2/target-linux-x64/reports/gpukernsum numba_v2.sqlite] to console... \n",
      "\n",
      " Time(%)  Total Time (ns)  Instances    Average      Minimum     Maximum                                                    Name                                                \n",
      " -------  ---------------  ---------  ------------  ----------  ----------  ----------------------------------------------------------------------------------------------------\n",
      "   100.0   48,309,187,858      2,001  24,142,522.7  23,753,620  24,700,429  cudapy::__main__::_numba_lombscargle$241(Array<double, 1, C, mutable, aligned>, Array<double, 1, C,…\n",
      "\n",
      "Exporting [/opt/nvidia/nsight-systems/2020.3.2/target-linux-x64/reports/nvtxppsum numba_v2.sqlite] to console... \n",
      "\n",
      " Time(%)  Total Time (ns)  Instances     Average       Minimum      Maximum            Range         \n",
      " -------  ---------------  ---------  -------------  -----------  -----------  ----------------------\n",
      "    99.3   58,865,325,236      2,000   29,432,662.6   24,441,874  200,413,304  numba_lombscargle_loop\n",
      "     0.7      428,512,436          1  428,512,436.0  428,512,436  428,512,436  numba_lombscargle     \n",
      "\n"
     ]
    }
   ],
   "source": [
    "!nsys stats --report gpukernsum --report nvtxppsum numba_v2.qdrep"
   ]
  },
  {
   "source": [
    "### Single Precision\n",
    "|                       | Registers | JIT (ms) | Kernel (ms) | Speed Up |\n",
    "|:----------------------|:----------|:---------|:------------|:---------|\n",
    "| Scipy                 | -         | 50,987.8 | 51,098.9    | 1.0      |\n",
    "| Numba (Baseline)      | 58        | 428.9    | 16.0        | 3193.7   |\n",
    "| Numba (User Cache)    | 58        | 431.6    | 16.1        | 3173.8   |\n",
    "| Numba (Data Type)     |           |          |             |          |\n",
    "| Numba (Fast Math)     |           |          |             |          |\n",
    "| Numba (Max Registers) |           |          |             |          |\n",
    "\n",
    "### Double Precision\n",
    "|                       | Registers | JIT (ms) | Kernel (ms) | Speed Up |\n",
    "|:----------------------|:----------|:---------|:------------|:---------|\n",
    "| Scipy                 | -         | 50,835.6 | 50,879.4    | 1.0      |\n",
    "| Numba (Baseline)      | 66        | 421.7    | 29.6        | 1718.9   |\n",
    "| Numba (User Cache)    | 66        | 428.5    | 29.4        | 1730.6   |\n",
    "| Numba (Data Type)     |           |          |             |          |\n",
    "| Numba (Fast Math)     |           |          |             |          |\n",
    "| Numba (Max Registers) |           |          |             |          |"
   ],
   "cell_type": "markdown",
   "metadata": {}
  },
  {
   "source": [
    "## GPU Scenario #2\n",
    "1. Numba implementation of Lombscargle function\n",
    "2. Added user cache\n",
    "3. Specific functions per data type"
   ],
   "cell_type": "markdown",
   "metadata": {}
  },
  {
   "cell_type": "code",
   "execution_count": 11,
   "metadata": {},
   "outputs": [
    {
     "output_type": "stream",
     "name": "stdout",
     "text": [
      "Warning: LBR backtrace method is not supported on this platform. DWARF backtrace method will be used.\n",
      "WARNING: Backtraces will not be collected because sampling is disabled.\n",
      "Collecting data...\n",
      "Registers 40\n",
      "Processing events...\n",
      "Capturing symbol files...\n",
      "Saving temporary \"/tmp/nsys-report-bb3d-8f2e-706d-93ed.qdstrm\" file to disk...\n",
      "Creating final output files...\n",
      "\n",
      "Processing [==============================================================100%]\n",
      "Saved report file to \"/tmp/nsys-report-bb3d-8f2e-706d-93ed.qdrep\"\n",
      "Report file moved to \"/home/odysseus/workStuff/cusignal-icassp-tutorial/notebooks/numba_cuda/numba_v3.qdrep\"\n"
     ]
    }
   ],
   "source": [
    "!nsys profile -s none -o numba_v3 -f true python3 icassp_numba_v3.py float32 2000 0"
   ]
  },
  {
   "cell_type": "code",
   "execution_count": 12,
   "metadata": {},
   "outputs": [
    {
     "output_type": "stream",
     "name": "stdout",
     "text": [
      "Generate SQLite file numba_v3.sqlite from numba_v3.qdrep\n",
      "Exporting 643958 events: [================================================100%]\n",
      "Using numba_v3.sqlite file for stats and reports.\n",
      "Exporting [/opt/nvidia/nsight-systems/2020.3.2/target-linux-x64/reports/gpukernsum numba_v3.sqlite] to console... \n",
      "\n",
      " Time(%)  Total Time (ns)  Instances    Average      Minimum     Maximum                                                    Name                                                \n",
      " -------  ---------------  ---------  ------------  ----------  ----------  ----------------------------------------------------------------------------------------------------\n",
      "   100.0   21,986,311,249      2,001  10,987,661.8  10,662,568  11,625,737  cudapy::__main__::_numba_lombscargle_32$241(Array<float, 1, C, mutable, aligned>, Array<float, 1, C…\n",
      "\n",
      "Exporting [/opt/nvidia/nsight-systems/2020.3.2/target-linux-x64/reports/nvtxppsum numba_v3.sqlite] to console... \n",
      "\n",
      " Time(%)  Total Time (ns)  Instances     Average       Minimum      Maximum            Range         \n",
      " -------  ---------------  ---------  -------------  -----------  -----------  ----------------------\n",
      "    98.0   26,538,818,896      2,000   13,269,409.4   11,321,297  154,382,189  numba_lombscargle_loop\n",
      "     2.0      554,922,121          1  554,922,121.0  554,922,121  554,922,121  numba_lombscargle     \n",
      "\n"
     ]
    }
   ],
   "source": [
    "!nsys stats --report gpukernsum --report nvtxppsum numba_v3.qdrep"
   ]
  },
  {
   "cell_type": "code",
   "execution_count": 13,
   "metadata": {},
   "outputs": [
    {
     "output_type": "stream",
     "name": "stdout",
     "text": [
      "Warning: LBR backtrace method is not supported on this platform. DWARF backtrace method will be used.\n",
      "WARNING: Backtraces will not be collected because sampling is disabled.\n",
      "Collecting data...\n",
      "Registers 58\n",
      "Processing events...\n",
      "Capturing symbol files...\n",
      "Saving temporary \"/tmp/nsys-report-6ad0-adce-2a47-6514.qdstrm\" file to disk...\n",
      "Creating final output files...\n",
      "\n",
      "Processing [==============================================================100%]\n",
      "Saved report file to \"/tmp/nsys-report-6ad0-adce-2a47-6514.qdrep\"\n",
      "Report file moved to \"/home/odysseus/workStuff/cusignal-icassp-tutorial/notebooks/numba_cuda/numba_v3.qdrep\"\n"
     ]
    }
   ],
   "source": [
    "!nsys profile -s none -o numba_v3 -f true python3 icassp_numba_v3.py float64 2000 0"
   ]
  },
  {
   "cell_type": "code",
   "execution_count": 14,
   "metadata": {},
   "outputs": [
    {
     "output_type": "stream",
     "name": "stdout",
     "text": [
      "Generate SQLite file numba_v3.sqlite from numba_v3.qdrep\n",
      "Exporting 684019 events: [================================================100%]\n",
      "Using numba_v3.sqlite file for stats and reports.\n",
      "Exporting [/opt/nvidia/nsight-systems/2020.3.2/target-linux-x64/reports/gpukernsum numba_v3.sqlite] to console... \n",
      "\n",
      " Time(%)  Total Time (ns)  Instances    Average      Minimum     Maximum                                                    Name                                                \n",
      " -------  ---------------  ---------  ------------  ----------  ----------  ----------------------------------------------------------------------------------------------------\n",
      "   100.0   49,150,959,951      2,001  24,563,198.4  24,225,039  25,094,502  cudapy::__main__::_numba_lombscargle_64$241(Array<double, 1, C, mutable, aligned>, Array<double, 1,…\n",
      "\n",
      "Exporting [/opt/nvidia/nsight-systems/2020.3.2/target-linux-x64/reports/nvtxppsum numba_v3.sqlite] to console... \n",
      "\n",
      " Time(%)  Total Time (ns)  Instances     Average       Minimum      Maximum            Range         \n",
      " -------  ---------------  ---------  -------------  -----------  -----------  ----------------------\n",
      "    99.3   58,384,403,925      2,000   29,192,202.0   24,910,678  188,985,205  numba_lombscargle_loop\n",
      "     0.7      428,869,411          1  428,869,411.0  428,869,411  428,869,411  numba_lombscargle     \n",
      "\n"
     ]
    }
   ],
   "source": [
    "!nsys stats --report gpukernsum --report nvtxppsum numba_v3.qdrep"
   ]
  },
  {
   "source": [
    "### Single Precision\n",
    "|                       | Registers | JIT (ms) | Kernel (ms) | Speed Up |\n",
    "|:----------------------|:----------|:---------|:------------|:---------|\n",
    "| Scipy                 | -         | 50,987.8 | 51,098.9    | 1.0      |\n",
    "| Numba (Baseline)      | 58        | 428.9    | 16.0        | 3193.7   |\n",
    "| Numba (User Cache)    | 58        | 431.6    | 16.1        | 3173.8   |\n",
    "| Numba (Data Type)     | 40        | 554.9    | 13.3        | 3842.0   |\n",
    "| Numba (Fast Math)     |           |          |             |          |\n",
    "| Numba (Max Registers) |           |          |             |          |\n",
    "\n",
    "### Double Precision\n",
    "|                       | Registers | JIT (ms) | Kernel (ms) | Speed Up |\n",
    "|:----------------------|:----------|:---------|:------------|:---------|\n",
    "| Scipy                 | -         | 50,835.6 | 50,879.4    | 1.0      |\n",
    "| Numba (Baseline)      | 66        | 421.7    | 29.6        | 1718.9   |\n",
    "| Numba (User Cache)    | 66        | 428.5    | 29.4        | 1730.6   |\n",
    "| Numba (Data Type)     | 58        | 428.9    | 29.2        | 1742.4   |\n",
    "| Numba (Fast Math)     |           |          |             |          |\n",
    "| Numba (Max Registers) |           |          |             |          |"
   ],
   "cell_type": "markdown",
   "metadata": {}
  },
  {
   "source": [
    "## GPU Scenario #4\n",
    "1. Numba implementation of Lombscargle function\n",
    "2. Added user cache\n",
    "3. Specific functions per data type\n",
    "4. Utilize fast_math compiler flag"
   ],
   "cell_type": "markdown",
   "metadata": {}
  },
  {
   "cell_type": "code",
   "execution_count": 15,
   "metadata": {},
   "outputs": [
    {
     "output_type": "stream",
     "name": "stdout",
     "text": [
      "Warning: LBR backtrace method is not supported on this platform. DWARF backtrace method will be used.\n",
      "WARNING: Backtraces will not be collected because sampling is disabled.\n",
      "Collecting data...\n",
      "Registers 35\n",
      "Processing events...\n",
      "Capturing symbol files...\n",
      "Saving temporary \"/tmp/nsys-report-f0fe-5681-a7b8-fdd2.qdstrm\" file to disk...\n",
      "Creating final output files...\n",
      "\n",
      "Processing [==============================================================100%]\n",
      "Saved report file to \"/tmp/nsys-report-f0fe-5681-a7b8-fdd2.qdrep\"\n",
      "Report file moved to \"/home/odysseus/workStuff/cusignal-icassp-tutorial/notebooks/numba_cuda/numba_v4.qdrep\"\n"
     ]
    }
   ],
   "source": [
    "!nsys profile -s none -o numba_v4 -f true python3 icassp_numba_v4.py float32 2000 0"
   ]
  },
  {
   "cell_type": "code",
   "execution_count": 16,
   "metadata": {},
   "outputs": [
    {
     "output_type": "stream",
     "name": "stdout",
     "text": [
      "Generate SQLite file numba_v4.sqlite from numba_v4.qdrep\n",
      "Exporting 650576 events: [================================================100%]\n",
      "Using numba_v4.sqlite file for stats and reports.\n",
      "Exporting [/opt/nvidia/nsight-systems/2020.3.2/target-linux-x64/reports/gpukernsum numba_v4.sqlite] to console... \n",
      "\n",
      " Time(%)  Total Time (ns)  Instances    Average      Minimum     Maximum                                                    Name                                                \n",
      " -------  ---------------  ---------  ------------  ----------  ----------  ----------------------------------------------------------------------------------------------------\n",
      "   100.0   21,833,987,035      2,001  10,911,537.7  10,654,788  11,627,481  cudapy::__main__::_numba_lombscargle_32$241(Array<float, 1, C, mutable, aligned>, Array<float, 1, C…\n",
      "\n",
      "Exporting [/opt/nvidia/nsight-systems/2020.3.2/target-linux-x64/reports/nvtxppsum numba_v4.sqlite] to console... \n",
      "\n",
      " Time(%)  Total Time (ns)  Instances     Average       Minimum      Maximum            Range         \n",
      " -------  ---------------  ---------  -------------  -----------  -----------  ----------------------\n",
      "    98.3   26,254,256,996      2,000   13,127,128.5   11,307,432  155,932,608  numba_lombscargle_loop\n",
      "     1.7      442,916,200          1  442,916,200.0  442,916,200  442,916,200  numba_lombscargle     \n",
      "\n"
     ]
    }
   ],
   "source": [
    "!nsys stats --report gpukernsum --report nvtxppsum numba_v4.qdrep"
   ]
  },
  {
   "cell_type": "code",
   "execution_count": 17,
   "metadata": {},
   "outputs": [
    {
     "output_type": "stream",
     "name": "stdout",
     "text": [
      "Warning: LBR backtrace method is not supported on this platform. DWARF backtrace method will be used.\n",
      "WARNING: Backtraces will not be collected because sampling is disabled.\n",
      "Collecting data...\n",
      "Registers 58\n",
      "Processing events...\n",
      "Capturing symbol files...\n",
      "Saving temporary \"/tmp/nsys-report-3755-a54e-ffc3-2b74.qdstrm\" file to disk...\n",
      "Creating final output files...\n",
      "\n",
      "Processing [==============================================================100%]\n",
      "Saved report file to \"/tmp/nsys-report-3755-a54e-ffc3-2b74.qdrep\"\n",
      "Report file moved to \"/home/odysseus/workStuff/cusignal-icassp-tutorial/notebooks/numba_cuda/numba_v4.qdrep\"\n"
     ]
    }
   ],
   "source": [
    "!nsys profile -s none -o numba_v4 -f true python3 icassp_numba_v4.py float64 2000 0"
   ]
  },
  {
   "cell_type": "code",
   "execution_count": 18,
   "metadata": {},
   "outputs": [
    {
     "output_type": "stream",
     "name": "stdout",
     "text": [
      "Generate SQLite file numba_v4.sqlite from numba_v4.qdrep\n",
      "Exporting 658868 events: [================================================100%]\n",
      "Using numba_v4.sqlite file for stats and reports.\n",
      "Exporting [/opt/nvidia/nsight-systems/2020.3.2/target-linux-x64/reports/gpukernsum numba_v4.sqlite] to console... \n",
      "\n",
      " Time(%)  Total Time (ns)  Instances    Average      Minimum     Maximum                                                    Name                                                \n",
      " -------  ---------------  ---------  ------------  ----------  ----------  ----------------------------------------------------------------------------------------------------\n",
      "   100.0   49,132,940,772      2,001  24,554,193.3  24,238,526  25,088,077  cudapy::__main__::_numba_lombscargle_64$241(Array<double, 1, C, mutable, aligned>, Array<double, 1,…\n",
      "\n",
      "Exporting [/opt/nvidia/nsight-systems/2020.3.2/target-linux-x64/reports/nvtxppsum numba_v4.sqlite] to console... \n",
      "\n",
      " Time(%)  Total Time (ns)  Instances     Average       Minimum      Maximum            Range         \n",
      " -------  ---------------  ---------  -------------  -----------  -----------  ----------------------\n",
      "    99.1   58,227,597,901      2,000   29,113,799.0   24,965,370  186,415,411  numba_lombscargle_loop\n",
      "     0.9      507,316,972          1  507,316,972.0  507,316,972  507,316,972  numba_lombscargle     \n",
      "\n"
     ]
    }
   ],
   "source": [
    "!nsys stats --report gpukernsum --report nvtxppsum numba_v4.qdrep"
   ]
  },
  {
   "source": [
    "### Single Precision\n",
    "|                       | Registers | JIT (ms) | Kernel (ms) | Speed Up |\n",
    "|:----------------------|:----------|:---------|:------------|:---------|\n",
    "| Scipy                 | -         | 50,987.8 | 51,098.9    | 1.0      |\n",
    "| Numba (Baseline)      | 58        | 428.9    | 16.0        | 3193.7   |\n",
    "| Numba (User Cache)    | 58        | 431.6    | 16.1        | 3173.8   |\n",
    "| Numba (Data Type)     | 40        | 554.9    | 13.3        | 3842.0   |\n",
    "| Numba (Fast Math)     | 35        | 442.9    | 13.1        | 3900.7   |\n",
    "| Numba (Max Registers) |           |          |             |          |\n",
    "\n",
    "### Double Precision\n",
    "|                       | Registers | JIT (ms) | Kernel (ms) | Speed Up |\n",
    "|:----------------------|:----------|:---------|:------------|:---------|\n",
    "| Scipy                 | -         | 50,835.6 | 50,879.4    | 1.0      |\n",
    "| Numba (Baseline)      | 66        | 421.7    | 29.6        | 1718.9   |\n",
    "| Numba (User Cache)    | 66        | 428.5    | 29.4        | 1730.6   |\n",
    "| Numba (Data Type)     | 58        | 428.9    | 29.2        | 1742.4   |\n",
    "| Numba (Fast Math)     | 58        | 507.3    | 29.1        | 1748.4   |\n",
    "| Numba (Max Registers) |           |          |             |          |"
   ],
   "cell_type": "markdown",
   "metadata": {}
  },
  {
   "source": [
    "# GPU Scenario #5\n",
    "1. Numba implementation of Lombscargle function\n",
    "2. Added user cache\n",
    "3. Specific functions per data type\n",
    "4. Utilize fast_math compiler flag\n",
    "5. Utilize max registers compiler switch\n"
   ],
   "cell_type": "markdown",
   "metadata": {}
  },
  {
   "cell_type": "code",
   "execution_count": 19,
   "metadata": {},
   "outputs": [
    {
     "output_type": "stream",
     "name": "stdout",
     "text": [
      "Warning: LBR backtrace method is not supported on this platform. DWARF backtrace method will be used.\n",
      "WARNING: Backtraces will not be collected because sampling is disabled.\n",
      "Collecting data...\n",
      "Registers 32\n",
      "Processing events...\n",
      "Capturing symbol files...\n",
      "Saving temporary \"/tmp/nsys-report-bb66-6096-236e-7cf1.qdstrm\" file to disk...\n",
      "Creating final output files...\n",
      "\n",
      "Processing [==============================================================100%]\n",
      "Saved report file to \"/tmp/nsys-report-bb66-6096-236e-7cf1.qdrep\"\n",
      "Report file moved to \"/home/odysseus/workStuff/cusignal-icassp-tutorial/notebooks/numba_cuda/numba_v5.qdrep\"\n"
     ]
    }
   ],
   "source": [
    "!nsys profile -s none -o numba_v5 -f true python3 icassp_numba_v5.py float32 2000 0"
   ]
  },
  {
   "cell_type": "code",
   "execution_count": 20,
   "metadata": {},
   "outputs": [
    {
     "output_type": "stream",
     "name": "stdout",
     "text": [
      "Generate SQLite file numba_v5.sqlite from numba_v5.qdrep\n",
      "Exporting 646215 events: [================================================100%]\n",
      "Using numba_v5.sqlite file for stats and reports.\n",
      "Exporting [/opt/nvidia/nsight-systems/2020.3.2/target-linux-x64/reports/gpukernsum numba_v5.sqlite] to console... \n",
      "\n",
      " Time(%)  Total Time (ns)  Instances    Average      Minimum     Maximum                                                    Name                                                \n",
      " -------  ---------------  ---------  ------------  ----------  ----------  ----------------------------------------------------------------------------------------------------\n",
      "   100.0   21,766,059,664      2,001  10,877,591.0  10,504,531  11,299,774  cudapy::__main__::_numba_lombscargle_32$241(Array<float, 1, C, mutable, aligned>, Array<float, 1, C…\n",
      "\n",
      "Exporting [/opt/nvidia/nsight-systems/2020.3.2/target-linux-x64/reports/nvtxppsum numba_v5.sqlite] to console... \n",
      "\n",
      " Time(%)  Total Time (ns)  Instances     Average       Minimum      Maximum            Range         \n",
      " -------  ---------------  ---------  -------------  -----------  -----------  ----------------------\n",
      "    98.3   26,153,806,093      2,000   13,076,903.0   11,159,930  153,020,903  numba_lombscargle_loop\n",
      "     1.7      439,367,954          1  439,367,954.0  439,367,954  439,367,954  numba_lombscargle     \n",
      "\n"
     ]
    }
   ],
   "source": [
    "!nsys stats --report gpukernsum --report nvtxppsum numba_v5.qdrep"
   ]
  },
  {
   "cell_type": "code",
   "execution_count": 21,
   "metadata": {},
   "outputs": [
    {
     "output_type": "stream",
     "name": "stdout",
     "text": [
      "Warning: LBR backtrace method is not supported on this platform. DWARF backtrace method will be used.\n",
      "WARNING: Backtraces will not be collected because sampling is disabled.\n",
      "Collecting data...\n",
      "Registers 62\n",
      "Processing events...\n",
      "Capturing symbol files...\n",
      "Saving temporary \"/tmp/nsys-report-e5d8-249e-d8a1-b58e.qdstrm\" file to disk...\n",
      "Creating final output files...\n",
      "\n",
      "Processing [==============================================================100%]\n",
      "Saved report file to \"/tmp/nsys-report-e5d8-249e-d8a1-b58e.qdrep\"\n",
      "Report file moved to \"/home/odysseus/workStuff/cusignal-icassp-tutorial/notebooks/numba_cuda/numba_v5.qdrep\"\n"
     ]
    }
   ],
   "source": [
    "!nsys profile -s none -o numba_v5 -f true python3 icassp_numba_v5.py float64 2000 0"
   ]
  },
  {
   "cell_type": "code",
   "execution_count": 22,
   "metadata": {},
   "outputs": [
    {
     "output_type": "stream",
     "name": "stdout",
     "text": [
      "Generate SQLite file numba_v5.sqlite from numba_v5.qdrep\n",
      "Exporting 671734 events: [================================================100%]\n",
      "Using numba_v5.sqlite file for stats and reports.\n",
      "Exporting [/opt/nvidia/nsight-systems/2020.3.2/target-linux-x64/reports/gpukernsum numba_v5.sqlite] to console... \n",
      "\n",
      " Time(%)  Total Time (ns)  Instances    Average      Minimum     Maximum                                                    Name                                                \n",
      " -------  ---------------  ---------  ------------  ----------  ----------  ----------------------------------------------------------------------------------------------------\n",
      "   100.0   49,694,294,409      2,001  24,834,729.8  24,419,562  25,362,804  cudapy::__main__::_numba_lombscargle_64$241(Array<double, 1, C, mutable, aligned>, Array<double, 1,…\n",
      "\n",
      "Exporting [/opt/nvidia/nsight-systems/2020.3.2/target-linux-x64/reports/nvtxppsum numba_v5.sqlite] to console... \n",
      "\n",
      " Time(%)  Total Time (ns)  Instances     Average       Minimum      Maximum            Range         \n",
      " -------  ---------------  ---------  -------------  -----------  -----------  ----------------------\n",
      "    99.2   59,052,106,023      2,000   29,526,053.0   25,143,021  187,396,288  numba_lombscargle_loop\n",
      "     0.8      449,186,617          1  449,186,617.0  449,186,617  449,186,617  numba_lombscargle     \n",
      "\n"
     ]
    }
   ],
   "source": [
    "!nsys stats --report gpukernsum --report nvtxppsum numba_v5.qdrep"
   ]
  },
  {
   "source": [
    "### Single Precision\n",
    "|                       | Registers | JIT (ms) | Kernel (ms) | Speed Up |\n",
    "|:----------------------|:----------|:---------|:------------|:---------|\n",
    "| Scipy                 | -         | 50,987.8 | 51,098.9    | 1.0      |\n",
    "| Numba (Baseline)      | 58        | 428.9    | 16.0        | 3193.7   |\n",
    "| Numba (User Cache)    | 58        | 431.6    | 16.1        | 3173.8   |\n",
    "| Numba (Data Type)     | 40        | 554.9    | 13.3        | 3842.0   |\n",
    "| Numba (Fast Math)     | 35        | 442.9    | 13.1        | 3900.7   |\n",
    "| Numba (Max Registers) | 32        | 439.4    | 13.1        | 3900.7   |\n",
    "\n",
    "### Double Precision\n",
    "|                       | Registers | JIT (ms) | Kernel (ms) | Speed Up |\n",
    "|:----------------------|:----------|:---------|:------------|:---------|\n",
    "| Scipy                 | -         | 50,835.6 | 50,879.4    | 1.0      |\n",
    "| Numba (Baseline)      | 66        | 421.7    | 29.6        | 1718.9   |\n",
    "| Numba (User Cache)    | 66        | 428.5    | 29.4        | 1730.6   |\n",
    "| Numba (Data Type)     | 58        | 428.9    | 29.2        | 1742.4   |\n",
    "| Numba (Fast Math)     | 58        | 507.3    | 29.1        | 1748.4   |\n",
    "| Numba (Max Registers) | 62        | 449.2    | 29.5        | 1724.7   |"
   ],
   "cell_type": "markdown",
   "metadata": {}
  }
 ],
 "metadata": {
  "kernelspec": {
   "name": "cusignal2",
   "display_name": "cusignal2",
   "language": "python"
  },
  "metadata": {
   "interpreter": {
    "hash": "77515a835a6d03ede03a66fc7b5daab9e4030bb6d48be88f06bce96af54be83e"
   }
  }
 },
 "nbformat": 4,
 "nbformat_minor": 4
}