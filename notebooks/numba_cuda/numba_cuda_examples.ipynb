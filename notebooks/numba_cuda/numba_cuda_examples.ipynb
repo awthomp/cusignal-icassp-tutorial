{
 "cells": [
  {
   "source": [
    "# Hardware\n",
    "###DGX Station\n",
    "V100 SMX2 16GB\n",
    "\n",
    "Intel Xeon E5-2968 v4 @ 2.20GHz\n",
    "\n",
    "# Software\n",
    "CUDA 11.0\n",
    "\n",
    "cuSignal 0.19\n",
    "\n",
    "SciPy 1.6.3\n",
    "\n",
    "Numba 0.53.1"
   ],
   "cell_type": "markdown",
   "metadata": {}
  },
  {
   "source": [
    "## CPU Baseline\n",
    "Baseline Scipy's Signal Lombscargle function"
   ],
   "cell_type": "markdown",
   "metadata": {}
  },
  {
   "cell_type": "code",
   "execution_count": 1,
   "metadata": {},
   "outputs": [
    {
     "output_type": "stream",
     "name": "stdout",
     "text": [
      "Warning: LBR backtrace method is not supported on this platform. DWARF backtrace method will be used.\n",
      "WARNING: Backtraces will not be collected because sampling is disabled.\n",
      "Collecting data...\n",
      "Processing events...\n",
      "Capturing symbol files...\n",
      "Saving temporary \"/tmp/nsys-report-9e13-2ac9-3b87-e2b3.qdstrm\" file to disk...\n",
      "Creating final output files...\n",
      "\n",
      "Processing [==============================================================100%]\n",
      "Saved report file to \"/tmp/nsys-report-9e13-2ac9-3b87-e2b3.qdrep\"\n",
      "Exporting 608311 events: [================================================100%]\n",
      "\n",
      "Exported successfully to\n",
      "/tmp/nsys-report-9e13-2ac9-3b87-e2b3.sqlite\n",
      "\n",
      "Generating CUDA API Statistics...\n",
      "CUDA API Statistics (nanoseconds)\n",
      "\n",
      "\n",
      "\n",
      "\n",
      "CUDA trace data was not collected.\n",
      "\n",
      "\n",
      "Generating Operating System Runtime API Statistics...\n",
      "Operating System Runtime API Statistics (nanoseconds)\n",
      "\n",
      "Time(%)      Total Time       Calls         Average         Minimum         Maximum  Name                                                                            \n",
      "-------  --------------  ----------  --------------  --------------  --------------  --------------------------------------------------------------------------------\n",
      "   98.8      1325955470      605486          2189.9            1000         4967998  sched_yield                                                                     \n",
      "    0.4         6030914         714          8446.7            1016          221523  read                                                                            \n",
      "    0.2         3161319         628          5033.9            3148           18737  open64                                                                          \n",
      "    0.2         2669093         154         17331.8            3045          115281  munmap                                                                          \n",
      "    0.1         1789839         241          7426.7            1019          160411  mmap64                                                                          \n",
      "    0.1         1764420          39         45241.5           23160          175046  pthread_create                                                                  \n",
      "    0.0          455724          39         11685.2            2443          123489  mmap                                                                            \n",
      "    0.0           11018           3          3672.7            2560            4361  fopen64                                                                         \n",
      "    0.0            4744           3          1581.3            1161            1827  sigaction                                                                       \n",
      "    0.0            3822           1          3822.0            3822            3822  fread                                                                           \n",
      "    0.0            3179           1          3179.0            3179            3179  fclose                                                                          \n",
      "    0.0            2250           2          1125.0            1093            1157  fcntl                                                                           \n",
      "    0.0            1333           1          1333.0            1333            1333  dup                                                                             \n",
      "    0.0            1057           1          1057.0            1057            1057  pthread_cond_signal                                                             \n",
      "\n",
      "\n",
      "\n",
      "\n",
      "Generating NVTX Push-Pop Range Statistics...\n",
      "NVTX Push-Pop Range Statistics (nanoseconds)\n",
      "\n",
      "Time(%)      Total Time   Instances         Average         Minimum         Maximum  Range                    \n",
      "-------  --------------  ----------  --------------  --------------  --------------  -------------------------\n",
      "   83.4    255494430401           5   51098886080.2     51091953593     51102308478  scipy_lombscargle_loop   \n",
      "   16.6     50987814805           1   50987814805.0     50987814805     50987814805  scipy_lombscargle        \n",
      "\n",
      "\n",
      "\n",
      "Report file moved to \"/home/odysseus/workStuff/cusignal-icassp-tutorial/notebooks/numba_cuda/scipy_v1.qdrep\"\n",
      "Report file moved to \"/home/odysseus/workStuff/cusignal-icassp-tutorial/notebooks/numba_cuda/scipy_v1.sqlite\"\n"
     ]
    }
   ],
   "source": [
    "!nsys profile -s none -o scipy_v1 -f true --stats=true python3 icassp_scipy_v1.py float32 5"
   ]
  },
  {
   "cell_type": "code",
   "execution_count": 2,
   "metadata": {},
   "outputs": [
    {
     "output_type": "stream",
     "name": "stdout",
     "text": [
      "Warning: LBR backtrace method is not supported on this platform. DWARF backtrace method will be used.\n",
      "WARNING: Backtraces will not be collected because sampling is disabled.\n",
      "Collecting data...\n",
      "Processing events...\n",
      "Capturing symbol files...\n",
      "Saving temporary \"/tmp/nsys-report-76f8-00c4-4dcf-f4c9.qdstrm\" file to disk...\n",
      "Creating final output files...\n",
      "\n",
      "Processing [==============================================================100%]\n",
      "Saved report file to \"/tmp/nsys-report-76f8-00c4-4dcf-f4c9.qdrep\"\n",
      "Exporting 652843 events: [================================================100%]\n",
      "\n",
      "Exported successfully to\n",
      "/tmp/nsys-report-76f8-00c4-4dcf-f4c9.sqlite\n",
      "\n",
      "Generating CUDA API Statistics...\n",
      "CUDA API Statistics (nanoseconds)\n",
      "\n",
      "\n",
      "\n",
      "\n",
      "CUDA trace data was not collected.\n",
      "\n",
      "\n",
      "Generating Operating System Runtime API Statistics...\n",
      "Operating System Runtime API Statistics (nanoseconds)\n",
      "\n",
      "Time(%)      Total Time       Calls         Average         Minimum         Maximum  Name                                                                            \n",
      "-------  --------------  ----------  --------------  --------------  --------------  --------------------------------------------------------------------------------\n",
      "   98.8      1314999171      650018          2023.0            1000         9880148  sched_yield                                                                     \n",
      "    0.4         5917058         737          8028.6            1000          152247  read                                                                            \n",
      "    0.3         3456702         628          5504.3            3588           14974  open64                                                                          \n",
      "    0.2         2523871         145         17406.0            2743           80305  munmap                                                                          \n",
      "    0.1         1583969          39         40614.6           24462           65049  pthread_create                                                                  \n",
      "    0.1         1298308         228          5694.3            1036          108601  mmap64                                                                          \n",
      "    0.1          909295          39         23315.3            2380          313966  mmap                                                                            \n",
      "    0.0           11156           3          3718.7            2405            4401  fopen64                                                                         \n",
      "    0.0            4379           3          1459.7            1153            1784  sigaction                                                                       \n",
      "    0.0            3993           1          3993.0            3993            3993  fread                                                                           \n",
      "    0.0            3511           1          3511.0            3511            3511  fclose                                                                          \n",
      "    0.0            3274           3          1091.3            1007            1207  pthread_cond_signal                                                             \n",
      "    0.0            2420           2          1210.0            1186            1234  fcntl                                                                           \n",
      "    0.0            1439           1          1439.0            1439            1439  dup                                                                             \n",
      "\n",
      "\n",
      "\n",
      "\n",
      "Generating NVTX Push-Pop Range Statistics...\n",
      "NVTX Push-Pop Range Statistics (nanoseconds)\n",
      "\n",
      "Time(%)      Total Time   Instances         Average         Minimum         Maximum  Range                    \n",
      "-------  --------------  ----------  --------------  --------------  --------------  -------------------------\n",
      "   83.3    254396793152           5   50879358630.4     50838617300     51036842751  scipy_lombscargle_loop   \n",
      "   16.7     50835639468           1   50835639468.0     50835639468     50835639468  scipy_lombscargle        \n",
      "\n",
      "\n",
      "\n",
      "Report file moved to \"/home/odysseus/workStuff/cusignal-icassp-tutorial/notebooks/numba_cuda/scipy_v1.qdrep\"\n",
      "Report file moved to \"/home/odysseus/workStuff/cusignal-icassp-tutorial/notebooks/numba_cuda/scipy_v1.sqlite\"\n"
     ]
    }
   ],
   "source": [
    "!nsys profile -s none -o scipy_v1 -f true --stats=true python3 icassp_scipy_v1.py float64 5"
   ]
  },
  {
   "source": [
    "### Single Precision\n",
    "|                       | Registers | JIT (ms) | Kernel (ms) | Speed Up |\n",
    "|:----------------------|:----------|:---------|:------------|:---------|\n",
    "| Scipy                 | -         | 50,987.8 | 51,098.9    | 1.0      |\n",
    "| Numba (Baseline)      |           |          |             |          |\n",
    "| Numba (User Cache)    |           |          |             |          |\n",
    "| Numba (Data Type)     |           |          |             |          |\n",
    "| Numba (Fast Math)     |           |          |             |          |\n",
    "| Numba (Max Registers) |           |          |             |          |\n",
    "\n",
    "### Double Precision\n",
    "|                       | Registers | JIT (ms) | Kernel (ms) | Speed Up |\n",
    "|:----------------------|:----------|:---------|:------------|:---------|\n",
    "| Scipy                 | -         | 50,835.6 | 50,879.4    | 1.0      |\n",
    "| Numba (Baseline)      |           |          |             |          |\n",
    "| Numba (User Cache)    |           |          |             |          |\n",
    "| Numba (Data Type)     |           |          |             |          |\n",
    "| Numba (Fast Math)     |           |          |             |          |\n",
    "| Numba (Max Registers) |           |          |             |          |"
   ],
   "cell_type": "markdown",
   "metadata": {}
  },
  {
   "source": [
    "## GPU Scenario #1\n",
    "1. Numba implementation of Lombscargle function"
   ],
   "cell_type": "markdown",
   "metadata": {}
  },
  {
   "cell_type": "code",
   "execution_count": 25,
   "metadata": {},
   "outputs": [
    {
     "output_type": "stream",
     "name": "stdout",
     "text": [
      "Warning: LBR backtrace method is not supported on this platform. DWARF backtrace method will be used.\n",
      "WARNING: Backtraces will not be collected because sampling is disabled.\n",
      "Collecting data...\n",
      "Processing events...\n",
      "Capturing symbol files...\n",
      "Saving temporary \"/tmp/nsys-report-7e6a-83a0-91fc-2c13.qdstrm\" file to disk...\n",
      "Creating final output files...\n",
      "\n",
      "Processing [==============================================================100%]\n",
      "Saved report file to \"/tmp/nsys-report-7e6a-83a0-91fc-2c13.qdrep\"\n",
      "Exporting 643085 events: [================================================100%]\n",
      "\n",
      "Exported successfully to\n",
      "/tmp/nsys-report-7e6a-83a0-91fc-2c13.sqlite\n",
      "\n",
      "Generating CUDA API Statistics...\n",
      "CUDA API Statistics (nanoseconds)\n",
      "\n",
      "Time(%)      Total Time       Calls         Average         Minimum         Maximum  Name                                                                            \n",
      "-------  --------------  ----------  --------------  --------------  --------------  --------------------------------------------------------------------------------\n",
      "   96.7     26877704415        2001      13432136.1        12906077        13882509  cuCtxSynchronize                                                                \n",
      "    1.9       535581211        4005        133728.1           10582        14444730  cuMemAlloc_v2                                                                   \n",
      "    1.3       353752951        4004         88349.9            6401          403572  cuMemFree_v2                                                                    \n",
      "    0.1        39812369        2001         19896.2           18857           30850  cuLaunchKernel                                                                  \n",
      "    0.0          796194           1        796194.0          796194          796194  cuModuleLoadDataEx                                                              \n",
      "    0.0          556176           3        185392.0           17452          516125  cuMemcpyHtoD_v2                                                                 \n",
      "    0.0          171008           1        171008.0          171008          171008  cuLinkComplete                                                                  \n",
      "    0.0           56432           1         56432.0           56432           56432  cuLinkCreate_v2                                                                 \n",
      "    0.0           34202           1         34202.0           34202           34202  cuMemGetInfo_v2                                                                 \n",
      "    0.0            2445           1          2445.0            2445            2445  cuInit                                                                          \n",
      "    0.0            2278           1          2278.0            2278            2278  cuLinkDestroy                                                                   \n",
      "\n",
      "\n",
      "\n",
      "\n",
      "Generating CUDA Kernel Statistics...\n",
      "CUDA Kernel Statistics (nanoseconds)\n",
      "\n",
      "Time(%)      Total Time   Instances         Average         Minimum         Maximum  Name                                                                                                                                                                                                                                                                                                                                         \n",
      "-------  --------------  ----------  --------------  --------------  --------------  --------------------------------------------------------------------------------------------------------------------                                                                                                                                                                                                                         \n",
      "  100.0     26936321089        2001      13461429.8        12934876        13910847  cudapy::__main__::_numba_lombscargle$241(Array<float, 1, C, mutable, aligned>, Array<float, 1, C, mutable, aligned>, Array<float, 1, C, mutable, aligned>, Array<float, 1, C, mutable, aligned>, Array<float, 1, C, mutable, aligned>)                                                                                                       \n",
      "\n",
      "\n",
      "\n",
      "Generating CUDA Memory Operation Statistics...\n",
      "CUDA Memory Operation Statistics (nanoseconds)\n",
      "\n",
      "Time(%)      Total Time  Operations         Average         Minimum         Maximum  Name                                                                            \n",
      "-------  --------------  ----------  --------------  --------------  --------------  --------------------------------------------------------------------------------\n",
      "  100.0          460594           3        153531.3            1824          456914  [CUDA memcpy HtoD]                                                              \n",
      "\n",
      "\n",
      "CUDA Memory Operation Statistics (KiB)\n",
      "\n",
      "              Total      Operations              Average            Minimum              Maximum  Name                                                                            \n",
      "-------------------  --------------  -------------------  -----------------  -------------------  --------------------------------------------------------------------------------\n",
      "           4109.086               3             1369.695              6.543             4096.000  [CUDA memcpy HtoD]                                                              \n",
      "\n",
      "\n",
      "\n",
      "\n",
      "Generating Operating System Runtime API Statistics...\n",
      "Operating System Runtime API Statistics (nanoseconds)\n",
      "\n",
      "Time(%)      Total Time       Calls         Average         Minimum         Maximum  Name                                                                            \n",
      "-------  --------------  ----------  --------------  --------------  --------------  --------------------------------------------------------------------------------\n",
      "   40.9     29606573107         308      96125237.4           16105       100066565  sem_timedwait                                                                   \n",
      "   40.7     29432473578         307      95871249.4           21568       100121422  poll                                                                            \n",
      "   15.2     11029989683          39     282820248.3       247517658       294785130  pthread_cond_wait                                                               \n",
      "    1.8      1332184439      605430          2200.4            1000        13811941  sched_yield                                                                     \n",
      "    1.2       900713669       15076         59744.9            1005        73854677  ioctl                                                                           \n",
      "    0.0        34388670        1152         29851.3            1008        22461928  read                                                                            \n",
      "    0.0        20570031           1      20570031.0        20570031        20570031  fork                                                                            \n",
      "    0.0        15920217          38        418953.1            6638        14454322  pthread_join                                                                    \n",
      "    0.0         6231128        1072          5812.6            3152           75353  open64                                                                          \n",
      "    0.0         3560022         135         26370.5            2074         1059351  mmap                                                                            \n",
      "    0.0         2187138         236          9267.5            1770           82829  munmap                                                                          \n",
      "    0.0         1800322         391          4604.4            1018          178350  mmap64                                                                          \n",
      "    0.0         1680990          43         39092.8           23365           84938  pthread_create                                                                  \n",
      "    0.0          599179           1        599179.0          599179          599179  waitpid                                                                         \n",
      "    0.0          241934          36          6720.4            1424           80545  fopen                                                                           \n",
      "    0.0          189492           3         63164.0           60736           67588  fgets                                                                           \n",
      "    0.0          168388          52          3238.2            1190            7105  pthread_cond_signal                                                             \n",
      "    0.0          107242           6         17873.7            4003           73441  open                                                                            \n",
      "    0.0           69746          13          5365.1            3074            7103  write                                                                           \n",
      "    0.0           68066          33          2062.6            1143            4192  fclose                                                                          \n",
      "    0.0           38247           7          5463.9            3743            8692  fread                                                                           \n",
      "    0.0           21679          15          1445.3            1000            4887  fcntl                                                                           \n",
      "    0.0           16195           3          5398.3            2904            7146  pipe2                                                                           \n",
      "    0.0           15966           1         15966.0           15966           15966  sem_wait                                                                        \n",
      "    0.0           13698           2          6849.0            4342            9356  socket                                                                          \n",
      "    0.0           10894           3          3631.3            2306            4486  fopen64                                                                         \n",
      "    0.0            9456           1          9456.0            9456            9456  connect                                                                         \n",
      "    0.0            8518           3          2839.3            1546            5218  mprotect                                                                        \n",
      "    0.0            4266           3          1422.0            1142            1728  sigaction                                                                       \n",
      "    0.0            2567           1          2567.0            2567            2567  fputs_unlocked                                                                  \n",
      "    0.0            2096           1          2096.0            2096            2096  bind                                                                            \n",
      "    0.0            1545           1          1545.0            1545            1545  dup                                                                             \n",
      "\n",
      "\n",
      "\n",
      "\n",
      "Generating NVTX Push-Pop Range Statistics...\n",
      "NVTX Push-Pop Range Statistics (nanoseconds)\n",
      "\n",
      "Time(%)      Total Time   Instances         Average         Minimum         Maximum  Range                    \n",
      "-------  --------------  ----------  --------------  --------------  --------------  -------------------------\n",
      "   98.5     28659303620        2000      14329651.8        13602773        29697854  numba_lombscargle_loop   \n",
      "    1.5       432195741           1     432195741.0       432195741       432195741  numba_lombscargle        \n",
      "\n",
      "\n",
      "\n",
      "Report file moved to \"/home/odysseus/workStuff/cusignal-icassp-tutorial/notebooks/numba_cuda/numba_v1.qdrep\"\n",
      "Report file moved to \"/home/odysseus/workStuff/cusignal-icassp-tutorial/notebooks/numba_cuda/numba_v1.sqlite\"\n"
     ]
    }
   ],
   "source": [
    "!nsys profile -s none -o numba_v1 -f true --stats=true python3 icassp_numba_v1.py float32 2000 0"
   ]
  },
  {
   "cell_type": "code",
   "execution_count": 26,
   "metadata": {
    "tags": []
   },
   "outputs": [
    {
     "output_type": "stream",
     "name": "stdout",
     "text": [
      "Using numba_v1.sqlite file for stats and reports.\nExporting [/opt/nvidia/nsight-systems/2020.3.2/target-linux-x64/reports/gpukernsum numba_v1.sqlite] to console... \n\n Time(%)  Total Time (ns)  Instances    Average      Minimum     Maximum                                                    Name                                                \n -------  ---------------  ---------  ------------  ----------  ----------  ----------------------------------------------------------------------------------------------------\n   100.0   26,936,321,089      2,001  13,461,429.8  12,934,876  13,910,847  cudapy::__main__::_numba_lombscargle$241(Array<float, 1, C, mutable, aligned>, Array<float, 1, C, m…\n\nExporting [/opt/nvidia/nsight-systems/2020.3.2/target-linux-x64/reports/nvtxppsum numba_v1.sqlite] to console... \n\n Time(%)  Total Time (ns)  Instances     Average       Minimum      Maximum            Range         \n -------  ---------------  ---------  -------------  -----------  -----------  ----------------------\n    98.5   28,659,303,620      2,000   14,329,651.8   13,602,773   29,697,854  numba_lombscargle_loop\n     1.5      432,195,741          1  432,195,741.0  432,195,741  432,195,741  numba_lombscargle     \n\n"
     ]
    }
   ],
   "source": [
    "#!nsys stats --report gpukernsum --report nvtxppsum --report gputrace numba_v1.qdrep # Use to get register usage\n",
    "!nsys stats --report gpukernsum --report nvtxppsum numba_v1.qdrep"
   ]
  },
  {
   "cell_type": "code",
   "execution_count": 5,
   "metadata": {},
   "outputs": [
    {
     "output_type": "stream",
     "name": "stdout",
     "text": [
      "Warning: LBR backtrace method is not supported on this platform. DWARF backtrace method will be used.\n",
      "WARNING: Backtraces will not be collected because sampling is disabled.\n",
      "Collecting data...\n",
      "Processing events...\n",
      "Capturing symbol files...\n",
      "Saving temporary \"/tmp/nsys-report-bac1-d8e9-c5f0-ca00.qdstrm\" file to disk...\n",
      "Creating final output files...\n",
      "\n",
      "Processing [==============================================================100%]\n",
      "Saved report file to \"/tmp/nsys-report-bac1-d8e9-c5f0-ca00.qdrep\"\n",
      "Report file moved to \"/home/odysseus/workStuff/cusignal-icassp-tutorial/notebooks/numba_cuda/numba_v1.qdrep\"\n"
     ]
    }
   ],
   "source": [
    "!nsys profile -s none -o numba_v1 -f true python3 icassp_numba_v1.py float64 2000 0"
   ]
  },
  {
   "cell_type": "code",
   "execution_count": 24,
   "metadata": {},
   "outputs": [
    {
     "output_type": "stream",
     "name": "stdout",
     "text": [
      "Using numba_v1.sqlite file for stats and reports.\nExporting [/opt/nvidia/nsight-systems/2020.3.2/target-linux-x64/reports/gpukernsum numba_v1.sqlite] to console... \n\n Time(%)  Total Time (ns)  Instances    Average      Minimum     Maximum                                                    Name                                                \n -------  ---------------  ---------  ------------  ----------  ----------  ----------------------------------------------------------------------------------------------------\n   100.0   48,236,551,508      2,001  24,106,222.6  23,710,416  24,651,785  cudapy::__main__::_numba_lombscargle$241(Array<double, 1, C, mutable, aligned>, Array<double, 1, C,…\n\nExporting [/opt/nvidia/nsight-systems/2020.3.2/target-linux-x64/reports/nvtxppsum numba_v1.sqlite] to console... \n\n Time(%)  Total Time (ns)  Instances     Average       Minimum      Maximum            Range         \n -------  ---------------  ---------  -------------  -----------  -----------  ----------------------\n    99.3   59,221,075,631      2,000   29,610,537.8   24,495,922  188,578,440  numba_lombscargle_loop\n     0.7      421,707,595          1  421,707,595.0  421,707,595  421,707,595  numba_lombscargle     \n\n"
     ]
    }
   ],
   "source": [
    "#!nsys stats --report gpukernsum --report nvtxppsum --report gputrace numba_v1.qdrep # Use to get register usage\n",
    "!nsys stats --report gpukernsum --report nvtxppsum numba_v1.qdrep"
   ]
  },
  {
   "source": [
    "### Single Precision\n",
    "|                       | Registers | JIT (ms) | Kernel (ms) | Speed Up |\n",
    "|:----------------------|:----------|:---------|:------------|:---------|\n",
    "| Scipy                 | -         | 50,987.8 | 51,098.9    | 1.0      |\n",
    "| Numba (Baseline)      | 58        | 428.9    | 16.0        | 3193.7   |\n",
    "| Numba (User Cache)    |           |          |             |          |\n",
    "| Numba (Data Type)     |           |          |             |          |\n",
    "| Numba (Fast Math)     |           |          |             |          |\n",
    "| Numba (Max Registers) |           |          |             |          |\n",
    "\n",
    "### Double Precision\n",
    "|                       | Registers | JIT (ms) | Kernel (ms) | Speed Up |\n",
    "|:----------------------|:----------|:---------|:------------|:---------|\n",
    "| Scipy                 | -         | 50,835.6 | 50,879.4    | 1.0      |\n",
    "| Numba (Baseline)      | 66        | 421.7    | 29.6        | 1718.9   |\n",
    "| Numba (User Cache)    |           |          |             |          |\n",
    "| Numba (Data Type)     |           |          |             |          |\n",
    "| Numba (Fast Math)     |           |          |             |          |\n",
    "| Numba (Max Registers) |           |          |             |          |\n"
   ],
   "cell_type": "markdown",
   "metadata": {}
  },
  {
   "source": [
    "## GPU Scenario #2\n",
    "1. Numba implementation of Lombscargle function\n",
    "2. Added user cache"
   ],
   "cell_type": "markdown",
   "metadata": {}
  },
  {
   "cell_type": "code",
   "execution_count": 7,
   "metadata": {},
   "outputs": [
    {
     "output_type": "stream",
     "name": "stdout",
     "text": [
      "Warning: LBR backtrace method is not supported on this platform. DWARF backtrace method will be used.\n",
      "WARNING: Backtraces will not be collected because sampling is disabled.\n",
      "Collecting data...\n",
      "Registers 58\n",
      "Processing events...\n",
      "Capturing symbol files...\n",
      "Saving temporary \"/tmp/nsys-report-87a6-b745-296f-64ab.qdstrm\" file to disk...\n",
      "Creating final output files...\n",
      "\n",
      "Processing [==============================================================100%]\n",
      "Saved report file to \"/tmp/nsys-report-87a6-b745-296f-64ab.qdrep\"\n",
      "Report file moved to \"/home/odysseus/workStuff/cusignal-icassp-tutorial/notebooks/numba_cuda/numba_v2.qdrep\"\n"
     ]
    }
   ],
   "source": [
    "!nsys profile -s none -o numba_v2 -f true python3 icassp_numba_v2.py float32 2000 0"
   ]
  },
  {
   "cell_type": "code",
   "execution_count": 8,
   "metadata": {},
   "outputs": [
    {
     "output_type": "stream",
     "name": "stdout",
     "text": [
      "Generate SQLite file numba_v2.sqlite from numba_v2.qdrep\n",
      "Exporting 671562 events: [================================================100%]\n",
      "Using numba_v2.sqlite file for stats and reports.\n",
      "Exporting [/opt/nvidia/nsight-systems/2020.3.2/target-linux-x64/reports/gpukernsum numba_v2.sqlite] to console... \n",
      "\n",
      " Time(%)  Total Time (ns)  Instances    Average      Minimum     Maximum                                                    Name                                                \n",
      " -------  ---------------  ---------  ------------  ----------  ----------  ----------------------------------------------------------------------------------------------------\n",
      "   100.0   26,938,606,241      2,001  13,462,571.8  12,937,632  13,917,369  cudapy::__main__::_numba_lombscargle$241(Array<float, 1, C, mutable, aligned>, Array<float, 1, C, m…\n",
      "\n",
      "Exporting [/opt/nvidia/nsight-systems/2020.3.2/target-linux-x64/reports/nvtxppsum numba_v2.sqlite] to console... \n",
      "\n",
      " Time(%)  Total Time (ns)  Instances     Average       Minimum      Maximum            Range         \n",
      " -------  ---------------  ---------  -------------  -----------  -----------  ----------------------\n",
      "    98.7   32,231,612,773      2,000   16,115,806.4   13,613,140  173,675,632  numba_lombscargle_loop\n",
      "     1.3      431,603,358          1  431,603,358.0  431,603,358  431,603,358  numba_lombscargle     \n",
      "\n"
     ]
    }
   ],
   "source": [
    "!nsys stats --report gpukernsum --report nvtxppsum numba_v2.qdrep"
   ]
  },
  {
   "cell_type": "code",
   "execution_count": 9,
   "metadata": {},
   "outputs": [
    {
     "output_type": "stream",
     "name": "stdout",
     "text": [
      "Warning: LBR backtrace method is not supported on this platform. DWARF backtrace method will be used.\n",
      "WARNING: Backtraces will not be collected because sampling is disabled.\n",
      "Collecting data...\n",
      "Registers 66\n",
      "Processing events...\n",
      "Capturing symbol files...\n",
      "Saving temporary \"/tmp/nsys-report-8259-15d6-063a-21a2.qdstrm\" file to disk...\n",
      "Creating final output files...\n",
      "\n",
      "Processing [==============================================================100%]\n",
      "Saved report file to \"/tmp/nsys-report-8259-15d6-063a-21a2.qdrep\"\n",
      "Report file moved to \"/home/odysseus/workStuff/cusignal-icassp-tutorial/notebooks/numba_cuda/numba_v2.qdrep\"\n"
     ]
    }
   ],
   "source": [
    "!nsys profile -s none -o numba_v2 -f true python3 icassp_numba_v2.py float64 2000 0"
   ]
  },
  {
   "cell_type": "code",
   "execution_count": 10,
   "metadata": {},
   "outputs": [
    {
     "output_type": "stream",
     "name": "stdout",
     "text": [
      "Generate SQLite file numba_v2.sqlite from numba_v2.qdrep\n",
      "Exporting 658432 events: [================================================100%]\n",
      "Using numba_v2.sqlite file for stats and reports.\n",
      "Exporting [/opt/nvidia/nsight-systems/2020.3.2/target-linux-x64/reports/gpukernsum numba_v2.sqlite] to console... \n",
      "\n",
      " Time(%)  Total Time (ns)  Instances    Average      Minimum     Maximum                                                    Name                                                \n",
      " -------  ---------------  ---------  ------------  ----------  ----------  ----------------------------------------------------------------------------------------------------\n",
      "   100.0   48,309,187,858      2,001  24,142,522.7  23,753,620  24,700,429  cudapy::__main__::_numba_lombscargle$241(Array<double, 1, C, mutable, aligned>, Array<double, 1, C,…\n",
      "\n",
      "Exporting [/opt/nvidia/nsight-systems/2020.3.2/target-linux-x64/reports/nvtxppsum numba_v2.sqlite] to console... \n",
      "\n",
      " Time(%)  Total Time (ns)  Instances     Average       Minimum      Maximum            Range         \n",
      " -------  ---------------  ---------  -------------  -----------  -----------  ----------------------\n",
      "    99.3   58,865,325,236      2,000   29,432,662.6   24,441,874  200,413,304  numba_lombscargle_loop\n",
      "     0.7      428,512,436          1  428,512,436.0  428,512,436  428,512,436  numba_lombscargle     \n",
      "\n"
     ]
    }
   ],
   "source": [
    "!nsys stats --report gpukernsum --report nvtxppsum numba_v2.qdrep"
   ]
  },
  {
   "source": [
    "### Single Precision\n",
    "|                       | Registers | JIT (ms) | Kernel (ms) | Speed Up |\n",
    "|:----------------------|:----------|:---------|:------------|:---------|\n",
    "| Scipy                 | -         | 50,987.8 | 51,098.9    | 1.0      |\n",
    "| Numba (Baseline)      | 58        | 428.9    | 16.0        | 3193.7   |\n",
    "| Numba (User Cache)    | 58        | 431.6    | 16.1        | 3173.8   |\n",
    "| Numba (Data Type)     |           |          |             |          |\n",
    "| Numba (Fast Math)     |           |          |             |          |\n",
    "| Numba (Max Registers) |           |          |             |          |\n",
    "\n",
    "### Double Precision\n",
    "|                       | Registers | JIT (ms) | Kernel (ms) | Speed Up |\n",
    "|:----------------------|:----------|:---------|:------------|:---------|\n",
    "| Scipy                 | -         | 50,835.6 | 50,879.4    | 1.0      |\n",
    "| Numba (Baseline)      | 66        | 421.7    | 29.6        | 1718.9   |\n",
    "| Numba (User Cache)    | 66        | 428.5    | 29.4        | 1730.6   |\n",
    "| Numba (Data Type)     |           |          |             |          |\n",
    "| Numba (Fast Math)     |           |          |             |          |\n",
    "| Numba (Max Registers) |           |          |             |          |"
   ],
   "cell_type": "markdown",
   "metadata": {}
  },
  {
   "source": [
    "## GPU Scenario #2\n",
    "1. Numba implementation of Lombscargle function\n",
    "2. Added user cache\n",
    "3. Specific functions per data type"
   ],
   "cell_type": "markdown",
   "metadata": {}
  },
  {
   "cell_type": "code",
   "execution_count": 11,
   "metadata": {},
   "outputs": [
    {
     "output_type": "stream",
     "name": "stdout",
     "text": [
      "Warning: LBR backtrace method is not supported on this platform. DWARF backtrace method will be used.\n",
      "WARNING: Backtraces will not be collected because sampling is disabled.\n",
      "Collecting data...\n",
      "Registers 40\n",
      "Processing events...\n",
      "Capturing symbol files...\n",
      "Saving temporary \"/tmp/nsys-report-bb3d-8f2e-706d-93ed.qdstrm\" file to disk...\n",
      "Creating final output files...\n",
      "\n",
      "Processing [==============================================================100%]\n",
      "Saved report file to \"/tmp/nsys-report-bb3d-8f2e-706d-93ed.qdrep\"\n",
      "Report file moved to \"/home/odysseus/workStuff/cusignal-icassp-tutorial/notebooks/numba_cuda/numba_v3.qdrep\"\n"
     ]
    }
   ],
   "source": [
    "!nsys profile -s none -o numba_v3 -f true python3 icassp_numba_v3.py float32 2000 0"
   ]
  },
  {
   "cell_type": "code",
   "execution_count": 12,
   "metadata": {},
   "outputs": [
    {
     "output_type": "stream",
     "name": "stdout",
     "text": [
      "Generate SQLite file numba_v3.sqlite from numba_v3.qdrep\n",
      "Exporting 643958 events: [================================================100%]\n",
      "Using numba_v3.sqlite file for stats and reports.\n",
      "Exporting [/opt/nvidia/nsight-systems/2020.3.2/target-linux-x64/reports/gpukernsum numba_v3.sqlite] to console... \n",
      "\n",
      " Time(%)  Total Time (ns)  Instances    Average      Minimum     Maximum                                                    Name                                                \n",
      " -------  ---------------  ---------  ------------  ----------  ----------  ----------------------------------------------------------------------------------------------------\n",
      "   100.0   21,986,311,249      2,001  10,987,661.8  10,662,568  11,625,737  cudapy::__main__::_numba_lombscargle_32$241(Array<float, 1, C, mutable, aligned>, Array<float, 1, C…\n",
      "\n",
      "Exporting [/opt/nvidia/nsight-systems/2020.3.2/target-linux-x64/reports/nvtxppsum numba_v3.sqlite] to console... \n",
      "\n",
      " Time(%)  Total Time (ns)  Instances     Average       Minimum      Maximum            Range         \n",
      " -------  ---------------  ---------  -------------  -----------  -----------  ----------------------\n",
      "    98.0   26,538,818,896      2,000   13,269,409.4   11,321,297  154,382,189  numba_lombscargle_loop\n",
      "     2.0      554,922,121          1  554,922,121.0  554,922,121  554,922,121  numba_lombscargle     \n",
      "\n"
     ]
    }
   ],
   "source": [
    "!nsys stats --report gpukernsum --report nvtxppsum numba_v3.qdrep"
   ]
  },
  {
   "cell_type": "code",
   "execution_count": 13,
   "metadata": {},
   "outputs": [
    {
     "output_type": "stream",
     "name": "stdout",
     "text": [
      "Warning: LBR backtrace method is not supported on this platform. DWARF backtrace method will be used.\n",
      "WARNING: Backtraces will not be collected because sampling is disabled.\n",
      "Collecting data...\n",
      "Registers 58\n",
      "Processing events...\n",
      "Capturing symbol files...\n",
      "Saving temporary \"/tmp/nsys-report-6ad0-adce-2a47-6514.qdstrm\" file to disk...\n",
      "Creating final output files...\n",
      "\n",
      "Processing [==============================================================100%]\n",
      "Saved report file to \"/tmp/nsys-report-6ad0-adce-2a47-6514.qdrep\"\n",
      "Report file moved to \"/home/odysseus/workStuff/cusignal-icassp-tutorial/notebooks/numba_cuda/numba_v3.qdrep\"\n"
     ]
    }
   ],
   "source": [
    "!nsys profile -s none -o numba_v3 -f true python3 icassp_numba_v3.py float64 2000 0"
   ]
  },
  {
   "cell_type": "code",
   "execution_count": 14,
   "metadata": {},
   "outputs": [
    {
     "output_type": "stream",
     "name": "stdout",
     "text": [
      "Generate SQLite file numba_v3.sqlite from numba_v3.qdrep\n",
      "Exporting 684019 events: [================================================100%]\n",
      "Using numba_v3.sqlite file for stats and reports.\n",
      "Exporting [/opt/nvidia/nsight-systems/2020.3.2/target-linux-x64/reports/gpukernsum numba_v3.sqlite] to console... \n",
      "\n",
      " Time(%)  Total Time (ns)  Instances    Average      Minimum     Maximum                                                    Name                                                \n",
      " -------  ---------------  ---------  ------------  ----------  ----------  ----------------------------------------------------------------------------------------------------\n",
      "   100.0   49,150,959,951      2,001  24,563,198.4  24,225,039  25,094,502  cudapy::__main__::_numba_lombscargle_64$241(Array<double, 1, C, mutable, aligned>, Array<double, 1,…\n",
      "\n",
      "Exporting [/opt/nvidia/nsight-systems/2020.3.2/target-linux-x64/reports/nvtxppsum numba_v3.sqlite] to console... \n",
      "\n",
      " Time(%)  Total Time (ns)  Instances     Average       Minimum      Maximum            Range         \n",
      " -------  ---------------  ---------  -------------  -----------  -----------  ----------------------\n",
      "    99.3   58,384,403,925      2,000   29,192,202.0   24,910,678  188,985,205  numba_lombscargle_loop\n",
      "     0.7      428,869,411          1  428,869,411.0  428,869,411  428,869,411  numba_lombscargle     \n",
      "\n"
     ]
    }
   ],
   "source": [
    "!nsys stats --report gpukernsum --report nvtxppsum numba_v3.qdrep"
   ]
  },
  {
   "source": [
    "### Single Precision\n",
    "|                       | Registers | JIT (ms) | Kernel (ms) | Speed Up |\n",
    "|:----------------------|:----------|:---------|:------------|:---------|\n",
    "| Scipy                 | -         | 50,987.8 | 51,098.9    | 1.0      |\n",
    "| Numba (Baseline)      | 58        | 428.9    | 16.0        | 3193.7   |\n",
    "| Numba (User Cache)    | 58        | 431.6    | 16.1        | 3173.8   |\n",
    "| Numba (Data Type)     | 40        | 554.9    | 13.3        | 3842.0   |\n",
    "| Numba (Fast Math)     |           |          |             |          |\n",
    "| Numba (Max Registers) |           |          |             |          |\n",
    "\n",
    "### Double Precision\n",
    "|                       | Registers | JIT (ms) | Kernel (ms) | Speed Up |\n",
    "|:----------------------|:----------|:---------|:------------|:---------|\n",
    "| Scipy                 | -         | 50,835.6 | 50,879.4    | 1.0      |\n",
    "| Numba (Baseline)      | 66        | 421.7    | 29.6        | 1718.9   |\n",
    "| Numba (User Cache)    | 66        | 428.5    | 29.4        | 1730.6   |\n",
    "| Numba (Data Type)     | 58        | 428.9    | 29.2        | 1742.4   |\n",
    "| Numba (Fast Math)     |           |          |             |          |\n",
    "| Numba (Max Registers) |           |          |             |          |"
   ],
   "cell_type": "markdown",
   "metadata": {}
  },
  {
   "source": [
    "## GPU Scenario #4\n",
    "1. Numba implementation of Lombscargle function\n",
    "2. Added user cache\n",
    "3. Specific functions per data type\n",
    "4. Utilize fast_math compiler flag"
   ],
   "cell_type": "markdown",
   "metadata": {}
  },
  {
   "cell_type": "code",
   "execution_count": 15,
   "metadata": {},
   "outputs": [
    {
     "output_type": "stream",
     "name": "stdout",
     "text": [
      "Warning: LBR backtrace method is not supported on this platform. DWARF backtrace method will be used.\n",
      "WARNING: Backtraces will not be collected because sampling is disabled.\n",
      "Collecting data...\n",
      "Registers 35\n",
      "Processing events...\n",
      "Capturing symbol files...\n",
      "Saving temporary \"/tmp/nsys-report-f0fe-5681-a7b8-fdd2.qdstrm\" file to disk...\n",
      "Creating final output files...\n",
      "\n",
      "Processing [==============================================================100%]\n",
      "Saved report file to \"/tmp/nsys-report-f0fe-5681-a7b8-fdd2.qdrep\"\n",
      "Report file moved to \"/home/odysseus/workStuff/cusignal-icassp-tutorial/notebooks/numba_cuda/numba_v4.qdrep\"\n"
     ]
    }
   ],
   "source": [
    "!nsys profile -s none -o numba_v4 -f true python3 icassp_numba_v4.py float32 2000 0"
   ]
  },
  {
   "cell_type": "code",
   "execution_count": 16,
   "metadata": {},
   "outputs": [
    {
     "output_type": "stream",
     "name": "stdout",
     "text": [
      "Generate SQLite file numba_v4.sqlite from numba_v4.qdrep\n",
      "Exporting 650576 events: [================================================100%]\n",
      "Using numba_v4.sqlite file for stats and reports.\n",
      "Exporting [/opt/nvidia/nsight-systems/2020.3.2/target-linux-x64/reports/gpukernsum numba_v4.sqlite] to console... \n",
      "\n",
      " Time(%)  Total Time (ns)  Instances    Average      Minimum     Maximum                                                    Name                                                \n",
      " -------  ---------------  ---------  ------------  ----------  ----------  ----------------------------------------------------------------------------------------------------\n",
      "   100.0   21,833,987,035      2,001  10,911,537.7  10,654,788  11,627,481  cudapy::__main__::_numba_lombscargle_32$241(Array<float, 1, C, mutable, aligned>, Array<float, 1, C…\n",
      "\n",
      "Exporting [/opt/nvidia/nsight-systems/2020.3.2/target-linux-x64/reports/nvtxppsum numba_v4.sqlite] to console... \n",
      "\n",
      " Time(%)  Total Time (ns)  Instances     Average       Minimum      Maximum            Range         \n",
      " -------  ---------------  ---------  -------------  -----------  -----------  ----------------------\n",
      "    98.3   26,254,256,996      2,000   13,127,128.5   11,307,432  155,932,608  numba_lombscargle_loop\n",
      "     1.7      442,916,200          1  442,916,200.0  442,916,200  442,916,200  numba_lombscargle     \n",
      "\n"
     ]
    }
   ],
   "source": [
    "!nsys stats --report gpukernsum --report nvtxppsum numba_v4.qdrep"
   ]
  },
  {
   "cell_type": "code",
   "execution_count": 17,
   "metadata": {},
   "outputs": [
    {
     "output_type": "stream",
     "name": "stdout",
     "text": [
      "Warning: LBR backtrace method is not supported on this platform. DWARF backtrace method will be used.\n",
      "WARNING: Backtraces will not be collected because sampling is disabled.\n",
      "Collecting data...\n",
      "Registers 58\n",
      "Processing events...\n",
      "Capturing symbol files...\n",
      "Saving temporary \"/tmp/nsys-report-3755-a54e-ffc3-2b74.qdstrm\" file to disk...\n",
      "Creating final output files...\n",
      "\n",
      "Processing [==============================================================100%]\n",
      "Saved report file to \"/tmp/nsys-report-3755-a54e-ffc3-2b74.qdrep\"\n",
      "Report file moved to \"/home/odysseus/workStuff/cusignal-icassp-tutorial/notebooks/numba_cuda/numba_v4.qdrep\"\n"
     ]
    }
   ],
   "source": [
    "!nsys profile -s none -o numba_v4 -f true python3 icassp_numba_v4.py float64 2000 0"
   ]
  },
  {
   "cell_type": "code",
   "execution_count": 18,
   "metadata": {},
   "outputs": [
    {
     "output_type": "stream",
     "name": "stdout",
     "text": [
      "Generate SQLite file numba_v4.sqlite from numba_v4.qdrep\n",
      "Exporting 658868 events: [================================================100%]\n",
      "Using numba_v4.sqlite file for stats and reports.\n",
      "Exporting [/opt/nvidia/nsight-systems/2020.3.2/target-linux-x64/reports/gpukernsum numba_v4.sqlite] to console... \n",
      "\n",
      " Time(%)  Total Time (ns)  Instances    Average      Minimum     Maximum                                                    Name                                                \n",
      " -------  ---------------  ---------  ------------  ----------  ----------  ----------------------------------------------------------------------------------------------------\n",
      "   100.0   49,132,940,772      2,001  24,554,193.3  24,238,526  25,088,077  cudapy::__main__::_numba_lombscargle_64$241(Array<double, 1, C, mutable, aligned>, Array<double, 1,…\n",
      "\n",
      "Exporting [/opt/nvidia/nsight-systems/2020.3.2/target-linux-x64/reports/nvtxppsum numba_v4.sqlite] to console... \n",
      "\n",
      " Time(%)  Total Time (ns)  Instances     Average       Minimum      Maximum            Range         \n",
      " -------  ---------------  ---------  -------------  -----------  -----------  ----------------------\n",
      "    99.1   58,227,597,901      2,000   29,113,799.0   24,965,370  186,415,411  numba_lombscargle_loop\n",
      "     0.9      507,316,972          1  507,316,972.0  507,316,972  507,316,972  numba_lombscargle     \n",
      "\n"
     ]
    }
   ],
   "source": [
    "!nsys stats --report gpukernsum --report nvtxppsum numba_v4.qdrep"
   ]
  },
  {
   "source": [
    "### Single Precision\n",
    "|                       | Registers | JIT (ms) | Kernel (ms) | Speed Up |\n",
    "|:----------------------|:----------|:---------|:------------|:---------|\n",
    "| Scipy                 | -         | 50,987.8 | 51,098.9    | 1.0      |\n",
    "| Numba (Baseline)      | 58        | 428.9    | 16.0        | 3193.7   |\n",
    "| Numba (User Cache)    | 58        | 431.6    | 16.1        | 3173.8   |\n",
    "| Numba (Data Type)     | 40        | 554.9    | 13.3        | 3842.0   |\n",
    "| Numba (Fast Math)     | 35        | 442.9    | 13.1        | 3900.7   |\n",
    "| Numba (Max Registers) |           |          |             |          |\n",
    "\n",
    "### Double Precision\n",
    "|                       | Registers | JIT (ms) | Kernel (ms) | Speed Up |\n",
    "|:----------------------|:----------|:---------|:------------|:---------|\n",
    "| Scipy                 | -         | 50,835.6 | 50,879.4    | 1.0      |\n",
    "| Numba (Baseline)      | 66        | 421.7    | 29.6        | 1718.9   |\n",
    "| Numba (User Cache)    | 66        | 428.5    | 29.4        | 1730.6   |\n",
    "| Numba (Data Type)     | 58        | 428.9    | 29.2        | 1742.4   |\n",
    "| Numba (Fast Math)     | 58        | 507.3    | 29.1        | 1748.4   |\n",
    "| Numba (Max Registers) |           |          |             |          |"
   ],
   "cell_type": "markdown",
   "metadata": {}
  },
  {
   "source": [
    "# GPU Scenario #5\n",
    "1. Numba implementation of Lombscargle function\n",
    "2. Added user cache\n",
    "3. Specific functions per data type\n",
    "4. Utilize fast_math compiler flag\n",
    "5. Utilize max registers compiler switch\n"
   ],
   "cell_type": "markdown",
   "metadata": {}
  },
  {
   "cell_type": "code",
   "execution_count": 19,
   "metadata": {},
   "outputs": [
    {
     "output_type": "stream",
     "name": "stdout",
     "text": [
      "Warning: LBR backtrace method is not supported on this platform. DWARF backtrace method will be used.\n",
      "WARNING: Backtraces will not be collected because sampling is disabled.\n",
      "Collecting data...\n",
      "Registers 32\n",
      "Processing events...\n",
      "Capturing symbol files...\n",
      "Saving temporary \"/tmp/nsys-report-bb66-6096-236e-7cf1.qdstrm\" file to disk...\n",
      "Creating final output files...\n",
      "\n",
      "Processing [==============================================================100%]\n",
      "Saved report file to \"/tmp/nsys-report-bb66-6096-236e-7cf1.qdrep\"\n",
      "Report file moved to \"/home/odysseus/workStuff/cusignal-icassp-tutorial/notebooks/numba_cuda/numba_v5.qdrep\"\n"
     ]
    }
   ],
   "source": [
    "!nsys profile -s none -o numba_v5 -f true python3 icassp_numba_v5.py float32 2000 0"
   ]
  },
  {
   "cell_type": "code",
   "execution_count": 20,
   "metadata": {},
   "outputs": [
    {
     "output_type": "stream",
     "name": "stdout",
     "text": [
      "Generate SQLite file numba_v5.sqlite from numba_v5.qdrep\n",
      "Exporting 646215 events: [================================================100%]\n",
      "Using numba_v5.sqlite file for stats and reports.\n",
      "Exporting [/opt/nvidia/nsight-systems/2020.3.2/target-linux-x64/reports/gpukernsum numba_v5.sqlite] to console... \n",
      "\n",
      " Time(%)  Total Time (ns)  Instances    Average      Minimum     Maximum                                                    Name                                                \n",
      " -------  ---------------  ---------  ------------  ----------  ----------  ----------------------------------------------------------------------------------------------------\n",
      "   100.0   21,766,059,664      2,001  10,877,591.0  10,504,531  11,299,774  cudapy::__main__::_numba_lombscargle_32$241(Array<float, 1, C, mutable, aligned>, Array<float, 1, C…\n",
      "\n",
      "Exporting [/opt/nvidia/nsight-systems/2020.3.2/target-linux-x64/reports/nvtxppsum numba_v5.sqlite] to console... \n",
      "\n",
      " Time(%)  Total Time (ns)  Instances     Average       Minimum      Maximum            Range         \n",
      " -------  ---------------  ---------  -------------  -----------  -----------  ----------------------\n",
      "    98.3   26,153,806,093      2,000   13,076,903.0   11,159,930  153,020,903  numba_lombscargle_loop\n",
      "     1.7      439,367,954          1  439,367,954.0  439,367,954  439,367,954  numba_lombscargle     \n",
      "\n"
     ]
    }
   ],
   "source": [
    "!nsys stats --report gpukernsum --report nvtxppsum numba_v5.qdrep"
   ]
  },
  {
   "cell_type": "code",
   "execution_count": 21,
   "metadata": {},
   "outputs": [
    {
     "output_type": "stream",
     "name": "stdout",
     "text": [
      "Warning: LBR backtrace method is not supported on this platform. DWARF backtrace method will be used.\n",
      "WARNING: Backtraces will not be collected because sampling is disabled.\n",
      "Collecting data...\n",
      "Registers 62\n",
      "Processing events...\n",
      "Capturing symbol files...\n",
      "Saving temporary \"/tmp/nsys-report-e5d8-249e-d8a1-b58e.qdstrm\" file to disk...\n",
      "Creating final output files...\n",
      "\n",
      "Processing [==============================================================100%]\n",
      "Saved report file to \"/tmp/nsys-report-e5d8-249e-d8a1-b58e.qdrep\"\n",
      "Report file moved to \"/home/odysseus/workStuff/cusignal-icassp-tutorial/notebooks/numba_cuda/numba_v5.qdrep\"\n"
     ]
    }
   ],
   "source": [
    "!nsys profile -s none -o numba_v5 -f true python3 icassp_numba_v5.py float64 2000 0"
   ]
  },
  {
   "cell_type": "code",
   "execution_count": 22,
   "metadata": {},
   "outputs": [
    {
     "output_type": "stream",
     "name": "stdout",
     "text": [
      "Generate SQLite file numba_v5.sqlite from numba_v5.qdrep\n",
      "Exporting 671734 events: [================================================100%]\n",
      "Using numba_v5.sqlite file for stats and reports.\n",
      "Exporting [/opt/nvidia/nsight-systems/2020.3.2/target-linux-x64/reports/gpukernsum numba_v5.sqlite] to console... \n",
      "\n",
      " Time(%)  Total Time (ns)  Instances    Average      Minimum     Maximum                                                    Name                                                \n",
      " -------  ---------------  ---------  ------------  ----------  ----------  ----------------------------------------------------------------------------------------------------\n",
      "   100.0   49,694,294,409      2,001  24,834,729.8  24,419,562  25,362,804  cudapy::__main__::_numba_lombscargle_64$241(Array<double, 1, C, mutable, aligned>, Array<double, 1,…\n",
      "\n",
      "Exporting [/opt/nvidia/nsight-systems/2020.3.2/target-linux-x64/reports/nvtxppsum numba_v5.sqlite] to console... \n",
      "\n",
      " Time(%)  Total Time (ns)  Instances     Average       Minimum      Maximum            Range         \n",
      " -------  ---------------  ---------  -------------  -----------  -----------  ----------------------\n",
      "    99.2   59,052,106,023      2,000   29,526,053.0   25,143,021  187,396,288  numba_lombscargle_loop\n",
      "     0.8      449,186,617          1  449,186,617.0  449,186,617  449,186,617  numba_lombscargle     \n",
      "\n"
     ]
    }
   ],
   "source": [
    "!nsys stats --report gpukernsum --report nvtxppsum numba_v5.qdrep"
   ]
  },
  {
   "source": [
    "### Single Precision\n",
    "|                       | Registers | JIT (ms) | Kernel (ms) | Speed Up |\n",
    "|:----------------------|:----------|:---------|:------------|:---------|\n",
    "| Scipy                 | -         | 50,987.8 | 51,098.9    | 1.0      |\n",
    "| Numba (Baseline)      | 58        | 428.9    | 16.0        | 3193.7   |\n",
    "| Numba (User Cache)    | 58        | 431.6    | 16.1        | 3173.8   |\n",
    "| Numba (Data Type)     | 40        | 554.9    | 13.3        | 3842.0   |\n",
    "| Numba (Fast Math)     | 35        | 442.9    | 13.1        | 3900.7   |\n",
    "| Numba (Max Registers) | 32        | 439.4    | 13.1        | 3900.7   |\n",
    "\n",
    "### Double Precision\n",
    "|                       | Registers | JIT (ms) | Kernel (ms) | Speed Up |\n",
    "|:----------------------|:----------|:---------|:------------|:---------|\n",
    "| Scipy                 | -         | 50,835.6 | 50,879.4    | 1.0      |\n",
    "| Numba (Baseline)      | 66        | 421.7    | 29.6        | 1718.9   |\n",
    "| Numba (User Cache)    | 66        | 428.5    | 29.4        | 1730.6   |\n",
    "| Numba (Data Type)     | 58        | 428.9    | 29.2        | 1742.4   |\n",
    "| Numba (Fast Math)     | 58        | 507.3    | 29.1        | 1748.4   |\n",
    "| Numba (Max Registers) | 62        | 449.2    | 29.5        | 1724.7   |"
   ],
   "cell_type": "markdown",
   "metadata": {}
  }
 ],
 "metadata": {
  "kernelspec": {
   "name": "cusignal2",
   "display_name": "cusignal2",
   "language": "python"
  },
  "metadata": {
   "interpreter": {
    "hash": "77515a835a6d03ede03a66fc7b5daab9e4030bb6d48be88f06bce96af54be83e"
   }
  }
 },
 "nbformat": 4,
 "nbformat_minor": 4
}