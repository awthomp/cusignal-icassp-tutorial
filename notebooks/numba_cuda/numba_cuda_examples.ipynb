{
 "cells": [
  {
   "source": [
    "### CPU Baseline\n",
    "Baseline Scipy's Signal Lombscargle function"
   ],
   "cell_type": "markdown",
   "metadata": {}
  },
  {
   "cell_type": "code",
   "execution_count": null,
   "metadata": {},
   "outputs": [],
   "source": [
    "!nsys profile -s none -o scipy_v1 -f true --stats=true python3 icassp_scipy_v1.py float32 5"
   ]
  },
  {
   "cell_type": "code",
   "execution_count": null,
   "metadata": {},
   "outputs": [],
   "source": [
    "!nsys profile -s none -o scipy_v1 -f true --stats=true python3 icassp_scipy_v1.py float64 5"
   ]
  },
  {
   "source": [
    "### Single Precision\n",
    "|                       | Registers | JIT (ms) | Kernel (ms) | Speed Up |\n",
    "|:----------------------|:----------|:---------|:------------|:---------|\n",
    "| Scipy                 | -         | 3,472.8  | 3,469.3     | 1.0      |\n",
    "| Numba (Baseline)      |           |          |             |          |\n",
    "| Numba (User Cache)    |           |          |             |          |\n",
    "| Numba (Data Type)     |           |          |             |          |\n",
    "| Numba (Fast Math)     |           |          |             |          |\n",
    "| Numba (Max Registers) |           |          |             |          |\n",
    "\n",
    "### Double Precision\n",
    "|                       | Registers | JIT (ms) | Kernel (ms) | Speed Up |\n",
    "|:----------------------|:----------|:---------|:------------|:---------|\n",
    "| Scipy                 | -         | 3,470.9  | 3,470.3     | 1.0      |\n",
    "| Numba (Baseline)      |           |          |             |          |\n",
    "| Numba (User Cache)    |           |          |             |          |\n",
    "| Numba (Data Type)     |           |          |             |          |\n",
    "| Numba (Fast Math)     |           |          |             |          |\n",
    "| Numba (Max Registers) |           |          |             |          |"
   ],
   "cell_type": "markdown",
   "metadata": {}
  },
  {
   "cell_type": "code",
   "execution_count": null,
   "metadata": {},
   "outputs": [],
   "source": [
    "### GPU Scenario #1\n",
    "1. Numba implementation of Lombscargle function"
   ]
  },
  {
   "cell_type": "code",
   "execution_count": null,
   "metadata": {},
   "outputs": [],
   "source": [
    "!nsys profile -s none -o numba_v1 -f true --stats=true python3 icassp_numba_v1.py float32 2000 0"
   ]
  },
  {
   "cell_type": "code",
   "execution_count": null,
   "metadata": {
    "tags": []
   },
   "outputs": [],
   "source": [
    "!nsys stats --report gpukernsum --report nvtxppsum --report gputrace numba_v1.qdrep"
   ]
  },
  {
   "cell_type": "code",
   "execution_count": null,
   "metadata": {},
   "outputs": [],
   "source": [
    "!nsys profile -s none -o numba_v1 -f true python3 icassp_numba_v1.py float64 2000 0"
   ]
  },
  {
   "cell_type": "code",
   "execution_count": null,
   "metadata": {},
   "outputs": [],
   "source": [
    "!nsys stats --report gpukernsum --report nvtxppsum --report gputrace numba_v1.qdrep"
   ]
  },
  {
   "source": [
    "### Single Precision\n",
    "|                       | Registers | JIT (ms) | Kernel (ms) | Speed Up |\n",
    "|:----------------------|:----------|:---------|:------------|:---------|\n",
    "| Scipy                 | -         | 3,472.8  | 3,469.3     | 1.0      |\n",
    "| Numba (Baseline)      |           | 440.9    | 2.3         | 1508.4   |\n",
    "| Numba (User Cache)    |           |          |             |          |\n",
    "| Numba (Data Type)     |           |          |             |          |\n",
    "| Numba (Fast Math)     |           |          |             |          |\n",
    "| Numba (Max Registers) |           |          |             |          |\n",
    "\n",
    "### Double Precision\n",
    "|                       | Registers | JIT (ms) | Kernel (ms) | Speed Up |\n",
    "|:----------------------|:----------|:---------|:------------|:---------|\n",
    "| Scipy                 | -         | 3,470.9  | 3,470.3     | 1.0      |\n",
    "| Numba (Baseline)      |           | 410.4    | 3.2         | 1084.4   |\n",
    "| Numba (User Cache)    |           |          |             |          |\n",
    "| Numba (Data Type)     |           |          |             |          |\n",
    "| Numba (Fast Math)     |           |          |             |          |\n",
    "| Numba (Max Registers) |           |          |             |          |\n"
   ],
   "cell_type": "markdown",
   "metadata": {}
  },
  {
   "cell_type": "code",
   "execution_count": null,
   "metadata": {},
   "outputs": [],
   "source": [
    "### GPU Scenario #2\n",
    "1. Numba implementation of Lombscargle function\n",
    "2. Added user cache"
   ]
  },
  {
   "cell_type": "code",
   "execution_count": null,
   "metadata": {},
   "outputs": [],
   "source": [
    "!nsys profile -s none -o numba_v2 -f true python3 icassp_numba_v2.py float32 2000 0"
   ]
  },
  {
   "cell_type": "code",
   "execution_count": null,
   "metadata": {},
   "outputs": [],
   "source": [
    "!nsys stats --report gpukernsum --report nvtxppsum numba_v2.qdrep"
   ]
  },
  {
   "cell_type": "code",
   "execution_count": null,
   "metadata": {},
   "outputs": [],
   "source": [
    "!nsys profile -s none -o numba_v2 -f true python3 icassp_numba_v2.py float64 2000 0"
   ]
  },
  {
   "cell_type": "code",
   "execution_count": null,
   "metadata": {},
   "outputs": [],
   "source": [
    "!nsys stats --report gpukernsum --report nvtxppsum numba_v2.qdrep"
   ]
  },
  {
   "source": [
    "### Single Precision\n",
    "|                       | Registers | JIT (ms) | Kernel (ms) | Speed Up |\n",
    "|:----------------------|:----------|:---------|:------------|:---------|\n",
    "| Scipy                 | -         | 3,472.8  | 3,469.3     | 1.0      |\n",
    "| Numba (Baseline)      |           | 440.9    | 2.3         | 1508.4   |\n",
    "| Numba (User Cache)    | 58        | 411.6    | 2.3         | 1508.4   |\n",
    "| Numba (Data Type)     |           |          |             |          |\n",
    "| Numba (Fast Math)     |           |          |             |          |\n",
    "| Numba (Max Registers) |           |          |             |          |\n",
    "\n",
    "### Double Precision\n",
    "|                       | Registers | JIT (ms) | Kernel (ms) | Speed Up |\n",
    "|:----------------------|:----------|:---------|:------------|:---------|\n",
    "| Scipy                 | -         | 3,470.9  | 3,470.3     | 1.0      |\n",
    "| Numba (Baseline)      | 66        | 410.4    | 3.2         | 1084.4   |\n",
    "| Numba (User Cache)    | 66        | 410.1    | 3.2         | 1084.4   |\n",
    "| Numba (Data Type)     |           |          |             |          |\n",
    "| Numba (Fast Math)     |           |          |             |          |\n",
    "| Numba (Max Registers) |           |          |             |          |"
   ],
   "cell_type": "markdown",
   "metadata": {}
  },
  {
   "source": [
    "### GPU Scenario #2\n",
    "1. Numba implementation of Lombscargle function\n",
    "2. Added user cache\n",
    "3. Specific functions per data type"
   ],
   "cell_type": "markdown",
   "metadata": {}
  },
  {
   "cell_type": "code",
   "execution_count": null,
   "metadata": {},
   "outputs": [],
   "source": [
    "!nsys profile -s none -o numba_v3 -f true python3 icassp_numba_v3.py float32 2000 0"
   ]
  },
  {
   "cell_type": "code",
   "execution_count": null,
   "metadata": {},
   "outputs": [],
   "source": [
    "!nsys stats --report gpukernsum --report nvtxppsum numba_v3.qdrep"
   ]
  },
  {
   "cell_type": "code",
   "execution_count": null,
   "metadata": {},
   "outputs": [],
   "source": [
    "!nsys profile -s none -o numba_v3 -f true python3 icassp_numba_v3.py float64 2000 0"
   ]
  },
  {
   "cell_type": "code",
   "execution_count": null,
   "metadata": {},
   "outputs": [],
   "source": [
    "!nsys stats --report gpukernsum --report nvtxppsum numba_v3.qdrep"
   ]
  },
  {
   "source": [
    "### Single Precision\n",
    "|                       | Registers | JIT (ms) | Kernel (ms) | Speed Up |\n",
    "|:----------------------|:----------|:---------|:------------|:---------|\n",
    "| Scipy                 | -         | 3,472.8  | 3,469.3     | 1.0      |\n",
    "| Numba (Baseline)      |           | 440.9    | 2.3         | 1508.4   |\n",
    "| Numba (User Cache)    | 58        | 411.6    | 2.3         | 1508.4   |\n",
    "| Numba (Data Type)     | 40        | 424.8    | 2.1         |          |\n",
    "| Numba (Fast Math)     |           |          |             |          |\n",
    "| Numba (Max Registers) |           |          |             |          |\n",
    "\n",
    "### Double Precision\n",
    "|                       | Registers | JIT (ms) | Kernel (ms) | Speed Up |\n",
    "|:----------------------|:----------|:---------|:------------|:---------|\n",
    "| Scipy                 | -         | 3,470.9  | 3,470.3     | 1.0      |\n",
    "| Numba (Baseline)      | 66        | 410.4    | 3.2         | 1084.4   |\n",
    "| Numba (User Cache)    | 66        | 410.1    | 3.2         | 1084.4   |\n",
    "| Numba (Data Type)     | 58        | 434.1    | 3.2         |          |\n",
    "| Numba (Fast Math)     |           |          |             |          |\n",
    "| Numba (Max Registers) |           |          |             |          |"
   ],
   "cell_type": "markdown",
   "metadata": {}
  },
  {
   "source": [
    "### GPU Scenario #4\n",
    "1. Numba implementation of Lombscargle function\n",
    "2. Added user cache\n",
    "3. Specific functions per data type\n",
    "4. Utilize fast_math compiler flag"
   ],
   "cell_type": "markdown",
   "metadata": {}
  },
  {
   "cell_type": "code",
   "execution_count": null,
   "metadata": {},
   "outputs": [],
   "source": [
    "!nsys profile -s none -o numba_v4 -f true python3 icassp_numba_v4.py float32 2000 0"
   ]
  },
  {
   "cell_type": "code",
   "execution_count": null,
   "metadata": {},
   "outputs": [],
   "source": [
    "!nsys stats --report gpukernsum --report nvtxppsum numba_v4.qdrep"
   ]
  },
  {
   "cell_type": "code",
   "execution_count": null,
   "metadata": {},
   "outputs": [],
   "source": [
    "!nsys profile -s none -o numba_v4 -f true python3 icassp_numba_v4.py float64 2000 0"
   ]
  },
  {
   "cell_type": "code",
   "execution_count": null,
   "metadata": {},
   "outputs": [],
   "source": [
    "!nsys stats --report gpukernsum --report nvtxppsum numba_v4.qdrep"
   ]
  },
  {
   "source": [
    "### Single Precision\n",
    "|                       | Registers | JIT (ms) | Kernel (ms) | Speed Up |\n",
    "|:----------------------|:----------|:---------|:------------|:---------|\n",
    "| Scipy                 | -         | 3,472.8  | 3,469.3     | 1.0      |\n",
    "| Numba (Baseline)      |           | 440.9    | 2.3         | 1508.4   |\n",
    "| Numba (User Cache)    | 58        | 411.6    | 2.3         | 1508.4   |\n",
    "| Numba (Data Type)     |           |          |             |          |\n",
    "| Numba (Fast Math)     |           |          |             |          |\n",
    "| Numba (Max Registers) |           |          |             |          |\n",
    "\n",
    "### Double Precision\n",
    "|                       | Registers | JIT (ms) | Kernel (ms) | Speed Up |\n",
    "|:----------------------|:----------|:---------|:------------|:---------|\n",
    "| Scipy                 | -         | 3,470.9  | 3,470.3     | 1.0      |\n",
    "| Numba (Baseline)      | 66        | 410.4    | 3.2         | 1084.4   |\n",
    "| Numba (User Cache)    | 66        | 410.1    | 3.2         | 1084.4   |\n",
    "| Numba (Data Type)     |           |          |             |          |\n",
    "| Numba (Fast Math)     |           |          |             |          |\n",
    "| Numba (Max Registers) |           |          |             |          |"
   ],
   "cell_type": "markdown",
   "metadata": {}
  },
  {
   "source": [
    "### GPU Scenario #5\n",
    "1. Numba implementation of Lombscargle function\n",
    "2. Added user cache\n",
    "3. Specific functions per data type\n",
    "4. Utilize fast_math compiler flag\n",
    "5. Utilize max registers compiler switch\n"
   ],
   "cell_type": "markdown",
   "metadata": {}
  },
  {
   "cell_type": "code",
   "execution_count": null,
   "metadata": {},
   "outputs": [],
   "source": [
    "!nsys profile -s none -o numba_v5 -f true python3 icassp_numba_v5.py float32 2000 0"
   ]
  },
  {
   "cell_type": "code",
   "execution_count": null,
   "metadata": {},
   "outputs": [],
   "source": [
    "!nsys stats --report gpukernsum --report nvtxppsum numba_v5.qdrep"
   ]
  },
  {
   "cell_type": "code",
   "execution_count": null,
   "metadata": {},
   "outputs": [],
   "source": [
    "!nsys profile -s none -o numba_v5 -f true python3 icassp_numba_v5.py float64 2000 0"
   ]
  },
  {
   "cell_type": "code",
   "execution_count": null,
   "metadata": {},
   "outputs": [],
   "source": [
    "!nsys stats --report gpukernsum --report nvtxppsum numba_v5.qdrep"
   ]
  },
  {
   "source": [
    "### Single Precision\n",
    "|                       | Registers | JIT (ms) | Kernel (ms) | Speed Up |\n",
    "|:----------------------|:----------|:---------|:------------|:---------|\n",
    "| Scipy                 | -         | 3,472.8  | 3,469.3     | 1.0      |\n",
    "| Numba (Baseline)      |           | 440.9    | 2.3         | 1508.4   |\n",
    "| Numba (User Cache)    | 58        | 411.6    | 2.3         | 1508.4   |\n",
    "| Numba (Data Type)     |           |          |             |          |\n",
    "| Numba (Fast Math)     |           |          |             |          |\n",
    "| Numba (Max Registers) |           |          |             |          |\n",
    "\n",
    "### Double Precision\n",
    "|                       | Registers | JIT (ms) | Kernel (ms) | Speed Up |\n",
    "|:----------------------|:----------|:---------|:------------|:---------|\n",
    "| Scipy                 | -         | 3,470.9  | 3,470.3     | 1.0      |\n",
    "| Numba (Baseline)      | 66        | 410.4    | 3.2         | 1084.4   |\n",
    "| Numba (User Cache)    | 66        | 410.1    | 3.2         | 1084.4   |\n",
    "| Numba (Data Type)     |           |          |             |          |\n",
    "| Numba (Fast Math)     |           |          |             |          |\n",
    "| Numba (Max Registers) |           |          |             |          |"
   ],
   "cell_type": "markdown",
   "metadata": {}
  }
 ],
 "metadata": {
  "kernelspec": {
   "name": "cusignal2",
   "display_name": "cusignal2",
   "language": "python"
  },
  "metadata": {
   "interpreter": {
    "hash": "77515a835a6d03ede03a66fc7b5daab9e4030bb6d48be88f06bce96af54be83e"
   }
  }
 },
 "nbformat": 4,
 "nbformat_minor": 4
}