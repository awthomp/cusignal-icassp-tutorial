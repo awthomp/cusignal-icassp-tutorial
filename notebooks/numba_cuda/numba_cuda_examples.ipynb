{
 "cells": [
  {
   "source": [
    "# Hardware\n",
    "### DGX Station\n",
    "V100 SMX2 16GB\n",
    "\n",
    "Intel Xeon E5-2968 v4 @ 2.20GHz\n",
    "\n",
    "# Software\n",
    "CUDA 11.0\n",
    "\n",
    "cuSignal 0.19\n",
    "\n",
    "SciPy 1.6.3\n",
    "\n",
    "Numba 0.53.1\n",
    "\n",
    "# Profiling\n",
    "[Nsight Systems](https://docs.nvidia.com/nsight-systems/UserGuide/index.html)"
   ],
   "cell_type": "markdown",
   "metadata": {}
  },
  {
   "source": [
    "## CPU Baseline\n",
    "Baseline Scipy's Signal Lombscargle function"
   ],
   "cell_type": "markdown",
   "metadata": {}
  },
  {
   "cell_type": "code",
   "execution_count": 1,
   "metadata": {},
   "outputs": [
    {
     "output_type": "stream",
     "name": "stdout",
     "text": [
      "Warning: LBR backtrace method is not supported on this platform. DWARF backtrace method will be used.\n",
      "WARNING: Backtraces will not be collected because sampling is disabled.\n",
      "Collecting data...\n",
      "Processing events...\n",
      "Capturing symbol files...\n",
      "Saving temporary \"/tmp/nsys-report-a0a1-dd95-ddbd-66b2.qdstrm\" file to disk...\n",
      "Creating final output files...\n",
      "\n",
      "Processing [==============================================================100%]\n",
      "Saved report file to \"/tmp/nsys-report-a0a1-dd95-ddbd-66b2.qdrep\"\n",
      "Exporting 643836 events: [================================================100%]\n",
      "\n",
      "Exported successfully to\n",
      "/tmp/nsys-report-a0a1-dd95-ddbd-66b2.sqlite\n",
      "\n",
      "Generating CUDA API Statistics...\n",
      "CUDA API Statistics (nanoseconds)\n",
      "\n",
      "\n",
      "\n",
      "\n",
      "CUDA trace data was not collected.\n",
      "\n",
      "\n",
      "Generating Operating System Runtime API Statistics...\n",
      "Operating System Runtime API Statistics (nanoseconds)\n",
      "\n",
      "Time(%)      Total Time       Calls         Average         Minimum         Maximum  Name                                                                            \n",
      "-------  --------------  ----------  --------------  --------------  --------------  --------------------------------------------------------------------------------\n",
      "   98.9      1290356236      641357          2011.9            1000         5836680  sched_yield                                                                     \n",
      "    0.4         5713904         717          7969.2            1006          168958  read                                                                            \n",
      "    0.2         3251910         628          5178.2            3503           14595  open64                                                                          \n",
      "    0.2         2268756         150         15125.0            2752           91849  munmap                                                                          \n",
      "    0.1         1598286          39         40981.7           22800          104256  pthread_create                                                                  \n",
      "    0.1         1363863         236          5779.1            1002           77617  mmap64                                                                          \n",
      "    0.0          352278          39          9032.8            1750           44135  mmap                                                                            \n",
      "    0.0           11209           3          3736.3            2305            4594  fopen64                                                                         \n",
      "    0.0            4349           1          4349.0            4349            4349  fread                                                                           \n",
      "    0.0            4218           3          1406.0            1128            1736  sigaction                                                                       \n",
      "    0.0            3490           2          1745.0            1192            2298  pthread_cond_signal                                                             \n",
      "    0.0            3410           1          3410.0            3410            3410  fclose                                                                          \n",
      "    0.0            2463           2          1231.5            1222            1241  fcntl                                                                           \n",
      "    0.0            1426           1          1426.0            1426            1426  dup                                                                             \n",
      "\n",
      "\n",
      "\n",
      "\n",
      "Generating NVTX Push-Pop Range Statistics...\n",
      "NVTX Push-Pop Range Statistics (nanoseconds)\n",
      "\n",
      "Time(%)      Total Time   Instances         Average         Minimum         Maximum  Range                    \n",
      "-------  --------------  ----------  --------------  --------------  --------------  -------------------------\n",
      "   83.3    254594831783           5   50918966356.6     50795681446     51010550943  scipy_lombscargle_loop   \n",
      "   16.7     50941757313           1   50941757313.0     50941757313     50941757313  scipy_lombscargle        \n",
      "\n",
      "\n",
      "\n",
      "Report file moved to \"/home/odysseus/workStuff/cusignal-icassp-tutorial/notebooks/numba_cuda/scipy_v1.qdrep\"\n",
      "Report file moved to \"/home/odysseus/workStuff/cusignal-icassp-tutorial/notebooks/numba_cuda/scipy_v1.sqlite\"\n"
     ]
    }
   ],
   "source": [
    "!nsys profile -s none -o scipy_v1 -f true --stats=true python3 icassp_scipy_v1.py float32 5"
   ]
  },
  {
   "source": [
    "### Single Precision\n",
    "|                       | Registers | JIT (ms) | Kernel (ms) | Speed Up |\n",
    "|:----------------------|:----------|:---------|:------------|:---------|\n",
    "| Scipy                 | -         | 50,987.8 | 51,098.9    | 1.0      |\n",
    "| Numba (Baseline)      |           |          |             |          |\n",
    "| Numba (User Cache)    |           |          |             |          |\n",
    "| Numba (Data Type)     |           |          |             |          |\n",
    "| Numba (Fast Math)     |           |          |             |          |\n",
    "| Numba (Max Registers) |           |          |             |          |"
   ],
   "cell_type": "markdown",
   "metadata": {}
  },
  {
   "source": [
    "### Double Precision\n",
    "|                       | Registers | JIT (ms) | Kernel (ms) | Speed Up |\n",
    "|:----------------------|:----------|:---------|:------------|:---------|\n",
    "| Scipy                 | -         | 50,835.6 | 50,879.4    | 1.0      |\n",
    "| Numba (Baseline)      |           |          |             |          |\n",
    "| Numba (User Cache)    |           |          |             |          |\n",
    "| Numba (Data Type)     |           |          |             |          |\n",
    "| Numba (Fast Math)     |           |          |             |          |\n",
    "| Numba (Max Registers) |           |          |             |          |"
   ],
   "cell_type": "markdown",
   "metadata": {}
  },
  {
   "source": [
    "## GPU Scenario #1\n",
    "1. Numba implementation of Lombscargle function"
   ],
   "cell_type": "markdown",
   "metadata": {}
  },
  {
   "cell_type": "code",
   "execution_count": 2,
   "metadata": {},
   "outputs": [
    {
     "output_type": "stream",
     "name": "stdout",
     "text": [
      "Warning: LBR backtrace method is not supported on this platform. DWARF backtrace method will be used.\n",
      "WARNING: Backtraces will not be collected because sampling is disabled.\n",
      "Collecting data...\n",
      "Processing events...\n",
      "Capturing symbol files...\n",
      "Saving temporary \"/tmp/nsys-report-ff16-3ea3-093f-daa6.qdstrm\" file to disk...\n",
      "Creating final output files...\n",
      "\n",
      "Processing [==============================================================100%]\n",
      "Saved report file to \"/tmp/nsys-report-ff16-3ea3-093f-daa6.qdrep\"\n",
      "Exporting 658655 events: [================================================100%]\n",
      "\n",
      "Exported successfully to\n",
      "/tmp/nsys-report-ff16-3ea3-093f-daa6.sqlite\n",
      "\n",
      "Generating CUDA API Statistics...\n",
      "CUDA API Statistics (nanoseconds)\n",
      "\n",
      "Time(%)      Total Time       Calls         Average         Minimum         Maximum  Name                                                                            \n",
      "-------  --------------  ----------  --------------  --------------  --------------  --------------------------------------------------------------------------------\n",
      "   96.6     26863363272        2001      13424969.2        12898256        13497451  cuCtxSynchronize                                                                \n",
      "    1.9       527733336        4005        131768.6           10834        14797231  cuMemAlloc_v2                                                                   \n",
      "    1.3       364184075        4004         90955.1            7028         4761047  cuMemFree_v2                                                                    \n",
      "    0.1        41221956        2001         20600.7           19494           32829  cuLaunchKernel                                                                  \n",
      "    0.0          717054           1        717054.0          717054          717054  cuModuleLoadDataEx                                                              \n",
      "    0.0          555406           3        185135.3           17505          515041  cuMemcpyHtoD_v2                                                                 \n",
      "    0.0          174661           1        174661.0          174661          174661  cuLinkComplete                                                                  \n",
      "    0.0           54166           1         54166.0           54166           54166  cuLinkCreate_v2                                                                 \n",
      "    0.0           34967           1         34967.0           34967           34967  cuMemGetInfo_v2                                                                 \n",
      "    0.0            2800           1          2800.0            2800            2800  cuLinkDestroy                                                                   \n",
      "    0.0            2592           1          2592.0            2592            2592  cuInit                                                                          \n",
      "\n",
      "\n",
      "\n",
      "\n",
      "Generating CUDA Kernel Statistics...\n",
      "CUDA Kernel Statistics (nanoseconds)\n",
      "\n",
      "Time(%)      Total Time   Instances         Average         Minimum         Maximum  Name                                                                                                                                                                                                                                                                                                                                         \n",
      "-------  --------------  ----------  --------------  --------------  --------------  --------------------------------------------------------------------------------------------------------------------                                                                                                                                                                                                                         \n",
      "  100.0     26929874752        2001      13458208.3        12932078        13529040  cudapy::__main__::_numba_lombscargle$241(Array<float, 1, C, mutable, aligned>, Array<float, 1, C, mutable, aligned>, Array<float, 1, C, mutable, aligned>, Array<float, 1, C, mutable, aligned>, Array<float, 1, C, mutable, aligned>)                                                                                                       \n",
      "\n",
      "\n",
      "\n",
      "Generating CUDA Memory Operation Statistics...\n",
      "CUDA Memory Operation Statistics (nanoseconds)\n",
      "\n",
      "Time(%)      Total Time  Operations         Average         Minimum         Maximum  Name                                                                            \n",
      "-------  --------------  ----------  --------------  --------------  --------------  --------------------------------------------------------------------------------\n",
      "  100.0          461345           3        153781.7            1824          457281  [CUDA memcpy HtoD]                                                              \n",
      "\n",
      "\n",
      "CUDA Memory Operation Statistics (KiB)\n",
      "\n",
      "              Total      Operations              Average            Minimum              Maximum  Name                                                                            \n",
      "-------------------  --------------  -------------------  -----------------  -------------------  --------------------------------------------------------------------------------\n",
      "           4109.086               3             1369.695              6.543             4096.000  [CUDA memcpy HtoD]                                                              \n",
      "\n",
      "\n",
      "\n",
      "\n",
      "Generating Operating System Runtime API Statistics...\n",
      "Operating System Runtime API Statistics (nanoseconds)\n",
      "\n",
      "Time(%)      Total Time       Calls         Average         Minimum         Maximum  Name                                                                            \n",
      "-------  --------------  ----------  --------------  --------------  --------------  --------------------------------------------------------------------------------\n",
      "   39.4     29631038951         309      95893329.9           15746       100072963  sem_timedwait                                                                   \n",
      "   39.3     29533904672         308      95889300.9           22155       100128823  poll                                                                            \n",
      "   18.2     13652243826          39     350057534.0       310254885       361646309  pthread_cond_wait                                                               \n",
      "    1.9      1394816633      621015          2246.0            1000         8120176  sched_yield                                                                     \n",
      "    1.2       904119244       15076         59970.8            1031        76435078  ioctl                                                                           \n",
      "    0.0        34015717        1202         28299.3            1000        20570965  read                                                                            \n",
      "    0.0         9860314           1       9860314.0         9860314         9860314  fork                                                                            \n",
      "    0.0         6506360        1072          6069.4            3092           78461  open64                                                                          \n",
      "    0.0         5400070          37        145947.8            5367         4843836  pthread_join                                                                    \n",
      "    0.0         3307207         135         24497.8            1663         1056775  mmap                                                                            \n",
      "    0.0         2307538         200         11537.7            1843          124229  munmap                                                                          \n",
      "    0.0         2141256          43         49796.7           20429          242273  pthread_create                                                                  \n",
      "    0.0         1775674         351          5058.9            1011          138530  mmap64                                                                          \n",
      "    0.0          545624           1        545624.0          545624          545624  waitpid                                                                         \n",
      "    0.0          255468          36          7096.3            1440           82861  fopen                                                                           \n",
      "    0.0          190774          52          3668.7            1251            7811  pthread_cond_signal                                                             \n",
      "    0.0          188685           3         62895.0           60815           67018  fgets                                                                           \n",
      "    0.0          117578           6         19596.3            3815           81898  open                                                                            \n",
      "    0.0           75854          33          2298.6            1189            8717  fclose                                                                          \n",
      "    0.0           69003          13          5307.9            3110            7118  write                                                                           \n",
      "    0.0           42391           7          6055.9            3415            8949  fread                                                                           \n",
      "    0.0           24185          18          1343.6            1000            3915  fcntl                                                                           \n",
      "    0.0           19009           3          6336.3            3272            8681  pipe2                                                                           \n",
      "    0.0           16591           3          5530.3            1773           11085  mprotect                                                                        \n",
      "    0.0           15976           1         15976.0           15976           15976  sem_wait                                                                        \n",
      "    0.0           14419           2          7209.5            4425            9994  socket                                                                          \n",
      "    0.0           10635           3          3545.0            2436            4928  fopen64                                                                         \n",
      "    0.0            9319           1          9319.0            9319            9319  connect                                                                         \n",
      "    0.0            3106           2          1553.0            1251            1855  sigaction                                                                       \n",
      "    0.0            2292           1          2292.0            2292            2292  fputs_unlocked                                                                  \n",
      "    0.0            2240           1          2240.0            2240            2240  bind                                                                            \n",
      "    0.0            1987           1          1987.0            1987            1987  pthread_mutex_lock                                                              \n",
      "    0.0            1365           1          1365.0            1365            1365  dup                                                                             \n",
      "    0.0            1131           1          1131.0            1131            1131  listen                                                                          \n",
      "\n",
      "\n",
      "\n",
      "\n",
      "Generating NVTX Push-Pop Range Statistics...\n",
      "NVTX Push-Pop Range Statistics (nanoseconds)\n",
      "\n",
      "Time(%)      Total Time   Instances         Average         Minimum         Maximum  Range                    \n",
      "-------  --------------  ----------  --------------  --------------  --------------  -------------------------\n",
      "   98.5     28684597072        2000      14342298.5        13629264        29948896  numba_lombscargle_loop   \n",
      "    1.5       432530589           1     432530589.0       432530589       432530589  numba_lombscargle        \n",
      "\n",
      "\n",
      "\n",
      "Report file moved to \"/home/odysseus/workStuff/cusignal-icassp-tutorial/notebooks/numba_cuda/numba_v1.qdrep\"\n",
      "Report file moved to \"/home/odysseus/workStuff/cusignal-icassp-tutorial/notebooks/numba_cuda/numba_v1.sqlite\"\n"
     ]
    }
   ],
   "source": [
    "!nsys profile -s none -o numba_v1 -f true --stats=true python3 icassp_numba_v1.py float32 2000 0"
   ]
  },
  {
   "cell_type": "code",
   "execution_count": 3,
   "metadata": {
    "tags": []
   },
   "outputs": [
    {
     "output_type": "stream",
     "name": "stdout",
     "text": [
      "Using numba_v1.sqlite file for stats and reports.\nExporting [/opt/nvidia/nsight-systems/2020.3.2/target-linux-x64/reports/gpukernsum numba_v1.sqlite] to console... \n\n Time(%)  Total Time (ns)  Instances    Average      Minimum     Maximum                                                    Name                                                \n -------  ---------------  ---------  ------------  ----------  ----------  ----------------------------------------------------------------------------------------------------\n   100.0   26,929,874,752      2,001  13,458,208.3  12,932,078  13,529,040  cudapy::__main__::_numba_lombscargle$241(Array<float, 1, C, mutable, aligned>, Array<float, 1, C, m…\n\nExporting [/opt/nvidia/nsight-systems/2020.3.2/target-linux-x64/reports/nvtxppsum numba_v1.sqlite] to console... \n\n Time(%)  Total Time (ns)  Instances     Average       Minimum      Maximum            Range         \n -------  ---------------  ---------  -------------  -----------  -----------  ----------------------\n    98.5   28,684,597,072      2,000   14,342,298.5   13,629,264   29,948,896  numba_lombscargle_loop\n     1.5      432,530,589          1  432,530,589.0  432,530,589  432,530,589  numba_lombscargle     \n\n"
     ]
    }
   ],
   "source": [
    "#!nsys stats --report gpukernsum --report nvtxppsum --report gputrace numba_v1.qdrep # Use to get register usage\n",
    "!nsys stats --report gpukernsum --report nvtxppsum numba_v1.qdrep"
   ]
  },
  {
   "source": [
    "### Single Precision\n",
    "|                       | Registers | JIT (ms) | Kernel (ms) | Speed Up |\n",
    "|:----------------------|:----------|:---------|:------------|:---------|\n",
    "| Scipy                 | -         | 50,987.8 | 51,098.9    | 1.0      |\n",
    "| Numba (Baseline)      | 58        | 428.9    | 16.0        | 3193.7   |\n",
    "| Numba (User Cache)    |           |          |             |          |\n",
    "| Numba (Data Type)     |           |          |             |          |\n",
    "| Numba (Fast Math)     |           |          |             |          |\n",
    "| Numba (Max Registers) |           |          |             |          |\n"
   ],
   "cell_type": "markdown",
   "metadata": {}
  },
  {
   "source": [
    "### Double Precision\n",
    "|                       | Registers | JIT (ms) | Kernel (ms) | Speed Up |\n",
    "|:----------------------|:----------|:---------|:------------|:---------|\n",
    "| Scipy                 | -         | 50,835.6 | 50,879.4    | 1.0      |\n",
    "| Numba (Baseline)      | 66        | 421.7    | 29.6        | 1718.9   |\n",
    "| Numba (User Cache)    |           |          |             |          |\n",
    "| Numba (Data Type)     |           |          |             |          |\n",
    "| Numba (Fast Math)     |           |          |             |          |\n",
    "| Numba (Max Registers) |           |          |             |          |"
   ],
   "cell_type": "markdown",
   "metadata": {}
  },
  {
   "source": [
    "## GPU Scenario #2\n",
    "1. Numba implementation of Lombscargle function\n",
    "2. Added user cache"
   ],
   "cell_type": "markdown",
   "metadata": {}
  },
  {
   "cell_type": "code",
   "execution_count": 4,
   "metadata": {},
   "outputs": [
    {
     "output_type": "stream",
     "name": "stdout",
     "text": [
      "Warning: LBR backtrace method is not supported on this platform. DWARF backtrace method will be used.\n",
      "WARNING: Backtraces will not be collected because sampling is disabled.\n",
      "Collecting data...\n",
      "Registers 58\n",
      "Processing events...\n",
      "Capturing symbol files...\n",
      "Saving temporary \"/tmp/nsys-report-da44-82eb-1e84-d47c.qdstrm\" file to disk...\n",
      "Creating final output files...\n",
      "\n",
      "Processing [==============================================================100%]\n",
      "Saved report file to \"/tmp/nsys-report-da44-82eb-1e84-d47c.qdrep\"\n",
      "Report file moved to \"/home/odysseus/workStuff/cusignal-icassp-tutorial/notebooks/numba_cuda/numba_v2.qdrep\"\n"
     ]
    }
   ],
   "source": [
    "!nsys profile -s none -o numba_v2 -f true python3 icassp_numba_v2.py float32 2000 0"
   ]
  },
  {
   "cell_type": "code",
   "execution_count": 5,
   "metadata": {},
   "outputs": [
    {
     "output_type": "stream",
     "name": "stdout",
     "text": [
      "Generate SQLite file numba_v2.sqlite from numba_v2.qdrep\n",
      "Exporting 665967 events: [================================================100%]\n",
      "Using numba_v2.sqlite file for stats and reports.\n",
      "Exporting [/opt/nvidia/nsight-systems/2020.3.2/target-linux-x64/reports/gpukernsum numba_v2.sqlite] to console... \n",
      "\n",
      " Time(%)  Total Time (ns)  Instances    Average      Minimum     Maximum                                                    Name                                                \n",
      " -------  ---------------  ---------  ------------  ----------  ----------  ----------------------------------------------------------------------------------------------------\n",
      "   100.0   26,937,979,145      2,001  13,462,258.4  12,938,960  13,901,395  cudapy::__main__::_numba_lombscargle$241(Array<float, 1, C, mutable, aligned>, Array<float, 1, C, m…\n",
      "\n",
      "Exporting [/opt/nvidia/nsight-systems/2020.3.2/target-linux-x64/reports/nvtxppsum numba_v2.sqlite] to console... \n",
      "\n",
      " Time(%)  Total Time (ns)  Instances     Average       Minimum      Maximum            Range         \n",
      " -------  ---------------  ---------  -------------  -----------  -----------  ----------------------\n",
      "    98.5   28,667,270,320      2,000   14,333,635.2   13,630,742   30,264,781  numba_lombscargle_loop\n",
      "     1.5      428,409,614          1  428,409,614.0  428,409,614  428,409,614  numba_lombscargle     \n",
      "\n"
     ]
    }
   ],
   "source": [
    "!nsys stats --report gpukernsum --report nvtxppsum numba_v2.qdrep"
   ]
  },
  {
   "source": [
    "### Single Precision\n",
    "|                       | Registers | JIT (ms) | Kernel (ms) | Speed Up |\n",
    "|:----------------------|:----------|:---------|:------------|:---------|\n",
    "| Scipy                 | -         | 50,987.8 | 51,098.9    | 1.0      |\n",
    "| Numba (Baseline)      | 58        | 428.9    | 16.0        | 3193.7   |\n",
    "| Numba (User Cache)    | 58        | 431.6    | 16.1        | 3173.8   |\n",
    "| Numba (Data Type)     |           |          |             |          |\n",
    "| Numba (Fast Math)     |           |          |             |          |\n",
    "| Numba (Max Registers) |           |          |             |          |"
   ],
   "cell_type": "markdown",
   "metadata": {}
  },
  {
   "source": [
    "### Double Precision\n",
    "|                       | Registers | JIT (ms) | Kernel (ms) | Speed Up |\n",
    "|:----------------------|:----------|:---------|:------------|:---------|\n",
    "| Scipy                 | -         | 50,835.6 | 50,879.4    | 1.0      |\n",
    "| Numba (Baseline)      | 66        | 421.7    | 29.6        | 1718.9   |\n",
    "| Numba (User Cache)    | 66        | 428.5    | 29.4        | 1730.6   |\n",
    "| Numba (Data Type)     |           |          |             |          |\n",
    "| Numba (Fast Math)     |           |          |             |          |\n",
    "| Numba (Max Registers) |           |          |             |          |"
   ],
   "cell_type": "markdown",
   "metadata": {}
  },
  {
   "source": [
    "## GPU Scenario #3\n",
    "1. Numba implementation of Lombscargle function\n",
    "2. Added user cache\n",
    "3. Specific functions per data type"
   ],
   "cell_type": "markdown",
   "metadata": {}
  },
  {
   "cell_type": "code",
   "execution_count": 6,
   "metadata": {},
   "outputs": [
    {
     "output_type": "stream",
     "name": "stdout",
     "text": [
      "Warning: LBR backtrace method is not supported on this platform. DWARF backtrace method will be used.\n",
      "WARNING: Backtraces will not be collected because sampling is disabled.\n",
      "Collecting data...\n",
      "Registers 40\n",
      "Processing events...\n",
      "Capturing symbol files...\n",
      "Saving temporary \"/tmp/nsys-report-4f00-3887-9db4-2448.qdstrm\" file to disk...\n",
      "Creating final output files...\n",
      "\n",
      "Processing [==============================================================100%]\n",
      "Saved report file to \"/tmp/nsys-report-4f00-3887-9db4-2448.qdrep\"\n",
      "Report file moved to \"/home/odysseus/workStuff/cusignal-icassp-tutorial/notebooks/numba_cuda/numba_v3.qdrep\"\n"
     ]
    }
   ],
   "source": [
    "!nsys profile -s none -o numba_v3 -f true python3 icassp_numba_v3.py float32 2000 0"
   ]
  },
  {
   "cell_type": "code",
   "execution_count": 7,
   "metadata": {},
   "outputs": [
    {
     "output_type": "stream",
     "name": "stdout",
     "text": [
      "Generate SQLite file numba_v3.sqlite from numba_v3.qdrep\n",
      "Exporting 681505 events: [================================================100%]\n",
      "Using numba_v3.sqlite file for stats and reports.\n",
      "Exporting [/opt/nvidia/nsight-systems/2020.3.2/target-linux-x64/reports/gpukernsum numba_v3.sqlite] to console... \n",
      "\n",
      " Time(%)  Total Time (ns)  Instances    Average      Minimum     Maximum                                                    Name                                                \n",
      " -------  ---------------  ---------  ------------  ----------  ----------  ----------------------------------------------------------------------------------------------------\n",
      "   100.0   21,979,219,486      2,001  10,984,117.7  10,663,816  11,620,523  cudapy::__main__::_numba_lombscargle_32$241(Array<float, 1, C, mutable, aligned>, Array<float, 1, C…\n",
      "\n",
      "Exporting [/opt/nvidia/nsight-systems/2020.3.2/target-linux-x64/reports/nvtxppsum numba_v3.sqlite] to console... \n",
      "\n",
      " Time(%)  Total Time (ns)  Instances     Average       Minimum      Maximum            Range         \n",
      " -------  ---------------  ---------  -------------  -----------  -----------  ----------------------\n",
      "    98.1   23,762,445,035      2,000   11,881,222.5   11,327,574   26,818,012  numba_lombscargle_loop\n",
      "     1.9      451,058,751          1  451,058,751.0  451,058,751  451,058,751  numba_lombscargle     \n",
      "\n"
     ]
    }
   ],
   "source": [
    "!nsys stats --report gpukernsum --report nvtxppsum numba_v3.qdrep"
   ]
  },
  {
   "source": [
    "### Single Precision\n",
    "|                       | Registers | JIT (ms) | Kernel (ms) | Speed Up |\n",
    "|:----------------------|:----------|:---------|:------------|:---------|\n",
    "| Scipy                 | -         | 50,987.8 | 51,098.9    | 1.0      |\n",
    "| Numba (Baseline)      | 58        | 428.9    | 16.0        | 3193.7   |\n",
    "| Numba (User Cache)    | 58        | 431.6    | 16.1        | 3173.8   |\n",
    "| Numba (Data Type)     | 40        | 554.9    | 13.3        | 3842.0   |\n",
    "| Numba (Fast Math)     |           |          |             |          |\n",
    "| Numba (Max Registers) |           |          |             |          |"
   ],
   "cell_type": "markdown",
   "metadata": {}
  },
  {
   "source": [
    "### Double Precision\n",
    "|                       | Registers | JIT (ms) | Kernel (ms) | Speed Up |\n",
    "|:----------------------|:----------|:---------|:------------|:---------|\n",
    "| Scipy                 | -         | 50,835.6 | 50,879.4    | 1.0      |\n",
    "| Numba (Baseline)      | 66        | 421.7    | 29.6        | 1718.9   |\n",
    "| Numba (User Cache)    | 66        | 428.5    | 29.4        | 1730.6   |\n",
    "| Numba (Data Type)     | 58        | 428.9    | 29.2        | 1742.4   |\n",
    "| Numba (Fast Math)     |           |          |             |          |\n",
    "| Numba (Max Registers) |           |          |             |          |"
   ],
   "cell_type": "markdown",
   "metadata": {}
  },
  {
   "source": [
    "## GPU Scenario #4\n",
    "1. Numba implementation of Lombscargle function\n",
    "2. Added user cache\n",
    "3. Specific functions per data type\n",
    "4. Utilize fast_math compiler flag"
   ],
   "cell_type": "markdown",
   "metadata": {}
  },
  {
   "cell_type": "code",
   "execution_count": 8,
   "metadata": {},
   "outputs": [
    {
     "output_type": "stream",
     "name": "stdout",
     "text": [
      "Warning: LBR backtrace method is not supported on this platform. DWARF backtrace method will be used.\n",
      "WARNING: Backtraces will not be collected because sampling is disabled.\n",
      "Collecting data...\n",
      "Registers 35\n",
      "Processing events...\n",
      "Capturing symbol files...\n",
      "Saving temporary \"/tmp/nsys-report-9b55-f5fc-3916-fb5b.qdstrm\" file to disk...\n",
      "Creating final output files...\n",
      "\n",
      "Processing [==============================================================100%]\n",
      "Saved report file to \"/tmp/nsys-report-9b55-f5fc-3916-fb5b.qdrep\"\n",
      "Report file moved to \"/home/odysseus/workStuff/cusignal-icassp-tutorial/notebooks/numba_cuda/numba_v4.qdrep\"\n"
     ]
    }
   ],
   "source": [
    "!nsys profile -s none -o numba_v4 -f true python3 icassp_numba_v4.py float32 2000 0"
   ]
  },
  {
   "cell_type": "code",
   "execution_count": 9,
   "metadata": {},
   "outputs": [
    {
     "output_type": "stream",
     "name": "stdout",
     "text": [
      "Generate SQLite file numba_v4.sqlite from numba_v4.qdrep\n",
      "Exporting 664510 events: [================================================100%]\n",
      "Using numba_v4.sqlite file for stats and reports.\n",
      "Exporting [/opt/nvidia/nsight-systems/2020.3.2/target-linux-x64/reports/gpukernsum numba_v4.sqlite] to console... \n",
      "\n",
      " Time(%)  Total Time (ns)  Instances    Average      Minimum     Maximum                                                    Name                                                \n",
      " -------  ---------------  ---------  ------------  ----------  ----------  ----------------------------------------------------------------------------------------------------\n",
      "   100.0   21,834,204,824      2,001  10,911,646.6  10,656,904  11,666,092  cudapy::__main__::_numba_lombscargle_32$241(Array<float, 1, C, mutable, aligned>, Array<float, 1, C…\n",
      "\n",
      "Exporting [/opt/nvidia/nsight-systems/2020.3.2/target-linux-x64/reports/nvtxppsum numba_v4.sqlite] to console... \n",
      "\n",
      " Time(%)  Total Time (ns)  Instances     Average       Minimum      Maximum            Range         \n",
      " -------  ---------------  ---------  -------------  -----------  -----------  ----------------------\n",
      "    98.1   23,637,521,149      2,000   11,818,760.6   11,321,280   38,041,954  numba_lombscargle_loop\n",
      "     1.9      450,007,387          1  450,007,387.0  450,007,387  450,007,387  numba_lombscargle     \n",
      "\n"
     ]
    }
   ],
   "source": [
    "!nsys stats --report gpukernsum --report nvtxppsum numba_v4.qdrep"
   ]
  },
  {
   "source": [
    "### Single Precision\n",
    "|                       | Registers | JIT (ms) | Kernel (ms) | Speed Up |\n",
    "|:----------------------|:----------|:---------|:------------|:---------|\n",
    "| Scipy                 | -         | 50,987.8 | 51,098.9    | 1.0      |\n",
    "| Numba (Baseline)      | 58        | 428.9    | 16.0        | 3193.7   |\n",
    "| Numba (User Cache)    | 58        | 431.6    | 16.1        | 3173.8   |\n",
    "| Numba (Data Type)     | 40        | 554.9    | 13.3        | 3842.0   |\n",
    "| Numba (Fast Math)     | 35        | 442.9    | 13.1        | 3900.7   |\n",
    "| Numba (Max Registers) |           |          |             |          |"
   ],
   "cell_type": "markdown",
   "metadata": {}
  },
  {
   "source": [
    "### Double Precision\n",
    "|                       | Registers | JIT (ms) | Kernel (ms) | Speed Up |\n",
    "|:----------------------|:----------|:---------|:------------|:---------|\n",
    "| Scipy                 | -         | 50,835.6 | 50,879.4    | 1.0      |\n",
    "| Numba (Baseline)      | 66        | 421.7    | 29.6        | 1718.9   |\n",
    "| Numba (User Cache)    | 66        | 428.5    | 29.4        | 1730.6   |\n",
    "| Numba (Data Type)     | 58        | 428.9    | 29.2        | 1742.4   |\n",
    "| Numba (Fast Math)     | 58        | 507.3    | 29.1        | 1748.4   |\n",
    "| Numba (Max Registers) |           |          |             |          |"
   ],
   "cell_type": "markdown",
   "metadata": {}
  },
  {
   "source": [
    "# GPU Scenario #5\n",
    "1. Numba implementation of Lombscargle function\n",
    "2. Added user cache\n",
    "3. Specific functions per data type\n",
    "4. Utilize fast_math compiler flag\n",
    "5. Utilize max registers compiler switch\n"
   ],
   "cell_type": "markdown",
   "metadata": {}
  },
  {
   "cell_type": "code",
   "execution_count": 10,
   "metadata": {},
   "outputs": [
    {
     "output_type": "stream",
     "name": "stdout",
     "text": [
      "Warning: LBR backtrace method is not supported on this platform. DWARF backtrace method will be used.\n",
      "WARNING: Backtraces will not be collected because sampling is disabled.\n",
      "Collecting data...\n",
      "Registers 32\n",
      "Processing events...\n",
      "Capturing symbol files...\n",
      "Saving temporary \"/tmp/nsys-report-525c-d8da-e12b-ef07.qdstrm\" file to disk...\n",
      "Creating final output files...\n",
      "\n",
      "Processing [==============================================================100%]\n",
      "Saved report file to \"/tmp/nsys-report-525c-d8da-e12b-ef07.qdrep\"\n",
      "Report file moved to \"/home/odysseus/workStuff/cusignal-icassp-tutorial/notebooks/numba_cuda/numba_v5.qdrep\"\n"
     ]
    }
   ],
   "source": [
    "!nsys profile -s none -o numba_v5 -f true python3 icassp_numba_v5.py float32 2000 0"
   ]
  },
  {
   "cell_type": "code",
   "execution_count": 11,
   "metadata": {},
   "outputs": [
    {
     "output_type": "stream",
     "name": "stdout",
     "text": [
      "Generate SQLite file numba_v5.sqlite from numba_v5.qdrep\n",
      "Exporting 640656 events: [================================================100%]\n",
      "Using numba_v5.sqlite file for stats and reports.\n",
      "Exporting [/opt/nvidia/nsight-systems/2020.3.2/target-linux-x64/reports/gpukernsum numba_v5.sqlite] to console... \n",
      "\n",
      " Time(%)  Total Time (ns)  Instances    Average      Minimum     Maximum                                                    Name                                                \n",
      " -------  ---------------  ---------  ------------  ----------  ----------  ----------------------------------------------------------------------------------------------------\n",
      "   100.0   21,775,858,592      2,001  10,882,488.1  10,468,520  11,332,043  cudapy::__main__::_numba_lombscargle_32$241(Array<float, 1, C, mutable, aligned>, Array<float, 1, C…\n",
      "\n",
      "Exporting [/opt/nvidia/nsight-systems/2020.3.2/target-linux-x64/reports/nvtxppsum numba_v5.sqlite] to console... \n",
      "\n",
      " Time(%)  Total Time (ns)  Instances     Average       Minimum      Maximum            Range         \n",
      " -------  ---------------  ---------  -------------  -----------  -----------  ----------------------\n",
      "    98.2   23,518,394,340      2,000   11,759,197.2   11,132,735   28,811,221  numba_lombscargle_loop\n",
      "     1.8      440,140,937          1  440,140,937.0  440,140,937  440,140,937  numba_lombscargle     \n",
      "\n"
     ]
    }
   ],
   "source": [
    "!nsys stats --report gpukernsum --report nvtxppsum numba_v5.qdrep"
   ]
  },
  {
   "source": [
    "### Single Precision\n",
    "|                       | Registers | JIT (ms) | Kernel (ms) | Speed Up |\n",
    "|:----------------------|:----------|:---------|:------------|:---------|\n",
    "| Scipy                 | -         | 50,987.8 | 51,098.9    | 1.0      |\n",
    "| Numba (Baseline)      | 58        | 428.9    | 16.0        | 3193.7   |\n",
    "| Numba (User Cache)    | 58        | 431.6    | 16.1        | 3173.8   |\n",
    "| Numba (Data Type)     | 40        | 554.9    | 13.3        | 3842.0   |\n",
    "| Numba (Fast Math)     | 35        | 442.9    | 13.1        | 3900.7   |\n",
    "| Numba (Max Registers) | 32        | 439.4    | 13.1        | 3900.7   |"
   ],
   "cell_type": "markdown",
   "metadata": {}
  },
  {
   "source": [
    "### Double Precision\n",
    "|                       | Registers | JIT (ms) | Kernel (ms) | Speed Up |\n",
    "|:----------------------|:----------|:---------|:------------|:---------|\n",
    "| Scipy                 | -         | 50,835.6 | 50,879.4    | 1.0      |\n",
    "| Numba (Baseline)      | 66        | 421.7    | 29.6        | 1718.9   |\n",
    "| Numba (User Cache)    | 66        | 428.5    | 29.4        | 1730.6   |\n",
    "| Numba (Data Type)     | 58        | 428.9    | 29.2        | 1742.4   |\n",
    "| Numba (Fast Math)     | 58        | 507.3    | 29.1        | 1748.4   |\n",
    "| Numba (Max Registers) | 62        | 449.2    | 29.5        | 1724.7   |"
   ],
   "cell_type": "markdown",
   "metadata": {}
  }
 ],
 "metadata": {
  "kernelspec": {
   "name": "cusignal2",
   "display_name": "cusignal2",
   "language": "python"
  },
  "metadata": {
   "interpreter": {
    "hash": "77515a835a6d03ede03a66fc7b5daab9e4030bb6d48be88f06bce96af54be83e"
   }
  }
 },
 "nbformat": 4,
 "nbformat_minor": 4
}