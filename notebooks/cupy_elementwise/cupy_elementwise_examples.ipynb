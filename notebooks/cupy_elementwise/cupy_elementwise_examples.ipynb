{
 "cells": [
  {
   "cell_type": "markdown",
   "metadata": {
    "id": "v2cBNqxukZ0v"
   },
   "source": [
    "### Profile serial Python and Elementwise Kernel code"
   ]
  },
  {
   "cell_type": "code",
   "execution_count": null,
   "metadata": {
    "id": "SL8YsuRnkGS0"
   },
   "outputs": [],
   "source": [
    "!nsys profile --sample=none --trace=cuda,nvtx --stats=true python3 serial_python_v1.py 10"
   ]
  },
  {
   "cell_type": "code",
   "execution_count": null,
   "metadata": {
    "id": "jv5BVTyjkZVa"
   },
   "outputs": [],
   "source": [
    "!nsys profile --sample=none --trace=cuda,nvtx --stats=true python3 elementwise_kernel_cupy_v2.py 10"
   ]
  },
  {
   "cell_type": "code",
   "execution_count": null,
   "metadata": {},
   "outputs": [],
   "source": [
    "!nsys profile --sample=none --trace=cuda,nvtx --stats=true python3 elementwise_kernel_cupy_v2.py 10"
   ]
  }
 ],
 "metadata": {
  "colab": {
   "collapsed_sections": [],
   "name": "elementwise_kernel_example_1.ipynb",
   "provenance": []
  },
  "kernelspec": {
   "display_name": "Python 3",
   "language": "python",
   "name": "python3"
  },
  "language_info": {
   "codemirror_mode": {
    "name": "ipython",
    "version": 3
   },
   "file_extension": ".py",
   "mimetype": "text/x-python",
   "name": "python",
   "nbconvert_exporter": "python",
   "pygments_lexer": "ipython3",
   "version": "3.6.10"
  }
 },
 "nbformat": 4,
 "nbformat_minor": 1
}
