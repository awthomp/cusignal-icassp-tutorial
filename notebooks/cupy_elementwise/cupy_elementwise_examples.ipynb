{
  "nbformat": 4,
  "nbformat_minor": 0,
  "metadata": {
    "colab": {
      "name": "elementwise_kernel_example_1.ipynb",
      "provenance": [],
      "collapsed_sections": []
    },
    "kernelspec": {
      "name": "python3",
      "display_name": "Python 3"
    },
    "language_info": {
      "name": "python"
    }
  },
  "cells": [
    {
      "cell_type": "code",
      "metadata": {
        "id": "SL8YsuRnkGS0"
      },
      "source": [
        "import cupy as cp\n",
        "import cusignal \n",
        "from scipy import signal\n",
        "import numpy as np"
      ],
      "execution_count": null,
      "outputs": []
    },
    {
      "cell_type": "markdown",
      "metadata": {
        "id": "v2cBNqxukZ0v"
      },
      "source": [
        "### Elementwise Kernel"
      ]
    },
    {
      "cell_type": "code",
      "metadata": {
        "id": "jv5BVTyjkZVa"
      },
      "source": [
        "_gauss_spline_kernel = cp.ElementwiseKernel(\n",
        "    \"T x, int64 n\",\n",
        "    \"T output\",\n",
        "    \"\"\"\n",
        "    output = 1 / sqrt( 2.0 * M_PI * signsq ) \\\n",
        "        * exp( -( x * x ) * r_signsq );\n",
        "    \"\"\",\n",
        "    \"_gauss_spline_kernel\",\n",
        "    options=(\"-std=c++11\",),\n",
        "    loop_prep=\"const double signsq { ( n + 1 ) / 12.0 }; \\\n",
        "               const double r_signsq { 0.5 / signsq };\",\n",
        ")"
      ],
      "execution_count": null,
      "outputs": []
    },
    {
      "cell_type": "markdown",
      "metadata": {
        "id": "t69G33-dkkgb"
      },
      "source": [
        "### Call Kernel"
      ]
    },
    {
      "cell_type": "code",
      "metadata": {
        "id": "PynKLsCBkj2B"
      },
      "source": [
        "def gauss_spline(x, n):\n",
        "    kernel = module.get_function(\"_gauss_spline_kernel\")\n",
        "    print(kernel.num_regs)\n",
        "    return _gauss_spline_kernel(x, n)"
      ],
      "execution_count": null,
      "outputs": []
    },
    {
      "cell_type": "markdown",
      "metadata": {
        "id": "VtX8XnvZkqWS"
      },
      "source": [
        "### Generate Input Data\n"
      ]
    },
    {
      "cell_type": "code",
      "metadata": {
        "id": "Nfu87aurkt-p"
      },
      "source": [
        "def rand_data_gen_gpu(num_samps, dim=1, dtype=np.float64):\n",
        "    inp = tuple(np.ones(dim, dtype=int) * num_samps)\n",
        "    cpu_sig = np.random.random(inp)\n",
        "    cpu_sig = cpu_sig.astype(dtype)\n",
        "    gpu_sig = cp.asarray(cpu_sig)\n",
        "\n",
        "    return cpu_sig, gpu_sig\n"
      ],
      "execution_count": null,
      "outputs": []
    },
    {
      "cell_type": "code",
      "metadata": {
        "id": "mPxhypNil56l"
      },
      "source": [
        "def rand_data_gen_serial(num_samps, dim=1, dtype=np.float64):\n",
        "    inp = tuple(np.ones(dim, dtype=int) * num_samps)\n",
        "    cpu_sig = np.random.random(inp)\n",
        "    cpu_sig = cpu_sig.astype(dtype)\n",
        "\n",
        "    return cpu_sig\n"
      ],
      "execution_count": null,
      "outputs": []
    },
    {
      "cell_type": "markdown",
      "metadata": {
        "id": "OhYbMlE1kv6k"
      },
      "source": [
        "### Main function"
      ]
    },
    {
      "cell_type": "code",
      "metadata": {
        "id": "HBBNC1aFkxoD"
      },
      "source": [
        "def main():\n",
        "    loops = int(sys.argv[1])\n",
        "\n",
        "    n = np.random.randint(0, 1234)\n",
        "\n",
        "    num_samps = 2 ** 16\n",
        "    cpu_sig, gpu_sig = rand_data_gen_gpu(num_samps)\n",
        "    cpu_sig = rand_data_gen_serial(num_samps)"
      ],
      "execution_count": null,
      "outputs": []
    },
    {
      "cell_type": "markdown",
      "metadata": {
        "id": "ksJlJb8Ak2U9"
      },
      "source": [
        "#### Run baseline with scipy versionm"
      ]
    },
    {
      "cell_type": "code",
      "metadata": {
        "id": "zvY984qnk01Y"
      },
      "source": [
        "    with prof.time_range(\"scipy_gauss_spline\", 0):\n",
        "        cpu_gauss_spline = signal.gauss_spline(cpu_sig, n)"
      ],
      "execution_count": null,
      "outputs": []
    },
    {
      "cell_type": "markdown",
      "metadata": {
        "id": "tadLH1kDmrnm"
      },
      "source": [
        "#### Run Elementwise Kernel version"
      ]
    },
    {
      "cell_type": "code",
      "metadata": {
        "id": "SeHqkZIqmoc9"
      },
      "source": [
        "    with prof.time_range(\"cupy_gauss_spline\", 1):\n",
        "        gpu_gauss_spline = gauss_spline(gpu_sig, n)"
      ],
      "execution_count": null,
      "outputs": []
    },
    {
      "cell_type": "markdown",
      "metadata": {
        "id": "TcK2vBvlmyWn"
      },
      "source": [
        "#### Compare results"
      ]
    },
    {
      "cell_type": "code",
      "metadata": {
        "id": "ManHN09xm0zp"
      },
      "source": [
        "    np.testing.assert_allclose(\n",
        "        cpu_gauss_spline, cp.asnumpy(gpu_gauss_spline), 1e-3\n",
        "    )"
      ],
      "execution_count": null,
      "outputs": []
    },
    {
      "cell_type": "markdown",
      "metadata": {
        "id": "8C1uITEXm2OH"
      },
      "source": [
        "#### Run Elementwise Kernel version multiple times"
      ]
    },
    {
      "cell_type": "code",
      "metadata": {
        "id": "L2TLsss5m6ni"
      },
      "source": [
        "    for _ in range(loops):\n",
        "        with prof.time_range(\"cupy_gauss_spline_loop\", 2):\n",
        "            gpu_gauss_spline = gauss_spline(gpu_sig, n)\n",
        "            cp.cuda.runtime.deviceSynchronize()"
      ],
      "execution_count": null,
      "outputs": []
    },
    {
      "cell_type": "code",
      "metadata": {
        "id": "raYFqYwYm9Ck"
      },
      "source": [
        "if __name__ == \"__main__\":\n",
        "    sys.exit(main())"
      ],
      "execution_count": null,
      "outputs": []
    }
  ]
}